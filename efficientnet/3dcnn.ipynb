{
 "cells": [
  {
   "cell_type": "code",
   "execution_count": 1,
   "metadata": {},
   "outputs": [
    {
     "name": "stderr",
     "output_type": "stream",
     "text": [
      "Using TensorFlow backend.\n"
     ]
    }
   ],
   "source": [
    "import argparse\n",
    "import os\n",
    "\n",
    "import matplotlib\n",
    "matplotlib.use('AGG')\n",
    "import matplotlib.pyplot as plt\n",
    "import numpy as np\n",
    "from keras.datasets import cifar10\n",
    "from keras.layers import (Activation, Conv3D, Dense, Dropout, Flatten,\n",
    "                          MaxPooling3D)\n",
    "from keras.layers.advanced_activations import LeakyReLU\n",
    "from keras.losses import categorical_crossentropy\n",
    "from keras.models import Sequential\n",
    "from keras.optimizers import Adam\n",
    "from keras.utils import np_utils\n",
    "from keras.utils.vis_utils import plot_model\n",
    "from sklearn.model_selection import train_test_split\n",
    "from tqdm import tqdm\n",
    "\n",
    "import numpy as np\n",
    "import cv2"
   ]
  },
  {
   "cell_type": "code",
   "execution_count": 11,
   "metadata": {},
   "outputs": [],
   "source": [
    "batch = 15\n",
    "epoch = 50\n",
    "videos = \"/Users/gautamkarnataki/MIDS/w251/project/w251-project/data/raw\"\n",
    "#videos = \"/Users/gautamkarnataki/MIDS/w251/project/3dcnn/data/video_NEW3\"\n",
    "nclass = 19\n",
    "output = \"/Users/gautamkarnataki/MIDS/w251/project/3dcnn/3DCNN/3dcnnresult\"\n",
    "color = False\n",
    "skip = False\n",
    "depth = 10"
   ]
  },
  {
   "cell_type": "code",
   "execution_count": 12,
   "metadata": {},
   "outputs": [],
   "source": [
    "class Videoto3D:\n",
    "\n",
    "    def __init__(self, width, height, depth):\n",
    "        self.width = width\n",
    "        self.height = height\n",
    "        self.depth = depth\n",
    "\n",
    "    def video3d(self, filename, color=False, skip=True):\n",
    "        print('filename from videocapture = ', filename)\n",
    "        cap = cv2.VideoCapture(filename)\n",
    "        nframe = cap.get(cv2.CAP_PROP_FRAME_COUNT)\n",
    "        if skip:\n",
    "            frames = [x * nframe / self.depth for x in range(self.depth)]\n",
    "        else:\n",
    "            frames = [x for x in range(self.depth)]\n",
    "        framearray = []\n",
    "\n",
    "        for i in range(self.depth):\n",
    "            cap.set(cv2.CAP_PROP_POS_FRAMES, frames[i])\n",
    "            ret, frame = cap.read()\n",
    "            if ret:\n",
    "                frame = cv2.resize(frame, (self.height, self.width))\n",
    "                if color:\n",
    "                    framearray.append(frame)\n",
    "                else:\n",
    "                    framearray.append(cv2.cvtColor(frame, cv2.COLOR_BGR2GRAY))\n",
    "\n",
    "        cap.release()\n",
    "        return np.array(framearray)\n",
    "\n",
    "\n",
    "    def get_UCF_classname(self, filename):\n",
    "        string = filename[filename.find('-',3)+9:]\n",
    "        #print(\"class =========>\", string[:string.find('_')])\n",
    "        return string[:string.find('_')]"
   ]
  },
  {
   "cell_type": "code",
   "execution_count": 13,
   "metadata": {},
   "outputs": [],
   "source": [
    "def loaddata(video_dir, vid3d, nclass, result_dir, color=False, skip=True):\n",
    "    print('Inside load data -------------------------------')\n",
    "    files = os.listdir(video_dir)\n",
    "    X = []\n",
    "    labels = []\n",
    "    labellist = []\n",
    "\n",
    "    pbar = tqdm(total=len(files))\n",
    "\n",
    "    for filename in files:\n",
    "        pbar.update(1)\n",
    "        if filename == '.DS_Store':\n",
    "            continue\n",
    "        name = os.path.join(video_dir, filename)\n",
    "        label = vid3d.get_UCF_classname(filename)\n",
    "        if label not in labellist:\n",
    "            if len(labellist) >= nclass:\n",
    "                continue\n",
    "            labellist.append(label)\n",
    "        labels.append(label)\n",
    "        X.append(vid3d.video3d(name, color=color, skip=skip))\n",
    "\n",
    "    pbar.close()\n",
    "    print(\"result_dir==============>\", result_dir)\n",
    "    with open(os.path.join(result_dir, 'classes.txt'), 'w') as fp:\n",
    "        for i in range(len(labellist)):\n",
    "            print(\"label ============================= \", labellist[i])\n",
    "            fp.write('{}\\n'.format(labellist[i]))\n",
    "\n",
    "    for num, label in enumerate(labellist):\n",
    "        for i in range(len(labels)):\n",
    "            if label == labels[i]:\n",
    "                labels[i] = num\n",
    "    if color:\n",
    "        return np.array(X).transpose((0, 2, 3, 4, 1)), labels\n",
    "    else:\n",
    "        return np.array(X).transpose((0, 2, 3, 1)), labels"
   ]
  },
  {
   "cell_type": "code",
   "execution_count": 29,
   "metadata": {},
   "outputs": [
    {
     "name": "stderr",
     "output_type": "stream",
     "text": [
      "\n",
      "\n",
      "  0%|          | 0/156 [00:00<?, ?it/s]\u001b[A\u001b[A\n",
      "\n",
      "  2%|▏         | 3/156 [00:00<00:05, 25.89it/s]\u001b[A\u001b[A"
     ]
    },
    {
     "name": "stdout",
     "output_type": "stream",
     "text": [
      "Inside load data -------------------------------\n",
      "filename from videocapture =  /Users/gautamkarnataki/MIDS/w251/project/w251-project/data/raw/ASL_2011_06_08_Brady_scene33-camera1_DEPOSIT_v0_4_train.mov\n",
      "filename from videocapture =  /Users/gautamkarnataki/MIDS/w251/project/w251-project/data/raw/ASL_2011_06_08_Brady_scene25-camera1_CAN_v0_4_train.mov\n",
      "filename from videocapture =  /Users/gautamkarnataki/MIDS/w251/project/w251-project/data/raw/ASL_2011_06_08_Brady_scene29-camera1_CONFLICT_v0_4_train.mov\n",
      "filename from videocapture =  /Users/gautamkarnataki/MIDS/w251/project/w251-project/data/raw/ASL_2007_05_24_scene11-camera1_DOCTOR_v1_7_train.mov\n"
     ]
    },
    {
     "name": "stderr",
     "output_type": "stream",
     "text": [
      "\n",
      "\n",
      "  3%|▎         | 5/156 [00:00<00:07, 21.09it/s]\u001b[A\u001b[A\n",
      "\n",
      "  4%|▍         | 7/156 [00:00<00:08, 18.55it/s]\u001b[A\u001b[A"
     ]
    },
    {
     "name": "stdout",
     "output_type": "stream",
     "text": [
      "filename from videocapture =  /Users/gautamkarnataki/MIDS/w251/project/w251-project/data/raw/ASL_2008_01_11_scene81-camera1_COAT_v0_0_val.mov\n",
      "filename from videocapture =  /Users/gautamkarnataki/MIDS/w251/project/w251-project/data/raw/ASL_2008_05_12b_scene2-camera1_CONFLICT_v0_2_train.mov\n",
      "filename from videocapture =  /Users/gautamkarnataki/MIDS/w251/project/w251-project/data/raw/ASL_2008_01_18_scene24-camera1_DRESS_v1_3_val.mov\n"
     ]
    },
    {
     "name": "stderr",
     "output_type": "stream",
     "text": [
      "\n",
      "\n",
      "  6%|▌         | 9/156 [00:00<00:08, 17.12it/s]\u001b[A\u001b[A"
     ]
    },
    {
     "name": "stdout",
     "output_type": "stream",
     "text": [
      "filename from videocapture =  /Users/gautamkarnataki/MIDS/w251/project/w251-project/data/raw/ASL_2008_01_18_scene1-camera1_CHAT_v1_1_train.mov\n",
      "filename from videocapture =  /Users/gautamkarnataki/MIDS/w251/project/w251-project/data/raw/ASL_2008_08_04_scene28-camera1_DOCTOR_v1_2_train.mov\n",
      "filename from videocapture =  /Users/gautamkarnataki/MIDS/w251/project/w251-project/data/raw/ASL_2011_07_22_scene2-camera1_DRESS_v2_7_val.mov\n"
     ]
    },
    {
     "name": "stderr",
     "output_type": "stream",
     "text": [
      "\n",
      "\n",
      "  7%|▋         | 11/156 [00:01<00:29,  4.84it/s]\u001b[A\u001b[A\n",
      "\n",
      "  8%|▊         | 13/156 [00:01<00:23,  6.17it/s]\u001b[A\u001b[A"
     ]
    },
    {
     "name": "stdout",
     "output_type": "stream",
     "text": [
      "filename from videocapture =  /Users/gautamkarnataki/MIDS/w251/project/w251-project/data/raw/ASL_2008_01_18_scene32-camera1_ENOUGH_v1_0_train.mov\n",
      "filename from videocapture =  /Users/gautamkarnataki/MIDS/w251/project/w251-project/data/raw/ASL_2011_06_14_Brady_scene6-camera1_WANT_NEG_v1_2_train.mov\n",
      "filename from videocapture =  /Users/gautamkarnataki/MIDS/w251/project/w251-project/data/raw/ASL_2008_01_11_scene11-camera1_ALL_v0_0_val.mov\n",
      "filename from videocapture =  /Users/gautamkarnataki/MIDS/w251/project/w251-project/data/raw/ASL_2006_10_10_scene4-camera1_CHAT_v2_8_train.mov\n"
     ]
    },
    {
     "name": "stderr",
     "output_type": "stream",
     "text": [
      "\n",
      "\n",
      " 10%|▉         | 15/156 [00:01<00:18,  7.71it/s]\u001b[A\u001b[A"
     ]
    },
    {
     "name": "stdout",
     "output_type": "stream",
     "text": [
      "filename from videocapture =  /Users/gautamkarnataki/MIDS/w251/project/w251-project/data/raw/ASL_2011_07_22_scene4-camera1_BEHAVIOR_v2_7_val.mov\n"
     ]
    },
    {
     "name": "stderr",
     "output_type": "stream",
     "text": [
      "\n",
      "\n",
      " 11%|█         | 17/156 [00:03<00:42,  3.28it/s]\u001b[A\u001b[A"
     ]
    },
    {
     "name": "stdout",
     "output_type": "stream",
     "text": [
      "filename from videocapture =  /Users/gautamkarnataki/MIDS/w251/project/w251-project/data/raw/ASL_2007_05_24_scene7-camera1_BEHAVIOR_v1_5_val.mov\n",
      "filename from videocapture =  /Users/gautamkarnataki/MIDS/w251/project/w251-project/data/raw/ASL_2008_01_18_scene21-camera1_DOCTOR_v1_0_train.mov\n",
      "filename from videocapture =  /Users/gautamkarnataki/MIDS/w251/project/w251-project/data/raw/ASL_2011_07_22_Brady_scene40-camera1_CHAT_v2_7_val.mov\n"
     ]
    },
    {
     "name": "stderr",
     "output_type": "stream",
     "text": [
      "\n",
      "\n",
      " 12%|█▏        | 19/156 [00:03<00:32,  4.19it/s]\u001b[A\u001b[A\n",
      "\n",
      " 13%|█▎        | 21/156 [00:03<00:26,  5.08it/s]\u001b[A\u001b[A"
     ]
    },
    {
     "name": "stdout",
     "output_type": "stream",
     "text": [
      "filename from videocapture =  /Users/gautamkarnataki/MIDS/w251/project/w251-project/data/raw/ASL_2008_08_04_scene50-camera1_COAT_v0_2_train.mov\n",
      "filename from videocapture =  /Users/gautamkarnataki/MIDS/w251/project/w251-project/data/raw/ASL_2008_08_04_scene21-camera1_BASEBALL_v0_0_val.mov\n",
      "filename from videocapture =  /Users/gautamkarnataki/MIDS/w251/project/w251-project/data/raw/ASL_2008_01_18_scene15-camera1_DEPOSIT_v0_0_train.mov\n"
     ]
    },
    {
     "name": "stderr",
     "output_type": "stream",
     "text": [
      "\n",
      "\n",
      " 15%|█▍        | 23/156 [00:03<00:22,  5.94it/s]\u001b[A\u001b[A"
     ]
    },
    {
     "name": "stdout",
     "output_type": "stream",
     "text": [
      "filename from videocapture =  /Users/gautamkarnataki/MIDS/w251/project/w251-project/data/raw/ASL_2008_05_29a_scene12-camera1_ENOUGH_v1_1_train.mov\n",
      "filename from videocapture =  /Users/gautamkarnataki/MIDS/w251/project/w251-project/data/raw/ASL_2008_08_04_scene25-camera1_BEHAVIOR_v1_3_val.mov\n",
      "filename from videocapture =  /Users/gautamkarnataki/MIDS/w251/project/w251-project/data/raw/ASL_2008_01_11_scene71-camera1_CHEAT_v2_0_train.mov\n"
     ]
    },
    {
     "name": "stderr",
     "output_type": "stream",
     "text": [
      "\n",
      "\n",
      " 16%|█▌        | 25/156 [00:04<00:19,  6.87it/s]\u001b[A\u001b[A\n",
      "\n",
      " 17%|█▋        | 27/156 [00:04<00:16,  7.92it/s]\u001b[A\u001b[A"
     ]
    },
    {
     "name": "stdout",
     "output_type": "stream",
     "text": [
      "filename from videocapture =  /Users/gautamkarnataki/MIDS/w251/project/w251-project/data/raw/ASL_2008_05_12a_scene24-camera1_BEHAVIOR_v1_1_train.mov\n",
      "filename from videocapture =  /Users/gautamkarnataki/MIDS/w251/project/w251-project/data/raw/ASL_2007_05_24_scene11-camera1_WANT_NEG_v1_4_train.mov\n",
      "filename from videocapture =  /Users/gautamkarnataki/MIDS/w251/project/w251-project/data/raw/ASL_2007_05_24_scene5-camera1_ALL_v0_5_train.mov\n"
     ]
    },
    {
     "name": "stderr",
     "output_type": "stream",
     "text": [
      "\n",
      "\n",
      " 19%|█▊        | 29/156 [00:04<00:14,  8.72it/s]\u001b[A\u001b[A"
     ]
    },
    {
     "name": "stdout",
     "output_type": "stream",
     "text": [
      "filename from videocapture =  /Users/gautamkarnataki/MIDS/w251/project/w251-project/data/raw/ASL_2008_05_29a_scene3-camera1_DRESS_v0_7_train.mov\n",
      "filename from videocapture =  /Users/gautamkarnataki/MIDS/w251/project/w251-project/data/raw/ASL_2008_05_29a_scene4-camera1_DRESS_v0_10_train.mov\n",
      "filename from videocapture =  /Users/gautamkarnataki/MIDS/w251/project/w251-project/data/raw/ASL_2008_05_12a_scene48-camera1_DRESS_v2_6_train.mov\n"
     ]
    },
    {
     "name": "stderr",
     "output_type": "stream",
     "text": [
      "\n",
      "\n",
      " 20%|█▉        | 31/156 [00:04<00:13,  9.40it/s]\u001b[A\u001b[A"
     ]
    },
    {
     "name": "stdout",
     "output_type": "stream",
     "text": [
      "filename from videocapture =  /Users/gautamkarnataki/MIDS/w251/project/w251-project/data/raw/ASL_2008_08_04_scene18-camera1_AWKWARD_v0_2_train.mov\n",
      "filename from videocapture =  /Users/gautamkarnataki/MIDS/w251/project/w251-project/data/raw/ASL_2011_07_22_scene5-camera1_DRESS_v2_7_val.mov\n"
     ]
    },
    {
     "name": "stderr",
     "output_type": "stream",
     "text": [
      "\n",
      "\n",
      " 21%|██        | 33/156 [00:05<00:28,  4.28it/s]\u001b[A\u001b[A"
     ]
    },
    {
     "name": "stdout",
     "output_type": "stream",
     "text": [
      "filename from videocapture =  /Users/gautamkarnataki/MIDS/w251/project/w251-project/data/raw/ASL_2011_07_22_scene3-camera1_BEHAVIOR_v2_7_val.mov\n"
     ]
    },
    {
     "name": "stderr",
     "output_type": "stream",
     "text": [
      "\n",
      "\n",
      " 22%|██▏       | 34/156 [00:07<01:13,  1.67it/s]\u001b[A\u001b[A\n",
      "\n",
      " 23%|██▎       | 36/156 [00:07<00:53,  2.26it/s]\u001b[A\u001b[A"
     ]
    },
    {
     "name": "stdout",
     "output_type": "stream",
     "text": [
      "filename from videocapture =  /Users/gautamkarnataki/MIDS/w251/project/w251-project/data/raw/ASL_2007_05_24_scene11-camera1_DEPOSIT_v0_6_train.mov\n",
      "filename from videocapture =  /Users/gautamkarnataki/MIDS/w251/project/w251-project/data/raw/ASL_2006_10_10_scene7-camera1_DEPRESS_v0_5_train.mov\n",
      "filename from videocapture =  /Users/gautamkarnataki/MIDS/w251/project/w251-project/data/raw/ASL_2008_05_12a_scene8-camera1_AGAIN_v1_3_train.mov\n"
     ]
    },
    {
     "name": "stderr",
     "output_type": "stream",
     "text": [
      "\n",
      "\n",
      " 24%|██▎       | 37/156 [00:07<00:40,  2.93it/s]\u001b[A\u001b[A\n",
      "\n",
      " 25%|██▌       | 39/156 [00:07<00:30,  3.78it/s]\u001b[A\u001b[A"
     ]
    },
    {
     "name": "stdout",
     "output_type": "stream",
     "text": [
      "filename from videocapture =  /Users/gautamkarnataki/MIDS/w251/project/w251-project/data/raw/ASL_2006_10_10_scene5-camera1_COAT_v0_4_train.mov\n",
      "filename from videocapture =  /Users/gautamkarnataki/MIDS/w251/project/w251-project/data/raw/ASL_2008_08_06_scene1-camera1_CHAT_v2_5_train.mov\n",
      "filename from videocapture =  /Users/gautamkarnataki/MIDS/w251/project/w251-project/data/raw/ASL_2008_01_11_scene71-camera1_CHAT_v2_0_val.mov\n"
     ]
    },
    {
     "name": "stderr",
     "output_type": "stream",
     "text": [
      "\n",
      "\n",
      " 26%|██▋       | 41/156 [00:07<00:24,  4.73it/s]\u001b[A\u001b[A"
     ]
    },
    {
     "name": "stdout",
     "output_type": "stream",
     "text": [
      "filename from videocapture =  /Users/gautamkarnataki/MIDS/w251/project/w251-project/data/raw/ASL_2011_06_08_Brady_scene37-camera1_DOCTOR_v1_5_val.mov\n",
      "filename from videocapture =  /Users/gautamkarnataki/MIDS/w251/project/w251-project/data/raw/ASL_2008_05_12b_scene6-camera1_COURT_v0_2_train.mov\n",
      "filename from videocapture =  /Users/gautamkarnataki/MIDS/w251/project/w251-project/data/raw/ASL_2011_06_08_Brady_scene30-camera1_COURT_v0_5_train.mov\n"
     ]
    },
    {
     "name": "stderr",
     "output_type": "stream",
     "text": [
      "\n",
      "\n",
      " 28%|██▊       | 43/156 [00:07<00:19,  5.65it/s]\u001b[A\u001b[A"
     ]
    },
    {
     "name": "stdout",
     "output_type": "stream",
     "text": [
      "filename from videocapture =  /Users/gautamkarnataki/MIDS/w251/project/w251-project/data/raw/ASL_2006_10_10_scene6-camera1_CONFLICT_v0_7_train.mov\n",
      "filename from videocapture =  /Users/gautamkarnataki/MIDS/w251/project/w251-project/data/raw/ASL_2008_05_12a_scene44-camera1_CHAT_v2_2_train.mov\n"
     ]
    },
    {
     "name": "stderr",
     "output_type": "stream",
     "text": [
      "\n",
      "\n",
      " 29%|██▉       | 45/156 [00:08<00:17,  6.41it/s]\u001b[A\u001b[A\n",
      "\n",
      " 29%|██▉       | 46/156 [00:08<00:15,  7.13it/s]\u001b[A\u001b[A"
     ]
    },
    {
     "name": "stdout",
     "output_type": "stream",
     "text": [
      "filename from videocapture =  /Users/gautamkarnataki/MIDS/w251/project/w251-project/data/raw/ASL_2011_06_08_Brady_scene28-camera1_DRESS_v1_14_val.mov\n",
      "filename from videocapture =  /Users/gautamkarnataki/MIDS/w251/project/w251-project/data/raw/ASL_2006_10_10_scene5-camera1_CHURCH_v1_4_train.mov\n"
     ]
    },
    {
     "name": "stderr",
     "output_type": "stream",
     "text": [
      "\n",
      "\n",
      " 30%|███       | 47/156 [00:08<00:14,  7.66it/s]\u001b[A\u001b[A\n",
      "\n",
      " 31%|███       | 48/156 [00:08<00:13,  7.89it/s]\u001b[A\u001b[A"
     ]
    },
    {
     "name": "stdout",
     "output_type": "stream",
     "text": [
      "filename from videocapture =  /Users/gautamkarnataki/MIDS/w251/project/w251-project/data/raw/ASL_2008_05_12b_scene1-camera1_CHAT_v2_3_val.mov\n",
      "filename from videocapture =  /Users/gautamkarnataki/MIDS/w251/project/w251-project/data/raw/ASL_2011_07_22_scene5-camera1_BEHAVIOR_v2_7_val.mov\n"
     ]
    },
    {
     "name": "stderr",
     "output_type": "stream",
     "text": [
      "\n",
      "\n",
      " 31%|███▏      | 49/156 [00:10<01:09,  1.53it/s]\u001b[A\u001b[A\n",
      "\n",
      " 32%|███▏      | 50/156 [00:10<00:51,  2.05it/s]\u001b[A\u001b[A"
     ]
    },
    {
     "name": "stdout",
     "output_type": "stream",
     "text": [
      "filename from videocapture =  /Users/gautamkarnataki/MIDS/w251/project/w251-project/data/raw/ASL_2008_01_18_scene3-camera1_CONFLICT_v0_0_train.mov\n",
      "filename from videocapture =  /Users/gautamkarnataki/MIDS/w251/project/w251-project/data/raw/ASL_2007_05_24_scene8-camera1_CHAT_v2_9_train.mov\n",
      "filename from videocapture =  /Users/gautamkarnataki/MIDS/w251/project/w251-project/data/raw/ASL_2008_01_18_scene23-camera1_DRESS_v1_1_val.mov\n"
     ]
    },
    {
     "name": "stderr",
     "output_type": "stream",
     "text": [
      "\n",
      "\n",
      " 33%|███▎      | 52/156 [00:10<00:38,  2.72it/s]\u001b[A\u001b[A\n",
      "\n",
      " 35%|███▍      | 54/156 [00:10<00:29,  3.51it/s]\u001b[A\u001b[A"
     ]
    },
    {
     "name": "stdout",
     "output_type": "stream",
     "text": [
      "filename from videocapture =  /Users/gautamkarnataki/MIDS/w251/project/w251-project/data/raw/ASL_2008_01_11_scene62-camera1_CAN_v0_0_val.mov\n",
      "filename from videocapture =  /Users/gautamkarnataki/MIDS/w251/project/w251-project/data/raw/ASL_2006_10_10_scene7-camera1_WANT_NEG_v1_3_val.mov\n",
      "filename from videocapture =  /Users/gautamkarnataki/MIDS/w251/project/w251-project/data/raw/ASL_2011_07_22_scene4-camera1_DRESS_v2_7_val.mov\n"
     ]
    },
    {
     "name": "stderr",
     "output_type": "stream",
     "text": [
      "\n",
      "\n",
      " 35%|███▌      | 55/156 [00:12<01:06,  1.51it/s]\u001b[A\u001b[A\n",
      "\n",
      " 37%|███▋      | 57/156 [00:12<00:48,  2.05it/s]\u001b[A\u001b[A"
     ]
    },
    {
     "name": "stdout",
     "output_type": "stream",
     "text": [
      "filename from videocapture =  /Users/gautamkarnataki/MIDS/w251/project/w251-project/data/raw/ASL_2008_08_06_scene32-camera1_ENOUGH_v1_2_val.mov\n",
      "filename from videocapture =  /Users/gautamkarnataki/MIDS/w251/project/w251-project/data/raw/ASL_2006_10_10_scene4-camera1_CAN_v0_6_train.mov\n",
      "filename from videocapture =  /Users/gautamkarnataki/MIDS/w251/project/w251-project/data/raw/ASL_2008_08_06_scene6-camera1_COURT_v0_3_train.mov\n"
     ]
    },
    {
     "name": "stderr",
     "output_type": "stream",
     "text": [
      "\n",
      "\n",
      " 38%|███▊      | 59/156 [00:12<00:35,  2.74it/s]\u001b[A\u001b[A\n",
      "\n",
      " 38%|███▊      | 60/156 [00:12<00:27,  3.48it/s]\u001b[A\u001b[A"
     ]
    },
    {
     "name": "stdout",
     "output_type": "stream",
     "text": [
      "filename from videocapture =  /Users/gautamkarnataki/MIDS/w251/project/w251-project/data/raw/ASL_2011_06_14_Brady_scene2-camera1_AGAIN_v3_7_train.mov\n",
      "filename from videocapture =  /Users/gautamkarnataki/MIDS/w251/project/w251-project/data/raw/ASL_2008_01_11_scene27-camera1_AWKWARD_v0_0_train.mov\n",
      "filename from videocapture =  /Users/gautamkarnataki/MIDS/w251/project/w251-project/data/raw/ASL_2011_06_08_Brady_scene26-camera1_CHAT_v2_6_val.mov\n"
     ]
    },
    {
     "name": "stderr",
     "output_type": "stream",
     "text": [
      "\n",
      "\n",
      " 39%|███▉      | 61/156 [00:12<00:22,  4.26it/s]\u001b[A\u001b[A\n",
      "\n",
      " 40%|███▉      | 62/156 [00:12<00:18,  5.04it/s]\u001b[A\u001b[A"
     ]
    },
    {
     "name": "stdout",
     "output_type": "stream",
     "text": [
      "filename from videocapture =  /Users/gautamkarnataki/MIDS/w251/project/w251-project/data/raw/ASL_2011_07_19_Brady_scene39-camera1_CAN_v2_5_val.mov\n",
      "filename from videocapture =  /Users/gautamkarnataki/MIDS/w251/project/w251-project/data/raw/ASL_2010_08_10_Liz_additional_lexicon_signs_scene18-camera1_CONFLICT_v0_1_val.mov\n"
     ]
    },
    {
     "name": "stderr",
     "output_type": "stream",
     "text": [
      "\n",
      "\n",
      " 40%|████      | 63/156 [00:13<00:16,  5.69it/s]\u001b[A\u001b[A\n",
      "\n",
      " 41%|████      | 64/156 [00:13<00:14,  6.43it/s]\u001b[A\u001b[A"
     ]
    },
    {
     "name": "stdout",
     "output_type": "stream",
     "text": [
      "filename from videocapture =  /Users/gautamkarnataki/MIDS/w251/project/w251-project/data/raw/ASL_2011_06_08_Brady_scene10-camera1_ALL_v0_3_val.mov\n",
      "filename from videocapture =  /Users/gautamkarnataki/MIDS/w251/project/w251-project/data/raw/ASL_2010_08_10_Liz_additional_lexicon_signs_scene15-camera1_DEPOSIT_v0_1_train.mov\n"
     ]
    },
    {
     "name": "stderr",
     "output_type": "stream",
     "text": [
      "\n",
      "\n",
      " 42%|████▏     | 65/156 [00:13<00:13,  6.92it/s]\u001b[A\u001b[A\n",
      "\n",
      " 42%|████▏     | 66/156 [00:13<00:12,  7.44it/s]\u001b[A\u001b[A"
     ]
    },
    {
     "name": "stdout",
     "output_type": "stream",
     "text": [
      "filename from videocapture =  /Users/gautamkarnataki/MIDS/w251/project/w251-project/data/raw/ASL_2006_10_10_scene6-camera1_COURT_v0_7_train.mov\n",
      "filename from videocapture =  /Users/gautamkarnataki/MIDS/w251/project/w251-project/data/raw/ASL_2011_06_08_Brady_scene33-camera1_DEPRESS_v0_4_val.mov\n",
      "filename from videocapture =  /Users/gautamkarnataki/MIDS/w251/project/w251-project/data/raw/ASL_2011_06_08_Brady_scene14-camera1_AWKWARD_v0_3_train.mov\n"
     ]
    },
    {
     "name": "stderr",
     "output_type": "stream",
     "text": [
      "\n",
      "\n",
      " 44%|████▎     | 68/156 [00:13<00:10,  8.54it/s]\u001b[A\u001b[A\n",
      "\n",
      " 45%|████▍     | 70/156 [00:13<00:09,  9.35it/s]\u001b[A\u001b[A"
     ]
    },
    {
     "name": "stdout",
     "output_type": "stream",
     "text": [
      "filename from videocapture =  /Users/gautamkarnataki/MIDS/w251/project/w251-project/data/raw/ASL_2011_06_08_Brady_scene26-camera1_CHEAP_v0_3_val.mov\n",
      "filename from videocapture =  /Users/gautamkarnataki/MIDS/w251/project/w251-project/data/raw/ASL_2007_05_24_scene7-camera1_AWKWARD_v0_5_val.mov\n",
      "filename from videocapture =  /Users/gautamkarnataki/MIDS/w251/project/w251-project/data/raw/ASL_2011_07_22_scene2-camera1_BEHAVIOR_v2_7_val.mov\n"
     ]
    },
    {
     "name": "stderr",
     "output_type": "stream",
     "text": [
      "\n",
      "\n",
      " 46%|████▌     | 72/156 [00:15<00:28,  2.92it/s]\u001b[A\u001b[A"
     ]
    },
    {
     "name": "stdout",
     "output_type": "stream",
     "text": [
      "filename from videocapture =  /Users/gautamkarnataki/MIDS/w251/project/w251-project/data/raw/ASL_2008_05_12a_scene48-camera1_COAT_v0_1_train.mov\n",
      "filename from videocapture =  /Users/gautamkarnataki/MIDS/w251/project/w251-project/data/raw/ASL_2008_01_18_scene22-camera1_WANT_NEG_v1_0_train.mov\n",
      "filename from videocapture =  /Users/gautamkarnataki/MIDS/w251/project/w251-project/data/raw/ASL_2007_05_24_scene9-camera1_CHEAP_v0_5_train.mov\n"
     ]
    },
    {
     "name": "stderr",
     "output_type": "stream",
     "text": [
      "\n",
      "\n",
      " 47%|████▋     | 74/156 [00:15<00:21,  3.78it/s]\u001b[A\u001b[A"
     ]
    },
    {
     "name": "stdout",
     "output_type": "stream",
     "text": [
      "filename from videocapture =  /Users/gautamkarnataki/MIDS/w251/project/w251-project/data/raw/ASL_2011_07_22_scene3-camera1_DRESS_v2_7_val.mov\n"
     ]
    },
    {
     "name": "stderr",
     "output_type": "stream",
     "text": [
      "\n",
      "\n",
      " 48%|████▊     | 75/156 [00:16<00:46,  1.76it/s]\u001b[A\u001b[A\n",
      "\n",
      " 49%|████▊     | 76/156 [00:17<00:34,  2.30it/s]\u001b[A\u001b[A"
     ]
    },
    {
     "name": "stdout",
     "output_type": "stream",
     "text": [
      "filename from videocapture =  /Users/gautamkarnataki/MIDS/w251/project/w251-project/data/raw/ASL_2008_05_12a_scene46-camera1_CHURCH_v1_1_val.mov\n",
      "filename from videocapture =  /Users/gautamkarnataki/MIDS/w251/project/w251-project/data/raw/ASL_2008_05_12a_scene9-camera1_ALL_v0_1_train.mov\n"
     ]
    },
    {
     "name": "stderr",
     "output_type": "stream",
     "text": [
      "\n",
      "\n",
      " 49%|████▉     | 77/156 [00:17<00:26,  2.93it/s]\u001b[A\u001b[A\n",
      "\n",
      " 50%|█████     | 78/156 [00:17<00:21,  3.61it/s]\u001b[A\u001b[A"
     ]
    },
    {
     "name": "stdout",
     "output_type": "stream",
     "text": [
      "filename from videocapture =  /Users/gautamkarnataki/MIDS/w251/project/w251-project/data/raw/ASL_2008_01_11_scene9-camera1_AGAIN_v0_0_train.mov\n",
      "filename from videocapture =  /Users/gautamkarnataki/MIDS/w251/project/w251-project/data/raw/ASL_2011_06_08_Brady_scene27-camera1_CHURCH_v1_3_train.mov\n"
     ]
    },
    {
     "name": "stderr",
     "output_type": "stream",
     "text": [
      "\n",
      "\n",
      " 51%|█████▏    | 80/156 [00:17<00:16,  4.51it/s]\u001b[A\u001b[A"
     ]
    },
    {
     "name": "stdout",
     "output_type": "stream",
     "text": [
      "filename from videocapture =  /Users/gautamkarnataki/MIDS/w251/project/w251-project/data/raw/ASL_2008_02_15_scene45-camera1_CAN_v1_1_train.mov\n",
      "filename from videocapture =  /Users/gautamkarnataki/MIDS/w251/project/w251-project/data/raw/ASL_2007_05_24_scene9-camera1_COAT_v0_5_train.mov\n",
      "filename from videocapture =  /Users/gautamkarnataki/MIDS/w251/project/w251-project/data/raw/ASL_2011_06_14_Brady_scene7-camera1_DRESS_v1_15_train.mov\n"
     ]
    },
    {
     "name": "stderr",
     "output_type": "stream",
     "text": [
      "\n",
      "\n",
      " 53%|█████▎    | 82/156 [00:17<00:13,  5.51it/s]\u001b[A\u001b[A\n",
      "\n",
      " 54%|█████▍    | 84/156 [00:17<00:10,  6.61it/s]\u001b[A\u001b[A"
     ]
    },
    {
     "name": "stdout",
     "output_type": "stream",
     "text": [
      "filename from videocapture =  /Users/gautamkarnataki/MIDS/w251/project/w251-project/data/raw/ASL_2011_06_08_Brady_scene18-camera1_BEHAVIOR_v1_4_train.mov\n",
      "filename from videocapture =  /Users/gautamkarnataki/MIDS/w251/project/w251-project/data/raw/ASL_2006_10_10_scene3-camera1_BASEBALL_v1_1_train.mov\n",
      "filename from videocapture =  /Users/gautamkarnataki/MIDS/w251/project/w251-project/data/raw/ASL_2008_08_06_scene15-camera1_DEPRESS_v0_2_train.mov\n"
     ]
    },
    {
     "name": "stderr",
     "output_type": "stream",
     "text": [
      "\n",
      "\n",
      " 55%|█████▌    | 86/156 [00:18<00:09,  7.19it/s]\u001b[A\u001b[A"
     ]
    },
    {
     "name": "stdout",
     "output_type": "stream",
     "text": [
      "filename from videocapture =  /Users/gautamkarnataki/MIDS/w251/project/w251-project/data/raw/ASL_2008_08_04_scene45-camera1_CHEAP_v0_2_val.mov\n",
      "filename from videocapture =  /Users/gautamkarnataki/MIDS/w251/project/w251-project/data/raw/ASL_2011_06_14_Brady_scene41-camera1_CONFLICT_v0_6_train.mov\n"
     ]
    },
    {
     "name": "stderr",
     "output_type": "stream",
     "text": [
      "\n",
      "\n",
      " 56%|█████▌    | 87/156 [00:18<00:08,  7.77it/s]\u001b[A\u001b[A\n",
      "\n",
      " 56%|█████▋    | 88/156 [00:18<00:08,  8.10it/s]\u001b[A\u001b[A"
     ]
    },
    {
     "name": "stdout",
     "output_type": "stream",
     "text": [
      "filename from videocapture =  /Users/gautamkarnataki/MIDS/w251/project/w251-project/data/raw/ASL_2007_05_24_scene10-camera1_COURT_v0_8_train.mov\n",
      "filename from videocapture =  /Users/gautamkarnataki/MIDS/w251/project/w251-project/data/raw/ASL_2007_05_24_scene12-camera1_ENOUGH_v1_5_val.mov\n"
     ]
    },
    {
     "name": "stderr",
     "output_type": "stream",
     "text": [
      "\n",
      "\n",
      " 57%|█████▋    | 89/156 [00:18<00:08,  7.93it/s]\u001b[A\u001b[A"
     ]
    },
    {
     "name": "stdout",
     "output_type": "stream",
     "text": [
      "filename from videocapture =  /Users/gautamkarnataki/MIDS/w251/project/w251-project/data/raw/ASL_2011_07_22_scene2-camera1_COURT_v2_7_val.mov\n"
     ]
    },
    {
     "name": "stderr",
     "output_type": "stream",
     "text": [
      "\n",
      "\n",
      " 58%|█████▊    | 90/156 [00:20<00:41,  1.60it/s]\u001b[A\u001b[A\n",
      "\n",
      " 58%|█████▊    | 91/156 [00:20<00:30,  2.13it/s]\u001b[A\u001b[A"
     ]
    },
    {
     "name": "stdout",
     "output_type": "stream",
     "text": [
      "filename from videocapture =  /Users/gautamkarnataki/MIDS/w251/project/w251-project/data/raw/ASL_2008_08_04_scene45-camera1_CHEAT_v0_2_train.mov\n",
      "filename from videocapture =  /Users/gautamkarnataki/MIDS/w251/project/w251-project/data/raw/ASL_2008_08_04_scene48-camera1_CHURCH_v1_2_val.mov\n"
     ]
    },
    {
     "name": "stderr",
     "output_type": "stream",
     "text": [
      "\n",
      "\n",
      " 59%|█████▉    | 92/156 [00:20<00:23,  2.76it/s]\u001b[A\u001b[A"
     ]
    },
    {
     "name": "stdout",
     "output_type": "stream",
     "text": [
      "filename from videocapture =  /Users/gautamkarnataki/MIDS/w251/project/w251-project/data/raw/ASL_2011_07_22_scene1-camera1_BEHAVIOR_v2_7_val.mov\n"
     ]
    },
    {
     "name": "stderr",
     "output_type": "stream",
     "text": [
      "\n",
      "\n",
      " 60%|█████▉    | 93/156 [00:22<00:49,  1.28it/s]\u001b[A\u001b[A\n",
      "\n",
      " 61%|██████    | 95/156 [00:22<00:34,  1.75it/s]\u001b[A\u001b[A"
     ]
    },
    {
     "name": "stdout",
     "output_type": "stream",
     "text": [
      "filename from videocapture =  /Users/gautamkarnataki/MIDS/w251/project/w251-project/data/raw/ASL_2008_05_29a_scene1-camera1_DOCTOR_v3_1_val.mov\n",
      "filename from videocapture =  /Users/gautamkarnataki/MIDS/w251/project/w251-project/data/raw/ASL_2008_08_04_scene50-camera1_DRESS_v1_11_train.mov\n",
      "filename from videocapture =  /Users/gautamkarnataki/MIDS/w251/project/w251-project/data/raw/ASL_2011_06_08_Brady_scene36-camera1_DOCTOR_v2_4_val.mov\n"
     ]
    },
    {
     "name": "stderr",
     "output_type": "stream",
     "text": [
      "\n",
      "\n",
      " 62%|██████▏   | 97/156 [00:22<00:25,  2.36it/s]\u001b[A\u001b[A"
     ]
    },
    {
     "name": "stdout",
     "output_type": "stream",
     "text": [
      "filename from videocapture =  /Users/gautamkarnataki/MIDS/w251/project/w251-project/data/raw/ASL_2011_06_14_Brady_scene12-camera1_ENOUGH_v1_3_train.mov\n",
      "filename from videocapture =  /Users/gautamkarnataki/MIDS/w251/project/w251-project/data/raw/ASL_2008_08_06_scene21-camera1_DOCTOR_v0_3_train.mov\n",
      "filename from videocapture =  /Users/gautamkarnataki/MIDS/w251/project/w251-project/data/raw/ASL_2008_01_11_scene38-camera1_BEHAVIOR_v0_0_train.mov\n"
     ]
    },
    {
     "name": "stderr",
     "output_type": "stream",
     "text": [
      "\n",
      "\n",
      " 63%|██████▎   | 99/156 [00:22<00:18,  3.10it/s]\u001b[A\u001b[A\n",
      "\n",
      " 65%|██████▍   | 101/156 [00:22<00:13,  3.93it/s]\u001b[A\u001b[A"
     ]
    },
    {
     "name": "stdout",
     "output_type": "stream",
     "text": [
      "filename from videocapture =  /Users/gautamkarnataki/MIDS/w251/project/w251-project/data/raw/ASL_2006_10_10_scene8-camera1_DRESS_v0_17_train.mov\n",
      "filename from videocapture =  /Users/gautamkarnataki/MIDS/w251/project/w251-project/data/raw/ASL_2007_05_24_scene10-camera1_CONFLICT_v0_8_val.mov\n",
      "filename from videocapture =  /Users/gautamkarnataki/MIDS/w251/project/w251-project/data/raw/ASL_2008_05_12a_scene44-camera1_CHEAP_v0_1_train.mov\n"
     ]
    },
    {
     "name": "stderr",
     "output_type": "stream",
     "text": [
      "\n",
      "\n",
      " 66%|██████▌   | 103/156 [00:23<00:10,  4.84it/s]\u001b[A\u001b[A"
     ]
    },
    {
     "name": "stdout",
     "output_type": "stream",
     "text": [
      "filename from videocapture =  /Users/gautamkarnataki/MIDS/w251/project/w251-project/data/raw/ASL_2008_05_12b_scene14-camera1_DEPOSIT_v0_2_val.mov\n",
      "filename from videocapture =  /Users/gautamkarnataki/MIDS/w251/project/w251-project/data/raw/ASL_2011_07_19_Brady_scene116-camera1_AGAIN_v0_8_train.mov\n",
      "filename from videocapture =  /Users/gautamkarnataki/MIDS/w251/project/w251-project/data/raw/ASL_2008_01_18_scene24-camera1_DRESS_v0_2_train.mov\n"
     ]
    },
    {
     "name": "stderr",
     "output_type": "stream",
     "text": [
      "\n",
      "\n",
      " 67%|██████▋   | 105/156 [00:23<00:08,  5.78it/s]\u001b[A\u001b[A\n",
      "\n",
      " 69%|██████▊   | 107/156 [00:23<00:07,  6.77it/s]\u001b[A\u001b[A"
     ]
    },
    {
     "name": "stdout",
     "output_type": "stream",
     "text": [
      "filename from videocapture =  /Users/gautamkarnataki/MIDS/w251/project/w251-project/data/raw/ASL_2011_06_14_Brady_scene6-camera1_CONFLICT_v0_5_val.mov\n",
      "filename from videocapture =  /Users/gautamkarnataki/MIDS/w251/project/w251-project/data/raw/ASL_2008_01_11_scene77-camera1_CHURCH_v1_0_train.mov\n",
      "filename from videocapture =  /Users/gautamkarnataki/MIDS/w251/project/w251-project/data/raw/ASL_2008_08_04_scene45-camera1_CHAT_v1_4_train.mov\n"
     ]
    },
    {
     "name": "stderr",
     "output_type": "stream",
     "text": [
      "\n",
      "\n",
      " 70%|██████▉   | 109/156 [00:23<00:06,  7.76it/s]\u001b[A\u001b[A"
     ]
    },
    {
     "name": "stdout",
     "output_type": "stream",
     "text": [
      "filename from videocapture =  /Users/gautamkarnataki/MIDS/w251/project/w251-project/data/raw/ASL_2008_08_06_scene2-camera1_CONFLICT_v0_3_train.mov\n",
      "filename from videocapture =  /Users/gautamkarnataki/MIDS/w251/project/w251-project/data/raw/ASL_2008_05_12b_scene15-camera1_DEPRESS_v0_1_train.mov\n",
      "filename from videocapture =  /Users/gautamkarnataki/MIDS/w251/project/w251-project/data/raw/ASL_2011_06_08_Brady_scene9-camera1_AGAIN_v0_6_val.mov\n"
     ]
    },
    {
     "name": "stderr",
     "output_type": "stream",
     "text": [
      "\n",
      "\n",
      " 71%|███████   | 111/156 [00:23<00:05,  8.49it/s]\u001b[A\u001b[A"
     ]
    },
    {
     "name": "stdout",
     "output_type": "stream",
     "text": [
      "filename from videocapture =  /Users/gautamkarnataki/MIDS/w251/project/w251-project/data/raw/ASL_2011_07_22_scene1-camera1_DRESS_v2_7_val.mov\n"
     ]
    },
    {
     "name": "stderr",
     "output_type": "stream",
     "text": [
      "\n",
      "\n",
      " 72%|███████▏  | 113/156 [00:24<00:10,  3.91it/s]\u001b[A\u001b[A"
     ]
    },
    {
     "name": "stdout",
     "output_type": "stream",
     "text": [
      "filename from videocapture =  /Users/gautamkarnataki/MIDS/w251/project/w251-project/data/raw/ASL_2008_05_29a_scene3-camera1_DRESS_v0_8_train.mov\n",
      "filename from videocapture =  /Users/gautamkarnataki/MIDS/w251/project/w251-project/data/raw/ASL_2006_10_10_scene2-camera1_AGAIN_v0_9_train.mov\n",
      "filename from videocapture =  /Users/gautamkarnataki/MIDS/w251/project/w251-project/data/raw/ASL_2008_01_18_scene24-camera1_DRESS_v0_4_train.mov\n"
     ]
    },
    {
     "name": "stderr",
     "output_type": "stream",
     "text": [
      "\n",
      "\n",
      " 74%|███████▎  | 115/156 [00:25<00:08,  4.95it/s]\u001b[A\u001b[A\n",
      "\n",
      " 75%|███████▌  | 117/156 [00:25<00:06,  6.03it/s]\u001b[A\u001b[A"
     ]
    },
    {
     "name": "stdout",
     "output_type": "stream",
     "text": [
      "filename from videocapture =  /Users/gautamkarnataki/MIDS/w251/project/w251-project/data/raw/ASL_2007_05_24_scene5-camera1_AGAIN_v0_10_val.mov\n",
      "filename from videocapture =  /Users/gautamkarnataki/MIDS/w251/project/w251-project/data/raw/ASL_2008_01_11_scene9-camera1_AGAIN_v2_1_val.mov\n",
      "filename from videocapture =  /Users/gautamkarnataki/MIDS/w251/project/w251-project/data/raw/ASL_2008_01_11_scene71-camera1_CHEAP_v0_0_train.mov\n",
      "filename from videocapture =  /Users/gautamkarnataki/MIDS/w251/project/w251-project/data/raw/ASL_2011_07_22_scene5-camera1_COURT_v2_7_val.mov\n"
     ]
    },
    {
     "name": "stderr",
     "output_type": "stream",
     "text": [
      "\n",
      "\n",
      " 76%|███████▋  | 119/156 [00:26<00:12,  2.90it/s]\u001b[A\u001b[A\n",
      "\n",
      " 77%|███████▋  | 120/156 [00:26<00:09,  3.61it/s]\u001b[A\u001b[A"
     ]
    },
    {
     "name": "stdout",
     "output_type": "stream",
     "text": [
      "filename from videocapture =  /Users/gautamkarnataki/MIDS/w251/project/w251-project/data/raw/ASL_2008_08_06_scene24-camera1_DRESS_v0_13_train.mov\n",
      "filename from videocapture =  /Users/gautamkarnataki/MIDS/w251/project/w251-project/data/raw/ASL_2011_06_08_Brady_scene26-camera1_CHEAT_v2_4_val.mov\n"
     ]
    },
    {
     "name": "stderr",
     "output_type": "stream",
     "text": [
      "\n",
      "\n",
      " 78%|███████▊  | 121/156 [00:27<00:07,  4.43it/s]\u001b[A\u001b[A\n",
      "\n",
      " 78%|███████▊  | 122/156 [00:27<00:06,  5.07it/s]\u001b[A\u001b[A"
     ]
    },
    {
     "name": "stdout",
     "output_type": "stream",
     "text": [
      "filename from videocapture =  /Users/gautamkarnataki/MIDS/w251/project/w251-project/data/raw/ASL_2006_10_10_scene2-camera1_ALL_v0_4_train.mov\n",
      "filename from videocapture =  /Users/gautamkarnataki/MIDS/w251/project/w251-project/data/raw/ASL_2008_08_04_scene7-camera1_AGAIN_v2_5_val.mov\n"
     ]
    },
    {
     "name": "stderr",
     "output_type": "stream",
     "text": [
      "\n",
      "\n",
      " 79%|███████▉  | 123/156 [00:27<00:06,  5.49it/s]\u001b[A\u001b[A\n",
      "\n",
      " 79%|███████▉  | 124/156 [00:27<00:05,  6.14it/s]\u001b[A\u001b[A"
     ]
    },
    {
     "name": "stdout",
     "output_type": "stream",
     "text": [
      "filename from videocapture =  /Users/gautamkarnataki/MIDS/w251/project/w251-project/data/raw/ASL_2008_01_18_scene7-camera1_COURT_v0_0_val.mov\n",
      "filename from videocapture =  /Users/gautamkarnataki/MIDS/w251/project/w251-project/data/raw/ASL_2008_08_13_scene32-camera1_COURT_v0_4_val.mov\n"
     ]
    },
    {
     "name": "stderr",
     "output_type": "stream",
     "text": [
      "\n",
      "\n",
      " 80%|████████  | 125/156 [00:27<00:04,  6.61it/s]\u001b[A\u001b[A\n",
      "\n",
      " 81%|████████  | 126/156 [00:27<00:04,  7.13it/s]\u001b[A\u001b[A"
     ]
    },
    {
     "name": "stdout",
     "output_type": "stream",
     "text": [
      "filename from videocapture =  /Users/gautamkarnataki/MIDS/w251/project/w251-project/data/raw/ASL_2008_01_11_scene81-camera1_DRESS_v1_0_train.mov\n",
      "filename from videocapture =  /Users/gautamkarnataki/MIDS/w251/project/w251-project/data/raw/ASL_2008_05_12a_scene8-camera1_AGAIN_v0_2_train.mov\n"
     ]
    },
    {
     "name": "stderr",
     "output_type": "stream",
     "text": [
      "\n",
      "\n",
      " 81%|████████▏ | 127/156 [00:27<00:04,  7.08it/s]\u001b[A\u001b[A\n",
      "\n",
      " 82%|████████▏ | 128/156 [00:27<00:03,  7.17it/s]\u001b[A\u001b[A"
     ]
    },
    {
     "name": "stdout",
     "output_type": "stream",
     "text": [
      "filename from videocapture =  /Users/gautamkarnataki/MIDS/w251/project/w251-project/data/raw/ASL_2006_10_10_scene7-camera1_DOCTOR_v1_6_train.mov\n",
      "filename from videocapture =  /Users/gautamkarnataki/MIDS/w251/project/w251-project/data/raw/ASL_2008_08_04_scene45-camera1_CHEAT_v0_3_train.mov\n"
     ]
    },
    {
     "name": "stderr",
     "output_type": "stream",
     "text": [
      "\n",
      "\n",
      " 83%|████████▎ | 129/156 [00:28<00:04,  6.47it/s]\u001b[A\u001b[A\n",
      "\n",
      " 83%|████████▎ | 130/156 [00:28<00:04,  6.37it/s]\u001b[A\u001b[A"
     ]
    },
    {
     "name": "stdout",
     "output_type": "stream",
     "text": [
      "filename from videocapture =  /Users/gautamkarnataki/MIDS/w251/project/w251-project/data/raw/ASL_2007_05_24_scene11-camera1_DEPRESS_v0_6_train.mov\n",
      "filename from videocapture =  /Users/gautamkarnataki/MIDS/w251/project/w251-project/data/raw/ASL_2006_10_10_scene7-camera1_DEPOSIT_v0_5_train.mov\n"
     ]
    },
    {
     "name": "stderr",
     "output_type": "stream",
     "text": [
      "\n",
      "\n",
      " 84%|████████▍ | 131/156 [00:28<00:03,  6.44it/s]\u001b[A\u001b[A\n",
      "\n",
      " 85%|████████▍ | 132/156 [00:28<00:03,  6.47it/s]\u001b[A\u001b[A"
     ]
    },
    {
     "name": "stdout",
     "output_type": "stream",
     "text": [
      "filename from videocapture =  /Users/gautamkarnataki/MIDS/w251/project/w251-project/data/raw/ASL_2007_05_24_scene9-camera1_CHURCH_v2_5_train.mov\n",
      "filename from videocapture =  /Users/gautamkarnataki/MIDS/w251/project/w251-project/data/raw/ASL_2011_07_22_scene4-camera1_COURT_v2_7_val.mov\n"
     ]
    },
    {
     "name": "stderr",
     "output_type": "stream",
     "text": [
      "\n",
      "\n",
      " 85%|████████▌ | 133/156 [00:30<00:15,  1.45it/s]\u001b[A\u001b[A\n",
      "\n",
      " 86%|████████▌ | 134/156 [00:30<00:11,  1.93it/s]\u001b[A\u001b[A"
     ]
    },
    {
     "name": "stdout",
     "output_type": "stream",
     "text": [
      "filename from videocapture =  /Users/gautamkarnataki/MIDS/w251/project/w251-project/data/raw/ASL_2007_05_24_scene12-camera1_DRESS_v0_18_val.mov\n",
      "filename from videocapture =  /Users/gautamkarnataki/MIDS/w251/project/w251-project/data/raw/ASL_2008_08_04_scene8-camera1_ALL_v0_2_train.mov\n"
     ]
    },
    {
     "name": "stderr",
     "output_type": "stream",
     "text": [
      "\n",
      "\n",
      " 87%|████████▋ | 135/156 [00:30<00:08,  2.48it/s]\u001b[A\u001b[A\n",
      "\n",
      " 87%|████████▋ | 136/156 [00:30<00:06,  3.19it/s]\u001b[A\u001b[A"
     ]
    },
    {
     "name": "stdout",
     "output_type": "stream",
     "text": [
      "filename from videocapture =  /Users/gautamkarnataki/MIDS/w251/project/w251-project/data/raw/ASL_2008_08_06_scene24-camera1_DRESS_v1_12_train.mov\n",
      "filename from videocapture =  /Users/gautamkarnataki/MIDS/w251/project/w251-project/data/raw/ASL_2008_08_06_scene22-camera1_WANT_NEG_v1_1_val.mov\n"
     ]
    },
    {
     "name": "stderr",
     "output_type": "stream",
     "text": [
      "\n",
      "\n",
      " 88%|████████▊ | 137/156 [00:30<00:04,  3.92it/s]\u001b[A\u001b[A\n",
      "\n",
      " 88%|████████▊ | 138/156 [00:31<00:03,  4.76it/s]\u001b[A\u001b[A\n",
      "\n"
     ]
    },
    {
     "name": "stdout",
     "output_type": "stream",
     "text": [
      "filename from videocapture =  /Users/gautamkarnataki/MIDS/w251/project/w251-project/data/raw/ASL_2008_08_04_scene7-camera1_AGAIN_v0_4_train.mov\n",
      "filename from videocapture =  /Users/gautamkarnataki/MIDS/w251/project/w251-project/data/raw/ASL_2011_06_14_Brady_scene7-camera1_DRESS_v0_16_val.mov\n"
     ]
    },
    {
     "name": "stderr",
     "output_type": "stream",
     "text": [
      " 89%|████████▉ | 139/156 [00:31<00:03,  5.64it/s]\u001b[A\u001b[A\n",
      "\n",
      " 90%|████████▉ | 140/156 [00:31<00:02,  6.23it/s]\u001b[A\u001b[A"
     ]
    },
    {
     "name": "stdout",
     "output_type": "stream",
     "text": [
      "filename from videocapture =  /Users/gautamkarnataki/MIDS/w251/project/w251-project/data/raw/ASL_2008_05_12a_scene29-camera1_DRESS_v0_5_val.mov\n",
      "filename from videocapture =  /Users/gautamkarnataki/MIDS/w251/project/w251-project/data/raw/ASL_2008_05_12a_scene24-camera1_BEHAVIOR_v1_2_train.mov\n"
     ]
    },
    {
     "name": "stderr",
     "output_type": "stream",
     "text": [
      "\n",
      "\n",
      " 90%|█████████ | 141/156 [00:31<00:02,  6.85it/s]\u001b[A\u001b[A\n",
      "\n",
      " 91%|█████████ | 142/156 [00:31<00:01,  7.51it/s]\u001b[A\u001b[A"
     ]
    },
    {
     "name": "stdout",
     "output_type": "stream",
     "text": [
      "filename from videocapture =  /Users/gautamkarnataki/MIDS/w251/project/w251-project/data/raw/ASL_2006_10_10_scene3-camera1_AWKWARD_v0_4_val.mov\n",
      "filename from videocapture =  /Users/gautamkarnataki/MIDS/w251/project/w251-project/data/raw/ASL_2008_08_04_scene40-camera1_CAN_v0_3_train.mov\n"
     ]
    },
    {
     "name": "stderr",
     "output_type": "stream",
     "text": [
      "\n",
      "\n",
      " 92%|█████████▏| 143/156 [00:31<00:01,  7.90it/s]\u001b[A\u001b[A\n",
      "\n",
      " 93%|█████████▎| 145/156 [00:31<00:01,  8.60it/s]\u001b[A\u001b[A"
     ]
    },
    {
     "name": "stdout",
     "output_type": "stream",
     "text": [
      "filename from videocapture =  /Users/gautamkarnataki/MIDS/w251/project/w251-project/data/raw/ASL_2007_05_24_scene8-camera1_CAN_v0_7_train.mov\n",
      "filename from videocapture =  /Users/gautamkarnataki/MIDS/w251/project/w251-project/data/raw/ASL_2008_05_12a_scene18-camera1_AWKWARD_v0_1_train.mov\n",
      "filename from videocapture =  /Users/gautamkarnataki/MIDS/w251/project/w251-project/data/raw/ASL_2008_08_06_scene14-camera1_DEPOSIT_v0_3_val.mov\n"
     ]
    },
    {
     "name": "stderr",
     "output_type": "stream",
     "text": [
      "\n",
      "\n",
      " 94%|█████████▎| 146/156 [00:31<00:01,  8.98it/s]\u001b[A\u001b[A\n",
      "\n",
      " 95%|█████████▍| 148/156 [00:32<00:00,  9.39it/s]\u001b[A\u001b[A"
     ]
    },
    {
     "name": "stdout",
     "output_type": "stream",
     "text": [
      "filename from videocapture =  /Users/gautamkarnataki/MIDS/w251/project/w251-project/data/raw/ASL_2006_10_10_scene8-camera1_ENOUGH_v1_4_train.mov\n",
      "filename from videocapture =  /Users/gautamkarnataki/MIDS/w251/project/w251-project/data/raw/ASL_2008_01_18_scene15-camera1_DEPRESS_v0_0_train.mov\n",
      "filename from videocapture =  /Users/gautamkarnataki/MIDS/w251/project/w251-project/data/raw/ASL_2008_05_12a_scene39-camera1_CAN_v0_2_val.mov\n"
     ]
    },
    {
     "name": "stderr",
     "output_type": "stream",
     "text": [
      "\n",
      "\n",
      " 96%|█████████▌| 149/156 [00:32<00:00,  9.10it/s]\u001b[A\u001b[A"
     ]
    },
    {
     "name": "stdout",
     "output_type": "stream",
     "text": [
      "filename from videocapture =  /Users/gautamkarnataki/MIDS/w251/project/w251-project/data/raw/ASL_2011_07_22_scene3-camera1_COURT_v2_7_val.mov\n"
     ]
    },
    {
     "name": "stderr",
     "output_type": "stream",
     "text": [
      "\n",
      "\n",
      " 96%|█████████▌| 150/156 [00:33<00:02,  2.13it/s]\u001b[A\u001b[A\n",
      "\n",
      " 97%|█████████▋| 151/156 [00:33<00:01,  2.75it/s]\u001b[A\u001b[A"
     ]
    },
    {
     "name": "stdout",
     "output_type": "stream",
     "text": [
      "filename from videocapture =  /Users/gautamkarnataki/MIDS/w251/project/w251-project/data/raw/ASL_2011_06_08_Brady_scene28-camera1_COAT_v0_3_val.mov\n",
      "filename from videocapture =  /Users/gautamkarnataki/MIDS/w251/project/w251-project/data/raw/ASL_2011_06_08_Brady_scene33-camera1_DEPRESS_v0_3_val.mov\n"
     ]
    },
    {
     "name": "stderr",
     "output_type": "stream",
     "text": [
      "\n",
      "\n",
      " 97%|█████████▋| 152/156 [00:33<00:01,  3.47it/s]\u001b[A\u001b[A\n",
      "\n",
      " 98%|█████████▊| 153/156 [00:33<00:00,  4.20it/s]\u001b[A\u001b[A"
     ]
    },
    {
     "name": "stdout",
     "output_type": "stream",
     "text": [
      "filename from videocapture =  /Users/gautamkarnataki/MIDS/w251/project/w251-project/data/raw/ASL_2011_06_14_Brady_scene43-camera1_COURT_v0_6_train.mov\n",
      "filename from videocapture =  /Users/gautamkarnataki/MIDS/w251/project/w251-project/data/raw/ASL_2008_02_01_scene38-camera1_COURT_v0_1_val.mov\n"
     ]
    },
    {
     "name": "stderr",
     "output_type": "stream",
     "text": [
      "\n",
      "\n",
      " 99%|█████████▊| 154/156 [00:34<00:00,  4.97it/s]\u001b[A\u001b[A\n",
      "\n",
      " 99%|█████████▉| 155/156 [00:34<00:00,  5.65it/s]\u001b[A\u001b[A"
     ]
    },
    {
     "name": "stdout",
     "output_type": "stream",
     "text": [
      "filename from videocapture =  /Users/gautamkarnataki/MIDS/w251/project/w251-project/data/raw/ASL_2008_05_29a_scene4-camera1_DRESS_v2_9_val.mov\n",
      "filename from videocapture =  /Users/gautamkarnataki/MIDS/w251/project/w251-project/data/raw/ASL_2008_05_12a_scene44-camera1_CHEAT_v2_1_val.mov\n"
     ]
    },
    {
     "name": "stderr",
     "output_type": "stream",
     "text": [
      "\n",
      "\n",
      "100%|██████████| 156/156 [00:34<00:00,  4.54it/s]\u001b[A\u001b[A"
     ]
    },
    {
     "name": "stdout",
     "output_type": "stream",
     "text": [
      "filename from videocapture =  /Users/gautamkarnataki/MIDS/w251/project/w251-project/data/raw/ASL_2006_10_10_scene5-camera1_CHEAP_v0_4_train.mov\n",
      "result_dir==============> /Users/gautamkarnataki/MIDS/w251/project/3dcnn/3DCNN/3dcnnresult\n",
      "label =============================  DEPOSIT\n",
      "label =============================  CAN\n",
      "label =============================  CONFLICT\n",
      "label =============================  DOCTOR\n",
      "label =============================  COAT\n",
      "label =============================  DRESS\n",
      "label =============================  CHAT\n",
      "label =============================  ENOUGH\n",
      "label =============================  WANT\n",
      "label =============================  ALL\n",
      "label =============================  BEHAVIOR\n",
      "label =============================  BASEBALL\n",
      "label =============================  CHEAT\n",
      "label =============================  AWKWARD\n",
      "label =============================  DEPRESS\n",
      "label =============================  AGAIN\n",
      "label =============================  COURT\n",
      "label =============================  CHURCH\n",
      "label =============================  CHEAP\n",
      "Saved dataset to dataset.npz.\n",
      "X_shape:(156, 32, 32, 10, 1)\n",
      "Y_shape:(156, 19)\n"
     ]
    },
    {
     "name": "stderr",
     "output_type": "stream",
     "text": [
      "\n"
     ]
    }
   ],
   "source": [
    "img_rows, img_cols, frames = 32, 32, depth\n",
    "channel = 15 if color else 1\n",
    "vid3d = Videoto3D(img_rows, img_cols, frames)\n",
    "nb_classes = nclass\n",
    "x, y = loaddata(videos, vid3d, nclass, output, color, skip)\n",
    "X = x.reshape((x.shape[0], img_rows, img_cols, frames, channel))\n",
    "Y = np_utils.to_categorical(y, nb_classes)\n",
    "X = X.astype('float32')\n",
    "    #np.savez(fname_npz, X=X, Y=Y)\n",
    "print('Saved dataset to dataset.npz.')\n",
    "print('X_shape:{}\\nY_shape:{}'.format(X.shape, Y.shape))"
   ]
  },
  {
   "cell_type": "code",
   "execution_count": 24,
   "metadata": {},
   "outputs": [],
   "source": [
    "from keras.applications.resnet50 import ResNet50\n",
    "from keras.preprocessing.image import ImageDataGenerator\n",
    "from keras.layers.pooling import AveragePooling2D\n",
    "from keras.applications import ResNet50\n",
    "from keras.layers.core import Dropout\n",
    "from keras.layers.core import Flatten\n",
    "from keras.layers.core import Dense\n",
    "from keras.layers import Input\n",
    "from keras.models import Model\n",
    "from keras.optimizers import SGD"
   ]
  },
  {
   "cell_type": "code",
   "execution_count": 30,
   "metadata": {},
   "outputs": [
    {
     "name": "stderr",
     "output_type": "stream",
     "text": [
      "/usr/local/lib/python3.7/site-packages/ipykernel_launcher.py:4: UserWarning: Update your `Conv3D` call to the Keras 2 API: `Conv3D(32, kernel_size=(3, 3, 3), input_shape=(32, 32, 1..., padding=\"same\")`\n",
      "  after removing the cwd from sys.path.\n",
      "/usr/local/lib/python3.7/site-packages/ipykernel_launcher.py:6: UserWarning: Update your `Conv3D` call to the Keras 2 API: `Conv3D(32, kernel_size=(3, 3, 3), padding=\"same\")`\n",
      "  \n",
      "/usr/local/lib/python3.7/site-packages/ipykernel_launcher.py:8: UserWarning: Update your `MaxPooling3D` call to the Keras 2 API: `MaxPooling3D(pool_size=(3, 3, 3), padding=\"same\")`\n",
      "  \n",
      "/usr/local/lib/python3.7/site-packages/ipykernel_launcher.py:11: UserWarning: Update your `Conv3D` call to the Keras 2 API: `Conv3D(64, kernel_size=(3, 3, 3), padding=\"same\")`\n",
      "  # This is added back by InteractiveShellApp.init_path()\n",
      "/usr/local/lib/python3.7/site-packages/ipykernel_launcher.py:13: UserWarning: Update your `Conv3D` call to the Keras 2 API: `Conv3D(64, kernel_size=(3, 3, 3), padding=\"same\")`\n",
      "  del sys.path[0]\n",
      "/usr/local/lib/python3.7/site-packages/ipykernel_launcher.py:15: UserWarning: Update your `MaxPooling3D` call to the Keras 2 API: `MaxPooling3D(pool_size=(3, 3, 3), padding=\"same\")`\n",
      "  from ipykernel import kernelapp as app\n"
     ]
    },
    {
     "name": "stdout",
     "output_type": "stream",
     "text": [
      "Model: \"sequential_2\"\n",
      "_________________________________________________________________\n",
      "Layer (type)                 Output Shape              Param #   \n",
      "=================================================================\n",
      "conv3d_5 (Conv3D)            (None, 32, 32, 10, 32)    896       \n",
      "_________________________________________________________________\n",
      "activation_348 (Activation)  (None, 32, 32, 10, 32)    0         \n",
      "_________________________________________________________________\n",
      "conv3d_6 (Conv3D)            (None, 32, 32, 10, 32)    27680     \n",
      "_________________________________________________________________\n",
      "activation_349 (Activation)  (None, 32, 32, 10, 32)    0         \n",
      "_________________________________________________________________\n",
      "max_pooling3d_3 (MaxPooling3 (None, 11, 11, 4, 32)     0         \n",
      "_________________________________________________________________\n",
      "dropout_4 (Dropout)          (None, 11, 11, 4, 32)     0         \n",
      "_________________________________________________________________\n",
      "conv3d_7 (Conv3D)            (None, 11, 11, 4, 64)     55360     \n",
      "_________________________________________________________________\n",
      "activation_350 (Activation)  (None, 11, 11, 4, 64)     0         \n",
      "_________________________________________________________________\n",
      "conv3d_8 (Conv3D)            (None, 11, 11, 4, 64)     110656    \n",
      "_________________________________________________________________\n",
      "activation_351 (Activation)  (None, 11, 11, 4, 64)     0         \n",
      "_________________________________________________________________\n",
      "max_pooling3d_4 (MaxPooling3 (None, 4, 4, 2, 64)       0         \n",
      "_________________________________________________________________\n",
      "dropout_5 (Dropout)          (None, 4, 4, 2, 64)       0         \n",
      "_________________________________________________________________\n",
      "flatten_2 (Flatten)          (None, 2048)              0         \n",
      "_________________________________________________________________\n",
      "dense_3 (Dense)              (None, 512)               1049088   \n",
      "_________________________________________________________________\n",
      "dropout_6 (Dropout)          (None, 512)               0         \n",
      "_________________________________________________________________\n",
      "dense_4 (Dense)              (None, 19)                9747      \n",
      "=================================================================\n",
      "Total params: 1,253,427\n",
      "Trainable params: 1,253,427\n",
      "Non-trainable params: 0\n",
      "_________________________________________________________________\n",
      "Y train = [0. 0. 0. 0. 0. 0. 1. 0. 0. 0. 0. 0. 0. 0. 0. 0. 0. 0. 0.]\n",
      "Y train = [0. 0. 0. 1. 0. 0. 0. 0. 0. 0. 0. 0. 0. 0. 0. 0. 0. 0. 0.]\n",
      "Y train = [0. 0. 0. 0. 0. 0. 0. 0. 0. 0. 0. 0. 0. 0. 0. 0. 0. 0. 1.]\n",
      "Y train = [0. 0. 0. 0. 0. 0. 1. 0. 0. 0. 0. 0. 0. 0. 0. 0. 0. 0. 0.]\n",
      "Y train = [0. 0. 0. 0. 0. 0. 0. 0. 0. 0. 0. 0. 1. 0. 0. 0. 0. 0. 0.]\n",
      "Y train = [0. 0. 1. 0. 0. 0. 0. 0. 0. 0. 0. 0. 0. 0. 0. 0. 0. 0. 0.]\n",
      "Y train = [0. 0. 0. 0. 0. 0. 0. 0. 0. 0. 0. 0. 0. 0. 0. 0. 1. 0. 0.]\n",
      "Y train = [0. 0. 0. 0. 0. 0. 0. 0. 0. 0. 0. 0. 0. 0. 1. 0. 0. 0. 0.]\n",
      "Y train = [0. 1. 0. 0. 0. 0. 0. 0. 0. 0. 0. 0. 0. 0. 0. 0. 0. 0. 0.]\n",
      "Y train = [0. 0. 0. 0. 0. 1. 0. 0. 0. 0. 0. 0. 0. 0. 0. 0. 0. 0. 0.]\n",
      "Y train = [0. 0. 0. 1. 0. 0. 0. 0. 0. 0. 0. 0. 0. 0. 0. 0. 0. 0. 0.]\n",
      "Y train = [0. 0. 0. 0. 0. 0. 0. 0. 1. 0. 0. 0. 0. 0. 0. 0. 0. 0. 0.]\n",
      "Y train = [0. 1. 0. 0. 0. 0. 0. 0. 0. 0. 0. 0. 0. 0. 0. 0. 0. 0. 0.]\n",
      "Y train = [0. 0. 0. 0. 0. 0. 0. 0. 0. 0. 0. 1. 0. 0. 0. 0. 0. 0. 0.]\n",
      "Y train = [0. 0. 0. 0. 0. 0. 0. 0. 0. 0. 0. 0. 0. 0. 0. 0. 0. 0. 1.]\n",
      "Y train = [0. 0. 0. 0. 0. 0. 0. 0. 0. 0. 1. 0. 0. 0. 0. 0. 0. 0. 0.]\n",
      "Y train = [0. 0. 0. 0. 0. 0. 0. 0. 0. 0. 0. 0. 0. 0. 0. 1. 0. 0. 0.]\n",
      "Y train = [0. 0. 0. 1. 0. 0. 0. 0. 0. 0. 0. 0. 0. 0. 0. 0. 0. 0. 0.]\n",
      "Y train = [0. 0. 0. 0. 0. 0. 0. 0. 0. 0. 1. 0. 0. 0. 0. 0. 0. 0. 0.]\n",
      "Y train = [0. 0. 0. 0. 0. 0. 0. 0. 0. 0. 0. 0. 0. 0. 1. 0. 0. 0. 0.]\n",
      "Y train = [0. 1. 0. 0. 0. 0. 0. 0. 0. 0. 0. 0. 0. 0. 0. 0. 0. 0. 0.]\n",
      "Y train = [0. 0. 0. 0. 0. 0. 0. 0. 0. 0. 0. 0. 0. 0. 0. 0. 0. 1. 0.]\n",
      "Y train = [0. 0. 0. 0. 0. 0. 0. 0. 0. 0. 0. 0. 0. 0. 0. 0. 1. 0. 0.]\n",
      "Y train = [0. 0. 0. 0. 0. 0. 0. 0. 0. 0. 0. 0. 0. 0. 0. 0. 0. 1. 0.]\n",
      "Y train = [0. 0. 0. 0. 0. 0. 1. 0. 0. 0. 0. 0. 0. 0. 0. 0. 0. 0. 0.]\n",
      "Y train = [1. 0. 0. 0. 0. 0. 0. 0. 0. 0. 0. 0. 0. 0. 0. 0. 0. 0. 0.]\n",
      "Y train = [0. 0. 0. 0. 0. 0. 0. 0. 0. 0. 1. 0. 0. 0. 0. 0. 0. 0. 0.]\n",
      "Y train = [0. 0. 0. 0. 0. 1. 0. 0. 0. 0. 0. 0. 0. 0. 0. 0. 0. 0. 0.]\n",
      "Y train = [0. 0. 0. 0. 0. 0. 1. 0. 0. 0. 0. 0. 0. 0. 0. 0. 0. 0. 0.]\n",
      "Y train = [0. 0. 0. 0. 0. 0. 0. 0. 0. 0. 0. 0. 0. 0. 0. 0. 1. 0. 0.]\n",
      "Y train = [0. 0. 0. 0. 0. 0. 0. 0. 0. 0. 0. 0. 0. 0. 0. 0. 1. 0. 0.]\n",
      "Y train = [0. 0. 0. 1. 0. 0. 0. 0. 0. 0. 0. 0. 0. 0. 0. 0. 0. 0. 0.]\n",
      "Y train = [0. 0. 0. 0. 1. 0. 0. 0. 0. 0. 0. 0. 0. 0. 0. 0. 0. 0. 0.]\n",
      "Y train = [0. 0. 0. 0. 0. 0. 0. 1. 0. 0. 0. 0. 0. 0. 0. 0. 0. 0. 0.]\n",
      "Y train = [0. 0. 0. 0. 0. 0. 0. 0. 0. 0. 0. 0. 0. 1. 0. 0. 0. 0. 0.]\n",
      "Y train = [1. 0. 0. 0. 0. 0. 0. 0. 0. 0. 0. 0. 0. 0. 0. 0. 0. 0. 0.]\n",
      "Y train = [0. 0. 0. 1. 0. 0. 0. 0. 0. 0. 0. 0. 0. 0. 0. 0. 0. 0. 0.]\n",
      "Y train = [0. 0. 0. 0. 0. 0. 1. 0. 0. 0. 0. 0. 0. 0. 0. 0. 0. 0. 0.]\n",
      "Y train = [0. 0. 1. 0. 0. 0. 0. 0. 0. 0. 0. 0. 0. 0. 0. 0. 0. 0. 0.]\n",
      "Y train = [1. 0. 0. 0. 0. 0. 0. 0. 0. 0. 0. 0. 0. 0. 0. 0. 0. 0. 0.]\n",
      "Y train = [0. 0. 0. 0. 0. 1. 0. 0. 0. 0. 0. 0. 0. 0. 0. 0. 0. 0. 0.]\n",
      "Y train = [0. 0. 0. 0. 0. 0. 1. 0. 0. 0. 0. 0. 0. 0. 0. 0. 0. 0. 0.]\n",
      "Y train = [0. 0. 0. 0. 0. 1. 0. 0. 0. 0. 0. 0. 0. 0. 0. 0. 0. 0. 0.]\n",
      "Y train = [1. 0. 0. 0. 0. 0. 0. 0. 0. 0. 0. 0. 0. 0. 0. 0. 0. 0. 0.]\n",
      "Y train = [0. 0. 0. 0. 0. 0. 0. 0. 0. 0. 0. 0. 0. 0. 0. 0. 0. 1. 0.]\n",
      "Y train = [0. 0. 0. 0. 0. 0. 0. 0. 0. 0. 0. 0. 0. 0. 1. 0. 0. 0. 0.]\n",
      "Y train = [0. 1. 0. 0. 0. 0. 0. 0. 0. 0. 0. 0. 0. 0. 0. 0. 0. 0. 0.]\n",
      "Y train = [0. 0. 0. 0. 0. 1. 0. 0. 0. 0. 0. 0. 0. 0. 0. 0. 0. 0. 0.]\n",
      "Y train = [0. 0. 1. 0. 0. 0. 0. 0. 0. 0. 0. 0. 0. 0. 0. 0. 0. 0. 0.]\n",
      "Y train = [0. 0. 0. 0. 0. 1. 0. 0. 0. 0. 0. 0. 0. 0. 0. 0. 0. 0. 0.]\n",
      "Train on 124 samples, validate on 32 samples\n",
      "Epoch 1/50\n",
      "124/124 [==============================] - 18s 144ms/step - loss: 3.3570 - accuracy: 0.0484 - val_loss: 2.9720 - val_accuracy: 0.1250\n",
      "Epoch 2/50\n",
      "124/124 [==============================] - 18s 143ms/step - loss: 3.0738 - accuracy: 0.0968 - val_loss: 3.0408 - val_accuracy: 0.1250\n",
      "Epoch 3/50\n",
      "124/124 [==============================] - 16s 133ms/step - loss: 3.0202 - accuracy: 0.0726 - val_loss: 3.0850 - val_accuracy: 0.1250\n",
      "Epoch 4/50\n",
      "124/124 [==============================] - 15s 122ms/step - loss: 3.0558 - accuracy: 0.1290 - val_loss: 3.0454 - val_accuracy: 0.1250\n",
      "Epoch 5/50\n",
      "124/124 [==============================] - 13s 108ms/step - loss: 3.1261 - accuracy: 0.0726 - val_loss: 2.9831 - val_accuracy: 0.1250\n",
      "Epoch 6/50\n",
      "124/124 [==============================] - 13s 106ms/step - loss: 3.0516 - accuracy: 0.0645 - val_loss: 3.0027 - val_accuracy: 0.1250\n",
      "Epoch 7/50\n",
      "124/124 [==============================] - 13s 103ms/step - loss: 3.0488 - accuracy: 0.1048 - val_loss: 3.0120 - val_accuracy: 0.1250\n",
      "Epoch 8/50\n",
      "124/124 [==============================] - 13s 102ms/step - loss: 2.9859 - accuracy: 0.1129 - val_loss: 3.0365 - val_accuracy: 0.1250\n",
      "Epoch 9/50\n",
      "124/124 [==============================] - 14s 110ms/step - loss: 2.9574 - accuracy: 0.1371 - val_loss: 3.0167 - val_accuracy: 0.1250\n",
      "Epoch 10/50\n",
      "124/124 [==============================] - 13s 106ms/step - loss: 2.9795 - accuracy: 0.1048 - val_loss: 2.9720 - val_accuracy: 0.1250\n",
      "Epoch 11/50\n",
      "124/124 [==============================] - 13s 108ms/step - loss: 2.9012 - accuracy: 0.1452 - val_loss: 3.0388 - val_accuracy: 0.1250\n",
      "Epoch 12/50\n",
      "124/124 [==============================] - 14s 111ms/step - loss: 3.0052 - accuracy: 0.1532 - val_loss: 3.0619 - val_accuracy: 0.1250\n",
      "Epoch 13/50\n",
      "124/124 [==============================] - 13s 108ms/step - loss: 2.8944 - accuracy: 0.1452 - val_loss: 3.0630 - val_accuracy: 0.1250\n",
      "Epoch 14/50\n",
      "124/124 [==============================] - 14s 113ms/step - loss: 2.9619 - accuracy: 0.1290 - val_loss: 3.0354 - val_accuracy: 0.1250\n",
      "Epoch 15/50\n",
      "124/124 [==============================] - 14s 110ms/step - loss: 3.0681 - accuracy: 0.1129 - val_loss: 3.0256 - val_accuracy: 0.1250\n",
      "Epoch 16/50\n"
     ]
    },
    {
     "name": "stdout",
     "output_type": "stream",
     "text": [
      "124/124 [==============================] - 13s 106ms/step - loss: 2.8696 - accuracy: 0.1290 - val_loss: 3.0267 - val_accuracy: 0.1250\n",
      "Epoch 17/50\n",
      "124/124 [==============================] - 13s 102ms/step - loss: 2.9418 - accuracy: 0.0968 - val_loss: 3.0046 - val_accuracy: 0.1250\n",
      "Epoch 18/50\n",
      "124/124 [==============================] - 14s 111ms/step - loss: 2.9538 - accuracy: 0.1129 - val_loss: 3.0405 - val_accuracy: 0.1250\n",
      "Epoch 19/50\n",
      "124/124 [==============================] - 14s 111ms/step - loss: 2.8675 - accuracy: 0.1290 - val_loss: 2.9859 - val_accuracy: 0.1250\n",
      "Epoch 20/50\n",
      "124/124 [==============================] - 13s 102ms/step - loss: 2.9176 - accuracy: 0.1048 - val_loss: 3.0219 - val_accuracy: 0.1250\n",
      "Epoch 21/50\n",
      "124/124 [==============================] - 13s 107ms/step - loss: 2.8546 - accuracy: 0.1290 - val_loss: 3.0221 - val_accuracy: 0.1250\n",
      "Epoch 22/50\n",
      "124/124 [==============================] - 12s 100ms/step - loss: 2.8689 - accuracy: 0.1290 - val_loss: 2.9915 - val_accuracy: 0.1250\n",
      "Epoch 23/50\n",
      "124/124 [==============================] - 13s 102ms/step - loss: 2.9186 - accuracy: 0.1290 - val_loss: 2.9957 - val_accuracy: 0.1250\n",
      "Epoch 24/50\n",
      "124/124 [==============================] - 13s 101ms/step - loss: 2.8337 - accuracy: 0.1210 - val_loss: 2.9663 - val_accuracy: 0.1250\n",
      "Epoch 25/50\n",
      "124/124 [==============================] - 15s 119ms/step - loss: 2.7828 - accuracy: 0.1694 - val_loss: 2.9417 - val_accuracy: 0.1250\n",
      "Epoch 26/50\n",
      "124/124 [==============================] - 14s 111ms/step - loss: 2.8029 - accuracy: 0.1774 - val_loss: 2.9022 - val_accuracy: 0.1250\n",
      "Epoch 27/50\n",
      "124/124 [==============================] - 15s 120ms/step - loss: 2.7316 - accuracy: 0.1774 - val_loss: 2.8930 - val_accuracy: 0.1250\n",
      "Epoch 28/50\n",
      "124/124 [==============================] - 14s 110ms/step - loss: 2.6606 - accuracy: 0.2258 - val_loss: 2.8591 - val_accuracy: 0.1875\n",
      "Epoch 29/50\n",
      "124/124 [==============================] - 15s 117ms/step - loss: 2.5626 - accuracy: 0.2258 - val_loss: 2.8889 - val_accuracy: 0.1875\n",
      "Epoch 30/50\n",
      "124/124 [==============================] - 13s 109ms/step - loss: 2.5526 - accuracy: 0.2258 - val_loss: 2.8368 - val_accuracy: 0.2188\n",
      "Epoch 31/50\n",
      "124/124 [==============================] - 13s 108ms/step - loss: 2.4722 - accuracy: 0.2500 - val_loss: 2.8562 - val_accuracy: 0.1875\n",
      "Epoch 32/50\n",
      "124/124 [==============================] - 13s 109ms/step - loss: 2.4270 - accuracy: 0.2339 - val_loss: 2.8161 - val_accuracy: 0.2188\n",
      "Epoch 33/50\n",
      "124/124 [==============================] - 13s 104ms/step - loss: 2.3582 - accuracy: 0.2984 - val_loss: 2.8373 - val_accuracy: 0.1875\n",
      "Epoch 34/50\n",
      "124/124 [==============================] - 13s 104ms/step - loss: 2.2347 - accuracy: 0.3468 - val_loss: 2.7897 - val_accuracy: 0.1875\n",
      "Epoch 35/50\n",
      "124/124 [==============================] - 13s 107ms/step - loss: 2.2169 - accuracy: 0.3306 - val_loss: 2.7298 - val_accuracy: 0.1875\n",
      "Epoch 36/50\n",
      "124/124 [==============================] - 13s 107ms/step - loss: 2.1668 - accuracy: 0.3871 - val_loss: 2.8989 - val_accuracy: 0.1875\n",
      "Epoch 37/50\n",
      "124/124 [==============================] - 13s 104ms/step - loss: 2.0886 - accuracy: 0.3790 - val_loss: 2.8036 - val_accuracy: 0.2188\n",
      "Epoch 38/50\n",
      "124/124 [==============================] - 13s 105ms/step - loss: 2.0437 - accuracy: 0.4435 - val_loss: 2.8569 - val_accuracy: 0.1875\n",
      "Epoch 39/50\n",
      "124/124 [==============================] - 13s 107ms/step - loss: 1.9681 - accuracy: 0.3952 - val_loss: 2.7967 - val_accuracy: 0.2500\n",
      "Epoch 40/50\n",
      "124/124 [==============================] - 15s 123ms/step - loss: 1.8669 - accuracy: 0.4597 - val_loss: 2.9044 - val_accuracy: 0.2188\n",
      "Epoch 41/50\n",
      "124/124 [==============================] - 17s 133ms/step - loss: 1.9112 - accuracy: 0.4032 - val_loss: 2.8310 - val_accuracy: 0.2188\n",
      "Epoch 42/50\n",
      "124/124 [==============================] - 15s 117ms/step - loss: 1.8714 - accuracy: 0.4032 - val_loss: 3.0021 - val_accuracy: 0.1875\n",
      "Epoch 43/50\n",
      "124/124 [==============================] - 14s 116ms/step - loss: 1.8078 - accuracy: 0.4355 - val_loss: 3.0609 - val_accuracy: 0.1562\n",
      "Epoch 44/50\n",
      "124/124 [==============================] - 15s 123ms/step - loss: 1.6661 - accuracy: 0.4516 - val_loss: 3.0543 - val_accuracy: 0.2188\n",
      "Epoch 45/50\n",
      "124/124 [==============================] - 14s 116ms/step - loss: 1.6609 - accuracy: 0.4758 - val_loss: 3.2605 - val_accuracy: 0.1250\n",
      "Epoch 46/50\n",
      "124/124 [==============================] - 19s 150ms/step - loss: 1.5810 - accuracy: 0.5000 - val_loss: 3.0407 - val_accuracy: 0.1875\n",
      "Epoch 47/50\n",
      "124/124 [==============================] - 16s 129ms/step - loss: 1.5520 - accuracy: 0.5323 - val_loss: 3.0129 - val_accuracy: 0.2188\n",
      "Epoch 48/50\n",
      "124/124 [==============================] - 16s 131ms/step - loss: 1.4007 - accuracy: 0.5968 - val_loss: 3.1661 - val_accuracy: 0.1562\n",
      "Epoch 49/50\n",
      "124/124 [==============================] - 15s 118ms/step - loss: 1.3847 - accuracy: 0.5726 - val_loss: 3.2151 - val_accuracy: 0.1250\n",
      "Epoch 50/50\n",
      "124/124 [==============================] - 14s 111ms/step - loss: 1.3790 - accuracy: 0.5645 - val_loss: 3.1451 - val_accuracy: 0.1875\n",
      "Test loss: 3.1450815200805664\n",
      "Test accuracy: 0.1875\n"
     ]
    }
   ],
   "source": [
    "# Define model\n",
    "#baseModel = ResNet50(weights=\"imagenet\", include_top=False)\n",
    "model = Sequential()\n",
    "model.add(Conv3D(32, kernel_size=(3, 3, 3), input_shape=(X.shape[1:]), border_mode='same'))\n",
    "model.add(Activation('relu'))\n",
    "model.add(Conv3D(32, kernel_size=(3, 3, 3), border_mode='same'))\n",
    "model.add(Activation('softmax'))\n",
    "model.add(MaxPooling3D(pool_size=(3, 3, 3), border_mode='same'))\n",
    "model.add(Dropout(0.25))\n",
    "\n",
    "model.add(Conv3D(64, kernel_size=(3, 3, 3), border_mode='same'))\n",
    "model.add(Activation('relu'))\n",
    "model.add(Conv3D(64, kernel_size=(3, 3, 3), border_mode='same'))\n",
    "model.add(Activation('softmax'))\n",
    "model.add(MaxPooling3D(pool_size=(3, 3, 3), border_mode='same'))\n",
    "model.add(Dropout(0.25))\n",
    "\n",
    "model.add(Flatten())\n",
    "model.add(Dense(512, activation='sigmoid'))\n",
    "model.add(Dropout(0.5))\n",
    "model.add(Dense(nb_classes, activation='softmax'))\n",
    "\n",
    "model.compile(loss=categorical_crossentropy,optimizer=Adam(), metrics=['accuracy'])\n",
    "model.summary()\n",
    "X_train, X_test, Y_train, Y_test = train_test_split(X, Y, test_size=0.2, random_state=43)\n",
    "\n",
    "for i in range(50):\n",
    "    print('Y train =', Y_train[i])\n",
    "\n",
    "model.fit(X_train, Y_train, validation_data=(X_test, Y_test), batch_size=batch,\n",
    "                    epochs=epoch, verbose=1, shuffle=True)\n",
    "model.evaluate(X_test, Y_test, verbose=0)\n",
    "model_json = model.to_json()\n",
    "if not os.path.isdir(output):\n",
    "    os.makedirs(output)\n",
    "with open(os.path.join(output, 'ucf101_3dcnnmodel.json'), 'w') as json_file:\n",
    "    json_file.write(model_json)\n",
    "model.save_weights(os.path.join(output, 'ucf101_3dcnnmodel.hd5'))\n",
    "\n",
    "loss, acc = model.evaluate(X_test, Y_test, verbose=0)\n",
    "print('Test loss:', loss)\n",
    "print('Test accuracy:', acc)\n"
   ]
  },
  {
   "cell_type": "code",
   "execution_count": null,
   "metadata": {},
   "outputs": [],
   "source": []
  },
  {
   "cell_type": "code",
   "execution_count": null,
   "metadata": {},
   "outputs": [],
   "source": []
  }
 ],
 "metadata": {
  "kernelspec": {
   "display_name": "Python 3",
   "language": "python",
   "name": "python3"
  },
  "language_info": {
   "codemirror_mode": {
    "name": "ipython",
    "version": 3
   },
   "file_extension": ".py",
   "mimetype": "text/x-python",
   "name": "python",
   "nbconvert_exporter": "python",
   "pygments_lexer": "ipython3",
   "version": "3.7.7"
  }
 },
 "nbformat": 4,
 "nbformat_minor": 2
}
