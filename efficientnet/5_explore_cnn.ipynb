{
 "cells": [
  {
   "cell_type": "code",
   "execution_count": 1,
   "metadata": {
    "collapsed": true,
    "pycharm": {
     "is_executing": false
    }
   },
   "outputs": [
    {
     "name": "stderr",
     "text": [
      "Using TensorFlow backend.\n"
     ],
     "output_type": "stream"
    }
   ],
   "source": [
    "# Try to set as many seeds as I can so that keras model is reproducible\n",
    "# But I failed...\n",
    "# Reference (seed): https://stackoverflow.com/questions/32419510/how-to-get-reproducible-results-in-keras\n",
    "# Reference (seed): https://github.com/keras-team/keras/issues/2743\n",
    "from PIL import Image\n",
    "import numpy as np\n",
    "import os\n",
    "from matplotlib import pyplot as plt\n",
    "import re\n",
    "import random\n",
    "import cv2\n",
    "random.seed(251)\n",
    "np.random.seed(251)\n",
    "os.environ['PYTHONHASHSEED']=str(251)\n",
    "\n",
    "from keras.utils import to_categorical\n",
    "from keras.models import Sequential, load_model\n",
    "from keras.layers import Dense, Flatten, Conv2D, MaxPooling2D, Dropout, BatchNormalization\n",
    "\n",
    "import tensorflow as tf\n",
    "tf.compat.v1.set_random_seed(251)"
   ]
  },
  {
   "cell_type": "code",
   "execution_count": 2,
   "outputs": [],
   "source": [
    "project_path = r'D:\\UCBerkeley\\CourseWork\\202001\\W251\\Homework\\Project'\n",
    "dir_train = 'train_optical_flow_output_crop_2'\n",
    "dir_test = 'val_optical_flow_output_crop_2'\n",
    "\n",
    "test_image = 'mask_AGAIN_c4_train_ql2160.png'\n",
    "\n",
    "image_shape = (450, 360)"
   ],
   "metadata": {
    "collapsed": false,
    "pycharm": {
     "name": "#%%\n",
     "is_executing": false
    }
   }
  },
  {
   "cell_type": "code",
   "execution_count": 3,
   "outputs": [
    {
     "name": "stdout",
     "text": [
      "[[0 0 0 ... 0 0 0]\n [0 0 0 ... 0 0 0]\n [0 0 0 ... 0 0 0]\n ...\n [0 0 0 ... 0 0 0]\n [0 0 0 ... 0 0 0]\n [0 0 0 ... 0 0 0]]\n"
     ],
     "output_type": "stream"
    }
   ],
   "source": [
    "# Reference (convert to gray-scaled image): https://brohrer.github.io/convert_rgb_to_grayscale.html\n",
    "# color_img_arr = np.asarray(Image.open(os.path.join(project_path, dir_train, test_image)))\n",
    "# gray_img_arr = np.mean(color_img_arr, axis=2)\n",
    "color_img = cv2.imread(os.path.join(project_path, dir_train, test_image))\n",
    "color_resize = cv2.resize(color_img, image_shape, interpolation=cv2.INTER_AREA)\n",
    "color_img_arr = np.array(color_resize)\n",
    "# Green color is (0, 255, 0)\n",
    "# mean => (0, 255/3, 0), we don't want that => use sum\n",
    "gray_img_arr = np.sum(color_img_arr, axis=2)\n",
    "print(gray_img_arr)"
   ],
   "metadata": {
    "collapsed": false,
    "pycharm": {
     "name": "#%%\n",
     "is_executing": false
    }
   }
  },
  {
   "cell_type": "code",
   "execution_count": 4,
   "outputs": [
    {
     "data": {
      "text/plain": "<matplotlib.image.AxesImage at 0x223b9d4bb08>"
     },
     "metadata": {},
     "output_type": "execute_result",
     "execution_count": 4
    },
    {
     "data": {
      "text/plain": "<Figure size 432x288 with 1 Axes>",
      "image/png": "[encoded data removed]"
     },
     "metadata": {
      "needs_background": "light"
     },
     "output_type": "display_data"
    }
   ],
   "source": [
    "# Reference: https://www.pluralsight.com/guides/importing-image-data-into-numpy-arrays\n",
    "test_image2 = Image.fromarray(gray_img_arr)\n",
    "plt.imshow(test_image2)"
   ],
   "metadata": {
    "collapsed": false,
    "pycharm": {
     "name": "#%%\n",
     "is_executing": false
    }
   }
  },
  {
   "cell_type": "code",
   "execution_count": 5,
   "outputs": [],
   "source": [
    "train_file_lst = [f for f in os.listdir(os.path.join(project_path, dir_train)) \n",
    "                  if f[-4:]=='.png' and f[:5] == 'mask_' and re.search('_train_', f)]\n",
    "val_file_lst = [f for f in os.listdir(os.path.join(project_path, dir_train)) \n",
    "                  if f[-4:]=='.png' and f[:5] == 'mask_' and re.search('_val_', f)]  "
   ],
   "metadata": {
    "collapsed": false,
    "pycharm": {
     "name": "#%%\n",
     "is_executing": false
    }
   }
  },
  {
   "cell_type": "code",
   "execution_count": 6,
   "outputs": [
    {
     "name": "stdout",
     "text": [
      "AGAIN\n8\n"
     ],
     "output_type": "stream"
    }
   ],
   "source": [
    "# List all the vocab \n",
    "all_vocab = set([f.split('_')[1] for f in os.listdir(os.path.join(project_path, dir_train))])\n",
    "def conv_index_to_vocab(ind):\n",
    "    temp_dict = dict(enumerate(all_vocab))\n",
    "    return temp_dict[ind]\n",
    "def conv_vocab_to_index(vocab):\n",
    "    temp_dict = dict(zip(all_vocab,range(len(all_vocab))))\n",
    "    return temp_dict[vocab]\n",
    "\n",
    "print(conv_index_to_vocab(0))\n",
    "print(conv_vocab_to_index('NEG'))"
   ],
   "metadata": {
    "collapsed": false,
    "pycharm": {
     "name": "#%%\n",
     "is_executing": false
    }
   }
  },
  {
   "cell_type": "code",
   "execution_count": 7,
   "outputs": [],
   "source": [
    "def file_lst_to_array(proj_path, in_dir, in_f_list):\n",
    "    out_x_arr = []\n",
    "    out_y_arr = []\n",
    "    for f in in_f_list:\n",
    "        in_img = cv2.imread(os.path.join(proj_path, in_dir, f))\n",
    "        in_img_resize = cv2.resize(in_img, image_shape, interpolation=cv2.INTER_AREA)\n",
    "        in_img_resize_arr = np.array(in_img_resize)\n",
    "        # convert to black-white image\n",
    "        out_img_arr = np.mean(in_img_resize_arr, axis=2)\n",
    "        out_x_arr.append(out_img_arr)\n",
    "        \n",
    "        temp_vocab = f.split('_')[1]\n",
    "        temp_ind = conv_vocab_to_index(temp_vocab) \n",
    "        out_y_arr.append(temp_ind)\n",
    "    return np.array(out_x_arr), np.array(out_y_arr)\n"
   ],
   "metadata": {
    "collapsed": false,
    "pycharm": {
     "name": "#%%\n",
     "is_executing": false
    }
   }
  },
  {
   "cell_type": "code",
   "execution_count": 8,
   "outputs": [
    {
     "name": "stdout",
     "text": [
      "(78, 360, 450)\n(78,)\n",
      "(78, 360, 450)\n(78,)\n"
     ],
     "output_type": "stream"
    }
   ],
   "source": [
    "x_train, y_train = file_lst_to_array(project_path, dir_train, train_file_lst)\n",
    "print(x_train.shape)\n",
    "print(y_train.shape)\n",
    "x_val, y_val = file_lst_to_array(project_path, dir_train, val_file_lst)\n",
    "print(x_val.shape)\n",
    "print(y_val.shape)\n",
    "\n",
    "# Reference (reshape for Keras): https://yashk2810.github.io/Applying-Convolutional-Neural-Network-on-the-MNIST-dataset/\n",
    "x_train = x_train.reshape(x_train.shape[0], image_shape[1], image_shape[0], 1)\n",
    "x_val = x_val.reshape(x_val.shape[0], image_shape[1], image_shape[0], 1)\n",
    "y_train_one_hot = to_categorical(y_train)\n",
    "y_val_one_hot = to_categorical(y_val)\n",
    "\n",
    "x_train = x_train / 255\n",
    "x_val = x_val / 255"
   ],
   "metadata": {
    "collapsed": false,
    "pycharm": {
     "name": "#%%\n",
     "is_executing": false
    }
   }
  },
  {
   "cell_type": "code",
   "execution_count": 9,
   "outputs": [],
   "source": [
    "session_conf = tf.compat.v1.ConfigProto(intra_op_parallelism_threads=1, inter_op_parallelism_threads=1)\n",
    "sess = tf.compat.v1.Session(graph=tf.compat.v1.get_default_graph(), config=session_conf)\n",
    "tf.compat.v1.keras.backend.set_session(sess)"
   ],
   "metadata": {
    "collapsed": false,
    "pycharm": {
     "name": "#%%\n",
     "is_executing": false
    }
   }
  },
  {
   "cell_type": "code",
   "execution_count": 10,
   "outputs": [],
   "source": [
    "# Reference (model): https://medium.com/@randerson112358/classify-images-using-convolutional-neural-networks-python-a89cecc8c679\n",
    "model = Sequential()\n",
    "model.add(Conv2D(filters=8, kernel_size=(20, 20), strides=5, activation='relu', input_shape=(image_shape[1], image_shape[0], 1)))\n",
    "# Reference (Batch Normalization): https://www.dlology.com/blog/one-simple-trick-to-train-keras-model-faster-with-batch-normalization/\n",
    "# model.add(BatchNormalization())\n",
    "model.add(MaxPooling2D(pool_size=(5, 5)))\n",
    "# model.add(Conv2D(filters=64, kernel_size=(5, 5), activation='relu'))\n",
    "# model.add(BatchNormalization())\n",
    "# model.add(MaxPooling2D(pool_size=(2, 2)))\n",
    "model.add(Flatten())\n",
    "model.add(Dropout(0.25))\n",
    "# model.add(Dense(100, activation='relu'))\n",
    "model.add(Dense(19, activation='softmax'))"
   ],
   "metadata": {
    "collapsed": false,
    "pycharm": {
     "name": "#%%\n",
     "is_executing": false
    }
   }
  },
  {
   "cell_type": "code",
   "execution_count": 11,
   "outputs": [
    {
     "name": "stdout",
     "text": [
      "Model: \"sequential_1\"\n_________________________________________________________________\nLayer (type)                 Output Shape              Param #   \n=================================================================\nconv2d_1 (Conv2D)            (None, 69, 87, 8)         3208      \n_________________________________________________________________\nmax_pooling2d_1 (MaxPooling2 (None, 13, 17, 8)         0         \n_________________________________________________________________\nflatten_1 (Flatten)          (None, 1768)              0         \n_________________________________________________________________\ndropout_1 (Dropout)          (None, 1768)              0         \n_________________________________________________________________\ndense_1 (Dense)              (None, 19)                33611     \n=================================================================\nTotal params: 36,819\nTrainable params: 36,819\nNon-trainable params: 0\n_________________________________________________________________\n"
     ],
     "output_type": "stream"
    }
   ],
   "source": [
    "model.compile(loss='categorical_crossentropy', \n",
    "              optimizer='adam',\n",
    "              metrics=['accuracy'])\n",
    "model.summary()"
   ],
   "metadata": {
    "collapsed": false,
    "pycharm": {
     "name": "#%%\n",
     "is_executing": false
    }
   }
  },
  {
   "cell_type": "code",
   "execution_count": 12,
   "outputs": [
    {
     "name": "stdout",
     "text": [
      "Train on 78 samples, validate on 78 samples\nEpoch 1/10\n",
      "\r16/78 [=====>........................] - ETA: 1s - loss: 2.9671 - accuracy: 0.0000e+00",
      "\b\b\b\b\b\b\b\b\b\b\b\b\b\b\b\b\b\b\b\b\b\b\b\b\b\b\b\b\b\b\b\b\b\b\b\b\b\b\b\b\b\b\b\b\b\b\b\b\b\b\b\b\b\b\b\b\b\b\b\b\b\b\b\b\b\b\b\b\b\b\b\b\b\b\b\b\b\b\b\b\b\b\b\b\b\b\r32/78 [===========>..................] - ETA: 0s - loss: 2.9669 - accuracy: 0.0312    ",
      "\b\b\b\b\b\b\b\b\b\b\b\b\b\b\b\b\b\b\b\b\b\b\b\b\b\b\b\b\b\b\b\b\b\b\b\b\b\b\b\b\b\b\b\b\b\b\b\b\b\b\b\b\b\b\b\b\b\b\b\b\b\b\b\b\b\b\b\b\b\b\b\b\b\b\b\b\b\b\b\b\b\b\r48/78 [=================>............] - ETA: 0s - loss: 2.9580 - accuracy: 0.0625",
      "\b\b\b\b\b\b\b\b\b\b\b\b\b\b\b\b\b\b\b\b\b\b\b\b\b\b\b\b\b\b\b\b\b\b\b\b\b\b\b\b\b\b\b\b\b\b\b\b\b\b\b\b\b\b\b\b\b\b\b\b\b\b\b\b\b\b\b\b\b\b\b\b\b\b\b\b\b\b\b\b\b\b\r64/78 [=======================>......] - ETA: 0s - loss: 2.9577 - accuracy: 0.0781",
      "\b\b\b\b\b\b\b\b\b\b\b\b\b\b\b\b\b\b\b\b\b\b\b\b\b\b\b\b\b\b\b\b\b\b\b\b\b\b\b\b\b\b\b\b\b\b\b\b\b\b\b\b\b\b\b\b\b\b\b\b\b\b\b\b\b\b\b\b\b\b\b\b\b\b\b\b\b\b\b\b\b\b\r78/78 [==============================] - 2s 22ms/step - loss: 2.9560 - accuracy: 0.0769 - val_loss: 2.8810 - val_accuracy: 0.1538\n",
      "Epoch 2/10\n",
      "\r16/78 [=====>........................] - ETA: 0s - loss: 2.8676 - accuracy: 0.1875",
      "\b\b\b\b\b\b\b\b\b\b\b\b\b\b\b\b\b\b\b\b\b\b\b\b\b\b\b\b\b\b\b\b\b\b\b\b\b\b\b\b\b\b\b\b\b\b\b\b\b\b\b\b\b\b\b\b\b\b\b\b\b\b\b\b\b\b\b\b\b\b\b\b\b\b\b\b\b\b\b\b\b\b\r32/78 [===========>..................] - ETA: 0s - loss: 2.8623 - accuracy: 0.1562",
      "\b\b\b\b\b\b\b\b\b\b\b\b\b\b\b\b\b\b\b\b\b\b\b\b\b\b\b\b\b\b\b\b\b\b\b\b\b\b\b\b\b\b\b\b\b\b\b\b\b\b\b\b\b\b\b\b\b\b\b\b\b\b\b\b\b\b\b\b\b\b\b\b\b\b\b\b\b\b\b\b\b\b\r48/78 [=================>............] - ETA: 0s - loss: 2.8578 - accuracy: 0.2083",
      "\b\b\b\b\b\b\b\b\b\b\b\b\b\b\b\b\b\b\b\b\b\b\b\b\b\b\b\b\b\b\b\b\b\b\b\b\b\b\b\b\b\b\b\b\b\b\b\b\b\b\b\b\b\b\b\b\b\b\b\b\b\b\b\b\b\b\b\b\b\b\b\b\b\b\b\b\b\b\b\b\b\b\r64/78 [=======================>......] - ETA: 0s - loss: 2.8570 - accuracy: 0.1719",
      "\b\b\b\b\b\b\b\b\b\b\b\b\b\b\b\b\b\b\b\b\b\b\b\b\b\b\b\b\b\b\b\b\b\b\b\b\b\b\b\b\b\b\b\b\b\b\b\b\b\b\b\b\b\b\b\b\b\b\b\b\b\b\b\b\b\b\b\b\b\b\b\b\b\b\b\b\b\b\b\b\b\b\r78/78 [==============================] - 2s 20ms/step - loss: 2.8464 - accuracy: 0.1795 - val_loss: 2.7564 - val_accuracy: 0.2051\n",
      "Epoch 3/10\n",
      "\r16/78 [=====>........................] - ETA: 0s - loss: 2.7858 - accuracy: 0.0000e+00",
      "\b\b\b\b\b\b\b\b\b\b\b\b\b\b\b\b\b\b\b\b\b\b\b\b\b\b\b\b\b\b\b\b\b\b\b\b\b\b\b\b\b\b\b\b\b\b\b\b\b\b\b\b\b\b\b\b\b\b\b\b\b\b\b\b\b\b\b\b\b\b\b\b\b\b\b\b\b\b\b\b\b\b\b\b\b\b\r32/78 [===========>..................] - ETA: 0s - loss: 2.7697 - accuracy: 0.0625    ",
      "\b\b\b\b\b\b\b\b\b\b\b\b\b\b\b\b\b\b\b\b\b\b\b\b\b\b\b\b\b\b\b\b\b\b\b\b\b\b\b\b\b\b\b\b\b\b\b\b\b\b\b\b\b\b\b\b\b\b\b\b\b\b\b\b\b\b\b\b\b\b\b\b\b\b\b\b\b\b\b\b\b\b\r48/78 [=================>............] - ETA: 0s - loss: 2.7167 - accuracy: 0.1667",
      "\b\b\b\b\b\b\b\b\b\b\b\b\b\b\b\b\b\b\b\b\b\b\b\b\b\b\b\b\b\b\b\b\b\b\b\b\b\b\b\b\b\b\b\b\b\b\b\b\b\b\b\b\b\b\b\b\b\b\b\b\b\b\b\b\b\b\b\b\b\b\b\b\b\b\b\b\b\b\b\b\b\b\r64/78 [=======================>......] - ETA: 0s - loss: 2.6786 - accuracy: 0.1719",
      "\b\b\b\b\b\b\b\b\b\b\b\b\b\b\b\b\b\b\b\b\b\b\b\b\b\b\b\b\b\b\b\b\b\b\b\b\b\b\b\b\b\b\b\b\b\b\b\b\b\b\b\b\b\b\b\b\b\b\b\b\b\b\b\b\b\b\b\b\b\b\b\b\b\b\b\b\b\b\b\b\b\b\r78/78 [==============================] - 2s 20ms/step - loss: 2.6610 - accuracy: 0.1795 - val_loss: 2.5417 - val_accuracy: 0.1795\n",
      "Epoch 4/10\n",
      "\r16/78 [=====>........................] - ETA: 0s - loss: 2.6606 - accuracy: 0.1250",
      "\b\b\b\b\b\b\b\b\b\b\b\b\b\b\b\b\b\b\b\b\b\b\b\b\b\b\b\b\b\b\b\b\b\b\b\b\b\b\b\b\b\b\b\b\b\b\b\b\b\b\b\b\b\b\b\b\b\b\b\b\b\b\b\b\b\b\b\b\b\b\b\b\b\b\b\b\b\b\b\b\b\b\r32/78 [===========>..................] - ETA: 0s - loss: 2.5138 - accuracy: 0.1875",
      "\b\b\b\b\b\b\b\b\b\b\b\b\b\b\b\b\b\b\b\b\b\b\b\b\b\b\b\b\b\b\b\b\b\b\b\b\b\b\b\b\b\b\b\b\b\b\b\b\b\b\b\b\b\b\b\b\b\b\b\b\b\b\b\b\b\b\b\b\b\b\b\b\b\b\b\b\b\b\b\b\b\b\r48/78 [=================>............] - ETA: 0s - loss: 2.4880 - accuracy: 0.2083",
      "\b\b\b\b\b\b\b\b\b\b\b\b\b\b\b\b\b\b\b\b\b\b\b\b\b\b\b\b\b\b\b\b\b\b\b\b\b\b\b\b\b\b\b\b\b\b\b\b\b\b\b\b\b\b\b\b\b\b\b\b\b\b\b\b\b\b\b\b\b\b\b\b\b\b\b\b\b\b\b\b\b\b\r64/78 [=======================>......] - ETA: 0s - loss: 2.4478 - accuracy: 0.2031",
      "\b\b\b\b\b\b\b\b\b\b\b\b\b\b\b\b\b\b\b\b\b\b\b\b\b\b\b\b\b\b\b\b\b\b\b\b\b\b\b\b\b\b\b\b\b\b\b\b\b\b\b\b\b\b\b\b\b\b\b\b\b\b\b\b\b\b\b\b\b\b\b\b\b\b\b\b\b\b\b\b\b\b\r78/78 [==============================] - 2s 20ms/step - loss: 2.4705 - accuracy: 0.1795 - val_loss: 2.2979 - val_accuracy: 0.2051\n",
      "Epoch 5/10\n",
      "\r16/78 [=====>........................] - ETA: 0s - loss: 2.1700 - accuracy: 0.1875",
      "\b\b\b\b\b\b\b\b\b\b\b\b\b\b\b\b\b\b\b\b\b\b\b\b\b\b\b\b\b\b\b\b\b\b\b\b\b\b\b\b\b\b\b\b\b\b\b\b\b\b\b\b\b\b\b\b\b\b\b\b\b\b\b\b\b\b\b\b\b\b\b\b\b\b\b\b\b\b\b\b\b\b\r32/78 [===========>..................] - ETA: 0s - loss: 2.2432 - accuracy: 0.2188",
      "\b\b\b\b\b\b\b\b\b\b\b\b\b\b\b\b\b\b\b\b\b\b\b\b\b\b\b\b\b\b\b\b\b\b\b\b\b\b\b\b\b\b\b\b\b\b\b\b\b\b\b\b\b\b\b\b\b\b\b\b\b\b\b\b\b\b\b\b\b\b\b\b\b\b\b\b\b\b\b\b\b\b\r48/78 [=================>............] - ETA: 0s - loss: 2.2620 - accuracy: 0.2083",
      "\b\b\b\b\b\b\b\b\b\b\b\b\b\b\b\b\b\b\b\b\b\b\b\b\b\b\b\b\b\b\b\b\b\b\b\b\b\b\b\b\b\b\b\b\b\b\b\b\b\b\b\b\b\b\b\b\b\b\b\b\b\b\b\b\b\b\b\b\b\b\b\b\b\b\b\b\b\b\b\b\b\b\r64/78 [=======================>......] - ETA: 0s - loss: 2.1482 - accuracy: 0.2656",
      "\b\b\b\b\b\b\b\b\b\b\b\b\b\b\b\b\b\b\b\b\b\b\b\b\b\b\b\b\b\b\b\b\b\b\b\b\b\b\b\b\b\b\b\b\b\b\b\b\b\b\b\b\b\b\b\b\b\b\b\b\b\b\b\b\b\b\b\b\b\b\b\b\b\b\b\b\b\b\b\b\b\b\r78/78 [==============================] - 2s 20ms/step - loss: 2.1417 - accuracy: 0.2692 - val_loss: 1.9381 - val_accuracy: 0.4487\n",
      "Epoch 6/10\n",
      "\r16/78 [=====>........................] - ETA: 0s - loss: 1.8493 - accuracy: 0.3750",
      "\b\b\b\b\b\b\b\b\b\b\b\b\b\b\b\b\b\b\b\b\b\b\b\b\b\b\b\b\b\b\b\b\b\b\b\b\b\b\b\b\b\b\b\b\b\b\b\b\b\b\b\b\b\b\b\b\b\b\b\b\b\b\b\b\b\b\b\b\b\b\b\b\b\b\b\b\b\b\b\b\b\b\r32/78 [===========>..................] - ETA: 0s - loss: 1.8394 - accuracy: 0.4062",
      "\b\b\b\b\b\b\b\b\b\b\b\b\b\b\b\b\b\b\b\b\b\b\b\b\b\b\b\b\b\b\b\b\b\b\b\b\b\b\b\b\b\b\b\b\b\b\b\b\b\b\b\b\b\b\b\b\b\b\b\b\b\b\b\b\b\b\b\b\b\b\b\b\b\b\b\b\b\b\b\b\b\b\r48/78 [=================>............] - ETA: 0s - loss: 1.8305 - accuracy: 0.3958",
      "\b\b\b\b\b\b\b\b\b\b\b\b\b\b\b\b\b\b\b\b\b\b\b\b\b\b\b\b\b\b\b\b\b\b\b\b\b\b\b\b\b\b\b\b\b\b\b\b\b\b\b\b\b\b\b\b\b\b\b\b\b\b\b\b\b\b\b\b\b\b\b\b\b\b\b\b\b\b\b\b\b\b\r64/78 [=======================>......] - ETA: 0s - loss: 1.7649 - accuracy: 0.4375",
      "\b\b\b\b\b\b\b\b\b\b\b\b\b\b\b\b\b\b\b\b\b\b\b\b\b\b\b\b\b\b\b\b\b\b\b\b\b\b\b\b\b\b\b\b\b\b\b\b\b\b\b\b\b\b\b\b\b\b\b\b\b\b\b\b\b\b\b\b\b\b\b\b\b\b\b\b\b\b\b\b\b\b\r78/78 [==============================] - 2s 21ms/step - loss: 1.7766 - accuracy: 0.4231 - val_loss: 1.5368 - val_accuracy: 0.6410\n",
      "Epoch 7/10\n",
      "\r16/78 [=====>........................] - ETA: 0s - loss: 1.4669 - accuracy: 0.5625",
      "\b\b\b\b\b\b\b\b\b\b\b\b\b\b\b\b\b\b\b\b\b\b\b\b\b\b\b\b\b\b\b\b\b\b\b\b\b\b\b\b\b\b\b\b\b\b\b\b\b\b\b\b\b\b\b\b\b\b\b\b\b\b\b\b\b\b\b\b\b\b\b\b\b\b\b\b\b\b\b\b\b\b\r32/78 [===========>..................] - ETA: 0s - loss: 1.3135 - accuracy: 0.6562",
      "\b\b\b\b\b\b\b\b\b\b\b\b\b\b\b\b\b\b\b\b\b\b\b\b\b\b\b\b\b\b\b\b\b\b\b\b\b\b\b\b\b\b\b\b\b\b\b\b\b\b\b\b\b\b\b\b\b\b\b\b\b\b\b\b\b\b\b\b\b\b\b\b\b\b\b\b\b\b\b\b\b\b\r48/78 [=================>............] - ETA: 0s - loss: 1.4418 - accuracy: 0.6042",
      "\b\b\b\b\b\b\b\b\b\b\b\b\b\b\b\b\b\b\b\b\b\b\b\b\b\b\b\b\b\b\b\b\b\b\b\b\b\b\b\b\b\b\b\b\b\b\b\b\b\b\b\b\b\b\b\b\b\b\b\b\b\b\b\b\b\b\b\b\b\b\b\b\b\b\b\b\b\b\b\b\b\b\r64/78 [=======================>......] - ETA: 0s - loss: 1.4451 - accuracy: 0.5938",
      "\b\b\b\b\b\b\b\b\b\b\b\b\b\b\b\b\b\b\b\b\b\b\b\b\b\b\b\b\b\b\b\b\b\b\b\b\b\b\b\b\b\b\b\b\b\b\b\b\b\b\b\b\b\b\b\b\b\b\b\b\b\b\b\b\b\b\b\b\b\b\b\b\b\b\b\b\b\b\b\b\b\b\r78/78 [==============================] - 2s 20ms/step - loss: 1.4027 - accuracy: 0.5897 - val_loss: 1.1555 - val_accuracy: 0.7949\n",
      "Epoch 8/10\n",
      "\r16/78 [=====>........................] - ETA: 0s - loss: 1.1563 - accuracy: 0.6875",
      "\b\b\b\b\b\b\b\b\b\b\b\b\b\b\b\b\b\b\b\b\b\b\b\b\b\b\b\b\b\b\b\b\b\b\b\b\b\b\b\b\b\b\b\b\b\b\b\b\b\b\b\b\b\b\b\b\b\b\b\b\b\b\b\b\b\b\b\b\b\b\b\b\b\b\b\b\b\b\b\b\b\b\r32/78 [===========>..................] - ETA: 0s - loss: 1.1238 - accuracy: 0.6875",
      "\b\b\b\b\b\b\b\b\b\b\b\b\b\b\b\b\b\b\b\b\b\b\b\b\b\b\b\b\b\b\b\b\b\b\b\b\b\b\b\b\b\b\b\b\b\b\b\b\b\b\b\b\b\b\b\b\b\b\b\b\b\b\b\b\b\b\b\b\b\b\b\b\b\b\b\b\b\b\b\b\b\b\r48/78 [=================>............] - ETA: 0s - loss: 1.1116 - accuracy: 0.7292",
      "\b\b\b\b\b\b\b\b\b\b\b\b\b\b\b\b\b\b\b\b\b\b\b\b\b\b\b\b\b\b\b\b\b\b\b\b\b\b\b\b\b\b\b\b\b\b\b\b\b\b\b\b\b\b\b\b\b\b\b\b\b\b\b\b\b\b\b\b\b\b\b\b\b\b\b\b\b\b\b\b\b\b\r64/78 [=======================>......] - ETA: 0s - loss: 1.1571 - accuracy: 0.7031",
      "\b\b\b\b\b\b\b\b\b\b\b\b\b\b\b\b\b\b\b\b\b\b\b\b\b\b\b\b\b\b\b\b\b\b\b\b\b\b\b\b\b\b\b\b\b\b\b\b\b\b\b\b\b\b\b\b\b\b\b\b\b\b\b\b\b\b\b\b\b\b\b\b\b\b\b\b\b\b\b\b\b\b\r78/78 [==============================] - 2s 20ms/step - loss: 1.0582 - accuracy: 0.7436 - val_loss: 0.8327 - val_accuracy: 0.8333\n",
      "Epoch 9/10\n",
      "\r16/78 [=====>........................] - ETA: 0s - loss: 0.9277 - accuracy: 0.7500",
      "\b\b\b\b\b\b\b\b\b\b\b\b\b\b\b\b\b\b\b\b\b\b\b\b\b\b\b\b\b\b\b\b\b\b\b\b\b\b\b\b\b\b\b\b\b\b\b\b\b\b\b\b\b\b\b\b\b\b\b\b\b\b\b\b\b\b\b\b\b\b\b\b\b\b\b\b\b\b\b\b\b\b\r32/78 [===========>..................] - ETA: 0s - loss: 0.7976 - accuracy: 0.8125",
      "\b\b\b\b\b\b\b\b\b\b\b\b\b\b\b\b\b\b\b\b\b\b\b\b\b\b\b\b\b\b\b\b\b\b\b\b\b\b\b\b\b\b\b\b\b\b\b\b\b\b\b\b\b\b\b\b\b\b\b\b\b\b\b\b\b\b\b\b\b\b\b\b\b\b\b\b\b\b\b\b\b\b\r48/78 [=================>............] - ETA: 0s - loss: 0.6779 - accuracy: 0.8542",
      "\b\b\b\b\b\b\b\b\b\b\b\b\b\b\b\b\b\b\b\b\b\b\b\b\b\b\b\b\b\b\b\b\b\b\b\b\b\b\b\b\b\b\b\b\b\b\b\b\b\b\b\b\b\b\b\b\b\b\b\b\b\b\b\b\b\b\b\b\b\b\b\b\b\b\b\b\b\b\b\b\b\b\r64/78 [=======================>......] - ETA: 0s - loss: 0.7387 - accuracy: 0.8281",
      "\b\b\b\b\b\b\b\b\b\b\b\b\b\b\b\b\b\b\b\b\b\b\b\b\b\b\b\b\b\b\b\b\b\b\b\b\b\b\b\b\b\b\b\b\b\b\b\b\b\b\b\b\b\b\b\b\b\b\b\b\b\b\b\b\b\b\b\b\b\b\b\b\b\b\b\b\b\b\b\b\b\b\r78/78 [==============================] - 2s 20ms/step - loss: 0.7950 - accuracy: 0.7949 - val_loss: 0.6222 - val_accuracy: 0.8846\n",
      "Epoch 10/10\n",
      "\r16/78 [=====>........................] - ETA: 0s - loss: 0.7718 - accuracy: 0.7500",
      "\b\b\b\b\b\b\b\b\b\b\b\b\b\b\b\b\b\b\b\b\b\b\b\b\b\b\b\b\b\b\b\b\b\b\b\b\b\b\b\b\b\b\b\b\b\b\b\b\b\b\b\b\b\b\b\b\b\b\b\b\b\b\b\b\b\b\b\b\b\b\b\b\b\b\b\b\b\b\b\b\b\b\r32/78 [===========>..................] - ETA: 0s - loss: 0.7496 - accuracy: 0.7500",
      "\b\b\b\b\b\b\b\b\b\b\b\b\b\b\b\b\b\b\b\b\b\b\b\b\b\b\b\b\b\b\b\b\b\b\b\b\b\b\b\b\b\b\b\b\b\b\b\b\b\b\b\b\b\b\b\b\b\b\b\b\b\b\b\b\b\b\b\b\b\b\b\b\b\b\b\b\b\b\b\b\b\b\r48/78 [=================>............] - ETA: 0s - loss: 0.6514 - accuracy: 0.7917",
      "\b\b\b\b\b\b\b\b\b\b\b\b\b\b\b\b\b\b\b\b\b\b\b\b\b\b\b\b\b\b\b\b\b\b\b\b\b\b\b\b\b\b\b\b\b\b\b\b\b\b\b\b\b\b\b\b\b\b\b\b\b\b\b\b\b\b\b\b\b\b\b\b\b\b\b\b\b\b\b\b\b\b\r64/78 [=======================>......] - ETA: 0s - loss: 0.6465 - accuracy: 0.7969",
      "\b\b\b\b\b\b\b\b\b\b\b\b\b\b\b\b\b\b\b\b\b\b\b\b\b\b\b\b\b\b\b\b\b\b\b\b\b\b\b\b\b\b\b\b\b\b\b\b\b\b\b\b\b\b\b\b\b\b\b\b\b\b\b\b\b\b\b\b\b\b\b\b\b\b\b\b\b\b\b\b\b\b\r78/78 [==============================] - 2s 20ms/step - loss: 0.6331 - accuracy: 0.7949 - val_loss: 0.4662 - val_accuracy: 0.8974\n"
     ],
     "output_type": "stream"
    }
   ],
   "source": [
    "hist = model.fit(x_train, y_train_one_hot, \n",
    "           batch_size=16, epochs=10, validation_data=(x_val, y_val_one_hot))"
   ],
   "metadata": {
    "collapsed": false,
    "pycharm": {
     "name": "#%%\n",
     "is_executing": false
    }
   }
  },
  {
   "cell_type": "code",
   "execution_count": 13,
   "outputs": [
    {
     "data": {
      "text/plain": "<Figure size 432x288 with 1 Axes>",
      "image/png": "[encoded data removed]"
     },
     "metadata": {
      "needs_background": "light"
     },
     "output_type": "display_data"
    }
   ],
   "source": [
    "#Visualize the models accuracy\n",
    "plt.plot(hist.history['accuracy'])\n",
    "plt.plot(hist.history['val_accuracy'])\n",
    "plt.title('Model accuracy')\n",
    "plt.ylabel('Accuracy')\n",
    "plt.xlabel('Epoch')\n",
    "plt.legend(['Train', 'Val'], loc='upper left')\n",
    "plt.show()"
   ],
   "metadata": {
    "collapsed": false,
    "pycharm": {
     "name": "#%%\n",
     "is_executing": false
    }
   }
  },
  {
   "cell_type": "code",
   "execution_count": 14,
   "outputs": [],
   "source": [
    "# Save model\n",
    "model.save(os.path.join(project_path, \"model3.h5\"))"
   ],
   "metadata": {
    "collapsed": false,
    "pycharm": {
     "name": "#%%\n",
     "is_executing": false
    }
   }
  },
  {
   "cell_type": "code",
   "execution_count": 15,
   "outputs": [
    {
     "name": "stdout",
     "text": [
      "\r32/78 [===========>..................] - ETA: 0s",
      "\b\b\b\b\b\b\b\b\b\b\b\b\b\b\b\b\b\b\b\b\b\b\b\b\b\b\b\b\b\b\b\b\b\b\b\b\b\b\b\b\b\b\b\b\b\b\b\b\r64/78 [=======================>......] - ETA: 0s",
      "\b\b\b\b\b\b\b\b\b\b\b\b\b\b\b\b\b\b\b\b\b\b\b\b\b\b\b\b\b\b\b\b\b\b\b\b\b\b\b\b\b\b\b\b\b\b\b\b\r78/78 [==============================] - 0s 4ms/step\n"
     ],
     "output_type": "stream"
    },
    {
     "data": {
      "text/plain": "[0.412143071492513, 0.9358974099159241]"
     },
     "metadata": {},
     "output_type": "execute_result",
     "execution_count": 15
    }
   ],
   "source": [
    "# Load model\n",
    "# Reference: https://machinelearningmastery.com/save-load-keras-deep-learning-models/\n",
    "model_saved = load_model(os.path.join(project_path, \"model3.h5\"))\n",
    "\n",
    "# Should expect .fit() and .evaluate() produce difference loss\n",
    "# Reference: https://github.com/keras-team/keras/issues/6977\n",
    "#   Even without dropout or batch normalization, the problem will persist. \n",
    "#   The reason for this is that when you use fit, at each batch of the training data the weights are updated. \n",
    "#   The loss value returned by the fit method is not the mean of the loss of the final model, \n",
    "#   but the mean of the loss of all slightly different models used on each batch.\n",
    "#   On the other hand, when you use evaluate, the same model is used on the whole dataset. \n",
    "#   And this model actually doesn't even appear in the loss of the fit method since even at the last batch of training, \n",
    "#   the loss computed is used to update the model's weights.\n",
    "model_saved.evaluate(x_train, y_train_one_hot)"
   ],
   "metadata": {
    "collapsed": false,
    "pycharm": {
     "name": "#%%\n",
     "is_executing": false
    }
   }
  },
  {
   "cell_type": "code",
   "execution_count": 16,
   "outputs": [
    {
     "name": "stdout",
     "text": [
      "\r32/78 [===========>..................] - ETA: 0s",
      "\b\b\b\b\b\b\b\b\b\b\b\b\b\b\b\b\b\b\b\b\b\b\b\b\b\b\b\b\b\b\b\b\b\b\b\b\b\b\b\b\b\b\b\b\b\b\b\b\r64/78 [=======================>......] - ETA: 0s",
      "\b\b\b\b\b\b\b\b\b\b\b\b\b\b\b\b\b\b\b\b\b\b\b\b\b\b\b\b\b\b\b\b\b\b\b\b\b\b\b\b\b\b\b\b\b\b\b\b\r78/78 [==============================] - 0s 3ms/step\n"
     ],
     "output_type": "stream"
    },
    {
     "data": {
      "text/plain": "[0.46617260040381014, 0.8974359035491943]"
     },
     "metadata": {},
     "output_type": "execute_result",
     "execution_count": 16
    }
   ],
   "source": [
    "model_saved.evaluate(x_val, y_val_one_hot)\n",
    "\n"
   ],
   "metadata": {
    "collapsed": false,
    "pycharm": {
     "name": "#%%\n",
     "is_executing": false
    }
   }
  },
  {
   "cell_type": "code",
   "execution_count": 35,
   "outputs": [
    {
     "data": {
      "text/plain": "array([[0.00974073, 0.48833394, 0.03009786, 0.03841343, 0.1288259 ,\n        0.02758614, 0.01412047, 0.00933346, 0.04744824, 0.02171466,\n        0.00151038, 0.00958839, 0.03275345, 0.00337356, 0.00451206,\n        0.07448179, 0.02275277, 0.02167122, 0.01374166]], dtype=float32)"
     },
     "metadata": {},
     "output_type": "execute_result",
     "execution_count": 35
    }
   ],
   "source": [
    "predictions = model.predict(x_train[:1])\n",
    "predictions\n",
    "\n"
   ],
   "metadata": {
    "collapsed": false,
    "pycharm": {
     "name": "#%%\n",
     "is_executing": false
    }
   }
  },
  {
   "cell_type": "code",
   "execution_count": 119,
   "outputs": [
    {
     "data": {
      "text/plain": "['mask_AWKWARD_c5_ql170.png',\n 'mask_AWKWARD_c5_ql239.png',\n 'mask_AWKWARD_c5_ql270.png',\n 'mask_AWKWARD_c5_ql360.png',\n 'mask_AWKWARD_c5_ql420.png',\n 'mask_AWKWARD_c5_ql430.png',\n 'mask_AWKWARD_c5_ql479.png',\n 'mask_AWKWARD_c5_ql530.png',\n 'mask_AWKWARD_c5_ql740.png',\n 'mask_AWKWARD_c5_ql820.png']"
     },
     "metadata": {},
     "output_type": "execute_result",
     "execution_count": 119
    }
   ],
   "source": [
    "test_file_lst_all = [f for f in os.listdir(os.path.join(project_path, dir_test)) \n",
    "                  if f[-4:]=='.png' and f[:5] == 'mask_']  \n",
    "len(test_file_lst_all)\n",
    "test_file_lst = test_file_lst_all[70:80]\n",
    "test_file_lst"
   ],
   "metadata": {
    "collapsed": false,
    "pycharm": {
     "name": "#%%\n",
     "is_executing": false
    }
   }
  },
  {
   "cell_type": "code",
   "execution_count": 120,
   "outputs": [
    {
     "name": "stdout",
     "text": [
      "(10, 480, 640)\n(10,)\n"
     ],
     "output_type": "stream"
    }
   ],
   "source": [
    "x_test, y_test = file_lst_to_array(project_path, dir_test, test_file_lst)\n",
    "print(x_test.shape)\n",
    "print(y_test.shape)\n",
    "\n",
    "# Reference (reshape for Keras): https://yashk2810.github.io/Applying-Convolutional-Neural-Network-on-the-MNIST-dataset/\n",
    "x_test = x_test.reshape(x_test.shape[0], 480, 640, 1)\n",
    "y_test_one_hot = to_categorical(y_test)\n",
    "\n",
    "x_test = x_test / 255\n"
   ],
   "metadata": {
    "collapsed": false,
    "pycharm": {
     "name": "#%%\n",
     "is_executing": false
    }
   }
  },
  {
   "cell_type": "code",
   "execution_count": 121,
   "outputs": [],
   "source": [
    "test_output = model_saved.predict(x_test)"
   ],
   "metadata": {
    "collapsed": false,
    "pycharm": {
     "name": "#%%\n",
     "is_executing": false
    }
   }
  },
  {
   "cell_type": "code",
   "execution_count": 122,
   "outputs": [
    {
     "data": {
      "text/plain": "array([[0.03896625, 0.02355763, 0.08485974, 0.01830396, 0.04483627,\n        0.00836084, 0.0197768 , 0.06049855, 0.12750104, 0.08474003,\n        0.01226413, 0.03594411, 0.02923045, 0.01027157, 0.01909189,\n        0.15578242, 0.08189144, 0.12686808, 0.0172549 ],\n       [0.04818691, 0.02312476, 0.07567016, 0.02417914, 0.04666214,\n        0.00902285, 0.01824917, 0.06651968, 0.11658747, 0.08793095,\n        0.01258745, 0.03715259, 0.02757401, 0.01019466, 0.02107343,\n        0.15158616, 0.07815862, 0.12808001, 0.01745977],\n       [0.05100266, 0.02382007, 0.07743371, 0.02615315, 0.04777493,\n        0.00918247, 0.0183443 , 0.06430879, 0.11548936, 0.0848537 ,\n        0.01271059, 0.03817791, 0.02623484, 0.00986941, 0.02191496,\n        0.15027907, 0.07636852, 0.12859496, 0.01748664],\n       [0.05092959, 0.02448176, 0.07635372, 0.02689378, 0.04978972,\n        0.00922853, 0.01855514, 0.06625232, 0.11870958, 0.08791691,\n        0.0128739 , 0.03704337, 0.02432921, 0.00953624, 0.02182813,\n        0.14592816, 0.07719308, 0.12516643, 0.01699043],\n       [0.05301264, 0.02540475, 0.07481286, 0.02968535, 0.04970678,\n        0.00893254, 0.01770329, 0.06087787, 0.11929631, 0.08897113,\n        0.01271641, 0.03613857, 0.02113624, 0.01021397, 0.02338052,\n        0.13892256, 0.07623691, 0.1362321 , 0.01661923],\n       [0.05301264, 0.02540475, 0.07481286, 0.02968535, 0.04970678,\n        0.00893254, 0.01770329, 0.06087787, 0.11929631, 0.08897113,\n        0.01271641, 0.03613857, 0.02113624, 0.01021397, 0.02338052,\n        0.13892256, 0.07623691, 0.1362321 , 0.01661923],\n       [0.05301264, 0.02540475, 0.07481286, 0.02968535, 0.04970678,\n        0.00893254, 0.01770329, 0.06087787, 0.11929631, 0.08897113,\n        0.01271641, 0.03613857, 0.02113624, 0.01021397, 0.02338052,\n        0.13892256, 0.07623691, 0.1362321 , 0.01661923],\n       [0.04419041, 0.03106863, 0.08490141, 0.0404409 , 0.0509427 ,\n        0.01194371, 0.01343122, 0.05320037, 0.11513939, 0.11065487,\n        0.01139106, 0.02585757, 0.01414348, 0.00788596, 0.02290914,\n        0.14210878, 0.06957714, 0.13652028, 0.01369285],\n       [0.03537912, 0.0285934 , 0.09726074, 0.03141202, 0.05581941,\n        0.00992807, 0.01118939, 0.05001828, 0.10557379, 0.10591459,\n        0.00956966, 0.03116047, 0.00986953, 0.00750444, 0.02376794,\n        0.15992704, 0.06326654, 0.14906418, 0.01478141],\n       [0.03431785, 0.0265646 , 0.09446759, 0.02973796, 0.05194363,\n        0.00978619, 0.01110995, 0.05466997, 0.10091197, 0.10760422,\n        0.00940658, 0.03187897, 0.00911447, 0.00749872, 0.0259097 ,\n        0.17068298, 0.06341127, 0.14645769, 0.01452563]], dtype=float32)"
     },
     "metadata": {},
     "output_type": "execute_result",
     "execution_count": 122
    }
   ],
   "source": [
    "test_output"
   ],
   "metadata": {
    "collapsed": false,
    "pycharm": {
     "name": "#%%\n",
     "is_executing": false
    }
   }
  },
  {
   "cell_type": "code",
   "execution_count": 123,
   "outputs": [
    {
     "data": {
      "text/plain": "15"
     },
     "metadata": {},
     "output_type": "execute_result",
     "execution_count": 123
    }
   ],
   "source": [
    "np.argmax(np.mean(test_output, axis=0))\n"
   ],
   "metadata": {
    "collapsed": false,
    "pycharm": {
     "name": "#%%\n",
     "is_executing": false
    }
   }
  },
  {
   "cell_type": "code",
   "execution_count": 124,
   "outputs": [
    {
     "data": {
      "text/plain": "14"
     },
     "metadata": {},
     "output_type": "execute_result",
     "execution_count": 124
    }
   ],
   "source": [
    "conv_vocab_to_index(test_file_lst[0].split('_')[1])\n"
   ],
   "metadata": {
    "collapsed": false,
    "pycharm": {
     "name": "#%%\n",
     "is_executing": false
    }
   }
  },
  {
   "cell_type": "code",
   "execution_count": 125,
   "outputs": [
    {
     "data": {
      "text/plain": "array([15, 15, 15, 15, 15, 15, 15, 15, 15, 15], dtype=int64)"
     },
     "metadata": {},
     "output_type": "execute_result",
     "execution_count": 125
    }
   ],
   "source": [
    "np.argmax(test_output, axis=1)\n"
   ],
   "metadata": {
    "collapsed": false,
    "pycharm": {
     "name": "#%%\n",
     "is_executing": false
    }
   }
  },
  {
   "cell_type": "code",
   "execution_count": 126,
   "outputs": [],
   "source": [
    "# voting: 1\n"
   ],
   "metadata": {
    "collapsed": false,
    "pycharm": {
     "name": "#%%\n",
     "is_executing": false
    }
   }
  },
  {
   "cell_type": "code",
   "execution_count": null,
   "outputs": [],
   "source": [
    "\n"
   ],
   "metadata": {
    "collapsed": false,
    "pycharm": {
     "name": "#%%\n"
    }
   }
  }
 ],
 "metadata": {
  "kernelspec": {
   "display_name": "Python 3",
   "language": "python",
   "name": "python3"
  },
  "language_info": {
   "codemirror_mode": {
    "name": "ipython",
    "version": 2
   },
   "file_extension": ".py",
   "mimetype": "text/x-python",
   "name": "python",
   "nbconvert_exporter": "python",
   "pygments_lexer": "ipython2",
   "version": "2.7.6"
  },
  "pycharm": {
   "stem_cell": {
    "cell_type": "raw",
    "source": [],
    "metadata": {
     "collapsed": false
    }
   }
  }
 },
 "nbformat": 4,
 "nbformat_minor": 0
}