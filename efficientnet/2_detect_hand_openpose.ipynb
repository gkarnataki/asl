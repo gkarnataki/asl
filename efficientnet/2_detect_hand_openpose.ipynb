{
 "cells": [
  {
   "cell_type": "code",
   "execution_count": 23,
   "metadata": {
    "collapsed": true,
    "pycharm": {
     "is_executing": false
    }
   },
   "outputs": [
    {
     "data": {
      "text/plain": "[' Volume in drive D is New Volume\\n',\n ' Volume Serial Number is 1885-0EC6\\n',\n '\\n',\n ' Directory of D:\\\\UCBerkeley\\\\CourseWork\\\\202001\\\\W251\\\\Homework\\\\Project\\n',\n '\\n',\n '03/15/2020  02:39 AM    <DIR>          .\\n',\n '03/15/2020  02:39 AM    <DIR>          ..\\n',\n '03/15/2020  02:33 AM    <DIR>          .idea\\n',\n '03/08/2020  09:16 PM    <DIR>          .ipynb_checkpoints\\n',\n '03/02/2020  11:10 PM            43,967 0_create_model_data.ipynb\\n',\n '03/13/2020  10:23 PM           824,431 1_explore_optical_flow.ipynb\\n',\n '03/15/2020  02:39 AM            11,094 2_detect_hand_openpose.ipynb\\n',\n '03/13/2020  10:29 PM         6,277,346 2_detect_upper_body_cv2.ipynb\\n',\n '03/14/2020  07:28 PM         2,867,947 3_explore_optical_flow_upper_body.ipynb\\n',\n '03/14/2020  02:30 AM           588,885 4_execute_optical_flow.ipynb\\n',\n '03/14/2020  02:04 AM            66,469 5_explore_cnn.ipynb\\n',\n '02/23/2020  10:22 PM         3,235,371 63_3571_5041_merged (1).mov\\n',\n '02/23/2020  10:11 PM         3,235,371 63_3571_5041_merged.mov\\n',\n '03/14/2020  01:55 AM            11,735 6_predict_cnn.ipynb\\n',\n '03/14/2020  02:08 AM           102,519 7_explore_transfer_learning.ipynb\\n',\n '02/20/2020  12:28 AM        88,736,870 ASL_2008_01_11_scene2-camera1.mov\\n',\n '03/14/2020  08:43 PM             1,225 ASL_2008_08_04_scene7-camera1_AGAIN_v0_4_000000000000_hand_left.yml\\n',\n '02/20/2020  12:19 AM         1,524,218 dai-asllvd-BU_glossing_with_variations_HS_information-extended-urls-RU.xlsx\\n',\n '02/13/2020  08:51 PM               463 Dockerfile\\n',\n '03/13/2020  07:07 PM           930,127 haarcascade_frontalface_default.xml\\n',\n '03/13/2020  03:48 PM           476,827 haarcascade_fullbody.xml\\n',\n '03/04/2020  01:30 AM           395,322 haarcascade_lowerbody.xml\\n',\n '03/04/2020  01:25 AM           785,819 haarcascade_upperbody.xml\\n',\n '02/23/2020  10:12 PM         4,922,223 Liz_3571.mov\\n',\n '02/23/2020  10:15 PM         3,751,732 Liz_63 (1).mov\\n',\n '02/23/2020  10:15 PM         3,751,732 Liz_63 (2).mov\\n',\n '02/23/2020  10:11 PM         3,751,732 Liz_63.mov\\n',\n '03/12/2020  01:20 AM         5,270,600 model.h5\\n',\n '03/12/2020  11:02 PM           889,360 model2.h5\\n',\n '03/14/2020  12:36 AM           465,640 model3.h5\\n',\n '03/14/2020  08:52 PM    <DIR>          openpose\\n',\n '03/14/2020  09:14 PM    <DIR>          openpose_output\\n',\n '02/25/2020  12:56 AM    <DIR>          original_videos\\n',\n '02/24/2020  10:59 PM           692,938 output.avi\\n',\n '03/14/2020  01:51 AM       141,552,816 ResNet50_model_weights.h5\\n',\n '03/13/2020  02:40 PM            49,040 SignVideoInventory.xlsx\\n',\n '03/14/2020  02:28 AM    <DIR>          test\\n',\n '03/14/2020  06:55 PM             2,840 test.png\\n',\n '03/13/2020  10:56 PM    <DIR>          train_optical_flow_output\\n',\n '03/14/2020  12:17 AM    <DIR>          train_optical_flow_output_crop_2\\n',\n '03/11/2020  12:17 AM    <DIR>          train_optical_flow_output_dump\\n',\n '03/14/2020  02:12 AM    <DIR>          train_optical_flow_output_nocrop_2\\n',\n '03/14/2020  12:55 AM    <DIR>          train_optical_flow_output_transfer\\n',\n '02/27/2020  09:14 PM    <DIR>          train_val_videos\\n',\n '02/27/2020  09:28 PM        79,699,317 train_val_videos.zip\\n',\n '02/26/2020  03:31 AM    <DIR>          train_videos\\n',\n '02/26/2020  02:06 AM    <DIR>          trimmed_videos\\n',\n '03/09/2020  09:21 PM    <DIR>          val_optical_flow_output\\n',\n '03/14/2020  12:37 AM    <DIR>          val_optical_flow_output_crop_2\\n',\n '03/14/2020  02:12 AM    <DIR>          val_optical_flow_output_nocrop_2\\n',\n '02/26/2020  03:31 AM    <DIR>          val_videos\\n',\n '              31 File(s)    354,915,976 bytes\\n',\n '              20 Dir(s)  1,742,179,057,664 bytes free\\n',\n 'Starting OpenPose demo...\\n',\n 'Configuring OpenPose...\\n',\n 'Starting thread(s)...\\n']"
     },
     "metadata": {},
     "output_type": "execute_result",
     "execution_count": 23
    }
   ],
   "source": [
    "# Read saved results:\n",
    "# https://github.com/CMU-Perceptual-Computing-Lab/openpose/blob/master/doc/output.md\n",
    "# Ctrl+Alt+L to format JSON"
   ]
  },
  {
   "cell_type": "code",
   "execution_count": null,
   "outputs": [],
   "source": [
    "# Run shell command\n",
    "#   worked for cd and dir\n",
    "#   didn't work for .exe\n",
    "\n",
    "# Reference: https://janakiev.com/blog/python-shell-commands/\n",
    "# import os\n",
    "# stream = os.popen('cd D:\\\\UCBerkeley\\\\CourseWork\\\\202001\\\\W251\\\\Homework\\\\Project && '\n",
    "#                   'dir && '\n",
    "#                   'cd openpose && '\n",
    "#                   'bin\\OpenPoseDemo.exe --hand --write_json ..\\openpose_output\\json\\ --video ..\\train_videos\\ASL_2008_08_04_scene7-camera1_AGAIN_v0_4.mov -disable_blending')\n",
    "# output = stream.readlines()\n",
    "# output\n",
    "# \n",
    "# import subprocess\n",
    "# def subprocess_cmd(command):\n",
    "#     process = subprocess.Popen(command,stdout=subprocess.PIPE, shell=True)\n",
    "#     proc_stdout = process.communicate()[0].strip()\n",
    "#     print(proc_stdout)\n",
    "# \n",
    "# subprocess_cmd('cd D:\\\\UCBerkeley\\\\CourseWork\\\\202001\\\\W251\\\\Homework\\\\Project\\\\openpose && '\n",
    "#                'bin\\OpenPoseDemo.exe --hand --write_json ..\\openpose_output\\json\\ --video ..\\train_videos\\ASL_2008_08_04_scene7-camera1_AGAIN_v0_4.mov -disable_blending')\n",
    "# p = subprocess.Popen(('D:\\\\UCBerkeley\\\\CourseWork\\\\202001\\\\W251\\\\Homework\\\\Project\\\\openpose\\\\bin\\\\OpenPoseDemo.exe',\n",
    "#                       '--video D:\\\\UCBerkeley\\\\CourseWork\\\\202001\\\\W251\\\\Homework\\\\Project\\\\train_videos\\\\ASL_2008_08_04_scene7-camera1_AGAIN_v0_4.mov', \n",
    "#                       '--hand', \n",
    "#                       '--write_json D:\\\\UCBerkeley\\\\CourseWork\\\\202001\\\\W251\\\\Homework\\\\Project\\\\openpose_output\\\\json\\\\', \n",
    "#                       '--disable_blending',\n",
    "#                       '--display 0',\n",
    "#                       '--render_pose 0'))"
   ],
   "metadata": {
    "collapsed": false,
    "pycharm": {
     "name": "#%%\n"
    }
   }
  },
  {
   "cell_type": "code",
   "execution_count": 2,
   "outputs": [],
   "source": [
    "import os"
   ],
   "metadata": {
    "collapsed": false,
    "pycharm": {
     "name": "#%%\n",
     "is_executing": false
    }
   }
  },
  {
   "cell_type": "code",
   "execution_count": 3,
   "outputs": [],
   "source": [
    "project_path = r'D:\\UCBerkeley\\CourseWork\\202001\\W251\\Homework\\Project'\n",
    "dir_train_test = 'train_val_videos'"
   ],
   "metadata": {
    "collapsed": false,
    "pycharm": {
     "name": "#%%\n",
     "is_executing": false
    }
   }
  },
  {
   "cell_type": "code",
   "execution_count": null,
   "outputs": [
    {
     "name": "stdout",
     "text": [
      "Starting OpenPose demo...\nConfiguring OpenPose...\nStarting thread(s)...\n---------------------------------- WARNING ----------------------------------\nWe have introduced an additional boost in accuracy in the CUDA version of about 0.2% with respect to the CPU/OpenCL versions. We will not port this to CPU given the considerable slow down in speed it would add to it. Nevertheless, this accuracy boost is almost insignificant so the CPU/OpenCL versions can be safely used.\n-------------------------------- END WARNING --------------------------------\nOpenPose demo successfully finished. Total time: 203.658590 seconds.\n",
      "Starting OpenPose demo...\nConfiguring OpenPose...\nStarting thread(s)...\n---------------------------------- WARNING ----------------------------------\nWe have introduced an additional boost in accuracy in the CUDA version of about 0.2% with respect to the CPU/OpenCL versions. We will not port this to CPU given the considerable slow down in speed it would add to it. Nevertheless, this accuracy boost is almost insignificant so the CPU/OpenCL versions can be safely used.\n-------------------------------- END WARNING --------------------------------\nOpenPose demo successfully finished. Total time: 352.984477 seconds.\n",
      "Starting OpenPose demo...\nConfiguring OpenPose...\nStarting thread(s)...\n---------------------------------- WARNING ----------------------------------\nWe have introduced an additional boost in accuracy in the CUDA version of about 0.2% with respect to the CPU/OpenCL versions. We will not port this to CPU given the considerable slow down in speed it would add to it. Nevertheless, this accuracy boost is almost insignificant so the CPU/OpenCL versions can be safely used.\n-------------------------------- END WARNING --------------------------------\nOpenPose demo successfully finished. Total time: 699.732219 seconds.\n",
      "Starting OpenPose demo...\nConfiguring OpenPose...\nStarting thread(s)...\n---------------------------------- WARNING ----------------------------------\nWe have introduced an additional boost in accuracy in the CUDA version of about 0.2% with respect to the CPU/OpenCL versions. We will not port this to CPU given the considerable slow down in speed it would add to it. Nevertheless, this accuracy boost is almost insignificant so the CPU/OpenCL versions can be safely used.\n-------------------------------- END WARNING --------------------------------\nOpenPose demo successfully finished. Total time: 257.699926 seconds.\n",
      "Starting OpenPose demo...\nConfiguring OpenPose...\nStarting thread(s)...\n---------------------------------- WARNING ----------------------------------\nWe have introduced an additional boost in accuracy in the CUDA version of about 0.2% with respect to the CPU/OpenCL versions. We will not port this to CPU given the considerable slow down in speed it would add to it. Nevertheless, this accuracy boost is almost insignificant so the CPU/OpenCL versions can be safely used.\n-------------------------------- END WARNING --------------------------------\nOpenPose demo successfully finished. Total time: 150.871609 seconds.\n",
      "Starting OpenPose demo...\nConfiguring OpenPose...\nStarting thread(s)...\n---------------------------------- WARNING ----------------------------------\nWe have introduced an additional boost in accuracy in the CUDA version of about 0.2% with respect to the CPU/OpenCL versions. We will not port this to CPU given the considerable slow down in speed it would add to it. Nevertheless, this accuracy boost is almost insignificant so the CPU/OpenCL versions can be safely used.\n-------------------------------- END WARNING --------------------------------\nOpenPose demo successfully finished. Total time: 457.625830 seconds.\n",
      "Starting OpenPose demo...\nConfiguring OpenPose...\nStarting thread(s)...\n---------------------------------- WARNING ----------------------------------\nWe have introduced an additional boost in accuracy in the CUDA version of about 0.2% with respect to the CPU/OpenCL versions. We will not port this to CPU given the considerable slow down in speed it would add to it. Nevertheless, this accuracy boost is almost insignificant so the CPU/OpenCL versions can be safely used.\n-------------------------------- END WARNING --------------------------------\nOpenPose demo successfully finished. Total time: 224.802976 seconds.\n",
      "Starting OpenPose demo...\nConfiguring OpenPose...\nStarting thread(s)...\n---------------------------------- WARNING ----------------------------------\nWe have introduced an additional boost in accuracy in the CUDA version of about 0.2% with respect to the CPU/OpenCL versions. We will not port this to CPU given the considerable slow down in speed it would add to it. Nevertheless, this accuracy boost is almost insignificant so the CPU/OpenCL versions can be safely used.\n-------------------------------- END WARNING --------------------------------\nOpenPose demo successfully finished. Total time: 277.391710 seconds.\n",
      "Starting OpenPose demo...\nConfiguring OpenPose...\nStarting thread(s)...\n---------------------------------- WARNING ----------------------------------\nWe have introduced an additional boost in accuracy in the CUDA version of about 0.2% with respect to the CPU/OpenCL versions. We will not port this to CPU given the considerable slow down in speed it would add to it. Nevertheless, this accuracy boost is almost insignificant so the CPU/OpenCL versions can be safely used.\n-------------------------------- END WARNING --------------------------------\nOpenPose demo successfully finished. Total time: 245.289526 seconds.\n",
      "Starting OpenPose demo...\nConfiguring OpenPose...\nStarting thread(s)...\n---------------------------------- WARNING ----------------------------------\nWe have introduced an additional boost in accuracy in the CUDA version of about 0.2% with respect to the CPU/OpenCL versions. We will not port this to CPU given the considerable slow down in speed it would add to it. Nevertheless, this accuracy boost is almost insignificant so the CPU/OpenCL versions can be safely used.\n-------------------------------- END WARNING --------------------------------\nOpenPose demo successfully finished. Total time: 139.876786 seconds.\n",
      "Starting OpenPose demo...\nConfiguring OpenPose...\nStarting thread(s)...\n---------------------------------- WARNING ----------------------------------\nWe have introduced an additional boost in accuracy in the CUDA version of about 0.2% with respect to the CPU/OpenCL versions. We will not port this to CPU given the considerable slow down in speed it would add to it. Nevertheless, this accuracy boost is almost insignificant so the CPU/OpenCL versions can be safely used.\n-------------------------------- END WARNING --------------------------------\nOpenPose demo successfully finished. Total time: 487.551751 seconds.\n",
      "Starting OpenPose demo...\nConfiguring OpenPose...\nStarting thread(s)...\n---------------------------------- WARNING ----------------------------------\nWe have introduced an additional boost in accuracy in the CUDA version of about 0.2% with respect to the CPU/OpenCL versions. We will not port this to CPU given the considerable slow down in speed it would add to it. Nevertheless, this accuracy boost is almost insignificant so the CPU/OpenCL versions can be safely used.\n-------------------------------- END WARNING --------------------------------\nOpenPose demo successfully finished. Total time: 160.827368 seconds.\n",
      "Starting OpenPose demo...\nConfiguring OpenPose...\nStarting thread(s)...\n---------------------------------- WARNING ----------------------------------\nWe have introduced an additional boost in accuracy in the CUDA version of about 0.2% with respect to the CPU/OpenCL versions. We will not port this to CPU given the considerable slow down in speed it would add to it. Nevertheless, this accuracy boost is almost insignificant so the CPU/OpenCL versions can be safely used.\n-------------------------------- END WARNING --------------------------------\nOpenPose demo successfully finished. Total time: 350.973537 seconds.\n",
      "Starting OpenPose demo...\nConfiguring OpenPose...\nStarting thread(s)...\n---------------------------------- WARNING ----------------------------------\nWe have introduced an additional boost in accuracy in the CUDA version of about 0.2% with respect to the CPU/OpenCL versions. We will not port this to CPU given the considerable slow down in speed it would add to it. Nevertheless, this accuracy boost is almost insignificant so the CPU/OpenCL versions can be safely used.\n-------------------------------- END WARNING --------------------------------\nOpenPose demo successfully finished. Total time: 297.940679 seconds.\n",
      "Starting OpenPose demo...\nConfiguring OpenPose...\nStarting thread(s)...\n---------------------------------- WARNING ----------------------------------\nWe have introduced an additional boost in accuracy in the CUDA version of about 0.2% with respect to the CPU/OpenCL versions. We will not port this to CPU given the considerable slow down in speed it would add to it. Nevertheless, this accuracy boost is almost insignificant so the CPU/OpenCL versions can be safely used.\n-------------------------------- END WARNING --------------------------------\nOpenPose demo successfully finished. Total time: 445.627169 seconds.\n",
      "Starting OpenPose demo...\nConfiguring OpenPose...\nStarting thread(s)...\n---------------------------------- WARNING ----------------------------------\nWe have introduced an additional boost in accuracy in the CUDA version of about 0.2% with respect to the CPU/OpenCL versions. We will not port this to CPU given the considerable slow down in speed it would add to it. Nevertheless, this accuracy boost is almost insignificant so the CPU/OpenCL versions can be safely used.\n-------------------------------- END WARNING --------------------------------\nOpenPose demo successfully finished. Total time: 167.146032 seconds.\n",
      "Starting OpenPose demo...\nConfiguring OpenPose...\nStarting thread(s)...\n---------------------------------- WARNING ----------------------------------\nWe have introduced an additional boost in accuracy in the CUDA version of about 0.2% with respect to the CPU/OpenCL versions. We will not port this to CPU given the considerable slow down in speed it would add to it. Nevertheless, this accuracy boost is almost insignificant so the CPU/OpenCL versions can be safely used.\n-------------------------------- END WARNING --------------------------------\nOpenPose demo successfully finished. Total time: 373.650518 seconds.\n",
      "Starting OpenPose demo...\nConfiguring OpenPose...\nStarting thread(s)...\n---------------------------------- WARNING ----------------------------------\nWe have introduced an additional boost in accuracy in the CUDA version of about 0.2% with respect to the CPU/OpenCL versions. We will not port this to CPU given the considerable slow down in speed it would add to it. Nevertheless, this accuracy boost is almost insignificant so the CPU/OpenCL versions can be safely used.\n-------------------------------- END WARNING --------------------------------\nOpenPose demo successfully finished. Total time: 499.734540 seconds.\n",
      "Starting OpenPose demo...\nConfiguring OpenPose...\nStarting thread(s)...\n---------------------------------- WARNING ----------------------------------\nWe have introduced an additional boost in accuracy in the CUDA version of about 0.2% with respect to the CPU/OpenCL versions. We will not port this to CPU given the considerable slow down in speed it would add to it. Nevertheless, this accuracy boost is almost insignificant so the CPU/OpenCL versions can be safely used.\n-------------------------------- END WARNING --------------------------------\nOpenPose demo successfully finished. Total time: 727.648139 seconds.\n",
      "Starting OpenPose demo...\nConfiguring OpenPose...\nStarting thread(s)...\n---------------------------------- WARNING ----------------------------------\nWe have introduced an additional boost in accuracy in the CUDA version of about 0.2% with respect to the CPU/OpenCL versions. We will not port this to CPU given the considerable slow down in speed it would add to it. Nevertheless, this accuracy boost is almost insignificant so the CPU/OpenCL versions can be safely used.\n-------------------------------- END WARNING --------------------------------\nOpenPose demo successfully finished. Total time: 476.754495 seconds.\n",
      "Starting OpenPose demo...\nConfiguring OpenPose...\nStarting thread(s)...\n---------------------------------- WARNING ----------------------------------\nWe have introduced an additional boost in accuracy in the CUDA version of about 0.2% with respect to the CPU/OpenCL versions. We will not port this to CPU given the considerable slow down in speed it would add to it. Nevertheless, this accuracy boost is almost insignificant so the CPU/OpenCL versions can be safely used.\n-------------------------------- END WARNING --------------------------------\nOpenPose demo successfully finished. Total time: 372.235500 seconds.\n",
      "Starting OpenPose demo...\nConfiguring OpenPose...\nStarting thread(s)...\n---------------------------------- WARNING ----------------------------------\nWe have introduced an additional boost in accuracy in the CUDA version of about 0.2% with respect to the CPU/OpenCL versions. We will not port this to CPU given the considerable slow down in speed it would add to it. Nevertheless, this accuracy boost is almost insignificant so the CPU/OpenCL versions can be safely used.\n-------------------------------- END WARNING --------------------------------\nOpenPose demo successfully finished. Total time: 571.965006 seconds.\n",
      "Starting OpenPose demo...\nConfiguring OpenPose...\nStarting thread(s)...\n---------------------------------- WARNING ----------------------------------\nWe have introduced an additional boost in accuracy in the CUDA version of about 0.2% with respect to the CPU/OpenCL versions. We will not port this to CPU given the considerable slow down in speed it would add to it. Nevertheless, this accuracy boost is almost insignificant so the CPU/OpenCL versions can be safely used.\n-------------------------------- END WARNING --------------------------------\nOpenPose demo successfully finished. Total time: 495.972164 seconds.\n",
      "Starting OpenPose demo...\nConfiguring OpenPose...\nStarting thread(s)...\n---------------------------------- WARNING ----------------------------------\nWe have introduced an additional boost in accuracy in the CUDA version of about 0.2% with respect to the CPU/OpenCL versions. We will not port this to CPU given the considerable slow down in speed it would add to it. Nevertheless, this accuracy boost is almost insignificant so the CPU/OpenCL versions can be safely used.\n-------------------------------- END WARNING --------------------------------\nOpenPose demo successfully finished. Total time: 429.701132 seconds.\n",
      "Starting OpenPose demo...\nConfiguring OpenPose...\nStarting thread(s)...\n---------------------------------- WARNING ----------------------------------\nWe have introduced an additional boost in accuracy in the CUDA version of about 0.2% with respect to the CPU/OpenCL versions. We will not port this to CPU given the considerable slow down in speed it would add to it. Nevertheless, this accuracy boost is almost insignificant so the CPU/OpenCL versions can be safely used.\n-------------------------------- END WARNING --------------------------------\nOpenPose demo successfully finished. Total time: 445.222428 seconds.\n",
      "Starting OpenPose demo...\nConfiguring OpenPose...\nStarting thread(s)...\n---------------------------------- WARNING ----------------------------------\nWe have introduced an additional boost in accuracy in the CUDA version of about 0.2% with respect to the CPU/OpenCL versions. We will not port this to CPU given the considerable slow down in speed it would add to it. Nevertheless, this accuracy boost is almost insignificant so the CPU/OpenCL versions can be safely used.\n-------------------------------- END WARNING --------------------------------\nOpenPose demo successfully finished. Total time: 329.564999 seconds.\n",
      "Starting OpenPose demo...\nConfiguring OpenPose...\nStarting thread(s)...\n---------------------------------- WARNING ----------------------------------\nWe have introduced an additional boost in accuracy in the CUDA version of about 0.2% with respect to the CPU/OpenCL versions. We will not port this to CPU given the considerable slow down in speed it would add to it. Nevertheless, this accuracy boost is almost insignificant so the CPU/OpenCL versions can be safely used.\n-------------------------------- END WARNING --------------------------------\nOpenPose demo successfully finished. Total time: 468.018312 seconds.\n",
      "Starting OpenPose demo...\nConfiguring OpenPose...\nStarting thread(s)...\n---------------------------------- WARNING ----------------------------------\nWe have introduced an additional boost in accuracy in the CUDA version of about 0.2% with respect to the CPU/OpenCL versions. We will not port this to CPU given the considerable slow down in speed it would add to it. Nevertheless, this accuracy boost is almost insignificant so the CPU/OpenCL versions can be safely used.\n-------------------------------- END WARNING --------------------------------\nOpenPose demo successfully finished. Total time: 676.788820 seconds.\n",
      "Starting OpenPose demo...\nConfiguring OpenPose...\nStarting thread(s)...\n---------------------------------- WARNING ----------------------------------\nWe have introduced an additional boost in accuracy in the CUDA version of about 0.2% with respect to the CPU/OpenCL versions. We will not port this to CPU given the considerable slow down in speed it would add to it. Nevertheless, this accuracy boost is almost insignificant so the CPU/OpenCL versions can be safely used.\n-------------------------------- END WARNING --------------------------------\nOpenPose demo successfully finished. Total time: 865.967413 seconds.\n",
      "Starting OpenPose demo...\nConfiguring OpenPose...\nStarting thread(s)...\n---------------------------------- WARNING ----------------------------------\nWe have introduced an additional boost in accuracy in the CUDA version of about 0.2% with respect to the CPU/OpenCL versions. We will not port this to CPU given the considerable slow down in speed it would add to it. Nevertheless, this accuracy boost is almost insignificant so the CPU/OpenCL versions can be safely used.\n-------------------------------- END WARNING --------------------------------\nOpenPose demo successfully finished. Total time: 539.755749 seconds.\n",
      "Starting OpenPose demo...\nConfiguring OpenPose...\nStarting thread(s)...\n---------------------------------- WARNING ----------------------------------\nWe have introduced an additional boost in accuracy in the CUDA version of about 0.2% with respect to the CPU/OpenCL versions. We will not port this to CPU given the considerable slow down in speed it would add to it. Nevertheless, this accuracy boost is almost insignificant so the CPU/OpenCL versions can be safely used.\n-------------------------------- END WARNING --------------------------------\nOpenPose demo successfully finished. Total time: 585.880689 seconds.\n",
      "Starting OpenPose demo...\nConfiguring OpenPose...\nStarting thread(s)...\n---------------------------------- WARNING ----------------------------------\nWe have introduced an additional boost in accuracy in the CUDA version of about 0.2% with respect to the CPU/OpenCL versions. We will not port this to CPU given the considerable slow down in speed it would add to it. Nevertheless, this accuracy boost is almost insignificant so the CPU/OpenCL versions can be safely used.\n-------------------------------- END WARNING --------------------------------\nOpenPose demo successfully finished. Total time: 287.110941 seconds.\n",
      "Starting OpenPose demo...\nConfiguring OpenPose...\nStarting thread(s)...\n---------------------------------- WARNING ----------------------------------\nWe have introduced an additional boost in accuracy in the CUDA version of about 0.2% with respect to the CPU/OpenCL versions. We will not port this to CPU given the considerable slow down in speed it would add to it. Nevertheless, this accuracy boost is almost insignificant so the CPU/OpenCL versions can be safely used.\n-------------------------------- END WARNING --------------------------------\nOpenPose demo successfully finished. Total time: 678.195014 seconds.\n",
      "Starting OpenPose demo...\nConfiguring OpenPose...\nStarting thread(s)...\n---------------------------------- WARNING ----------------------------------\nWe have introduced an additional boost in accuracy in the CUDA version of about 0.2% with respect to the CPU/OpenCL versions. We will not port this to CPU given the considerable slow down in speed it would add to it. Nevertheless, this accuracy boost is almost insignificant so the CPU/OpenCL versions can be safely used.\n-------------------------------- END WARNING --------------------------------\nOpenPose demo successfully finished. Total time: 414.085463 seconds.\n"
     ],
     "output_type": "stream"
    },
    {
     "name": "stderr",
     "text": [
      "OpenCV: FFMPEG: tag 0x47504a4d/'MJPG' is not supported with codec id 7 and format 'mov / QuickTime / MOV'\nOpenCV: FFMPEG: fallback to use tag 0x6765706a/'jpeg'\n",
      "OpenCV: FFMPEG: tag 0x47504a4d/'MJPG' is not supported with codec id 7 and format 'mov / QuickTime / MOV'\nOpenCV: FFMPEG: fallback to use tag 0x6765706a/'jpeg'\n",
      "OpenCV: FFMPEG: tag 0x47504a4d/'MJPG' is not supported with codec id 7 and format 'mov / QuickTime / MOV'\nOpenCV: FFMPEG: fallback to use tag 0x6765706a/'jpeg'\n",
      "OpenCV: FFMPEG: tag 0x47504a4d/'MJPG' is not supported with codec id 7 and format 'mov / QuickTime / MOV'\nOpenCV: FFMPEG: fallback to use tag 0x6765706a/'jpeg'\n",
      "OpenCV: FFMPEG: tag 0x47504a4d/'MJPG' is not supported with codec id 7 and format 'mov / QuickTime / MOV'\nOpenCV: FFMPEG: fallback to use tag 0x6765706a/'jpeg'\n",
      "OpenCV: FFMPEG: tag 0x47504a4d/'MJPG' is not supported with codec id 7 and format 'mov / QuickTime / MOV'\nOpenCV: FFMPEG: fallback to use tag 0x6765706a/'jpeg'\n",
      "OpenCV: FFMPEG: tag 0x47504a4d/'MJPG' is not supported with codec id 7 and format 'mov / QuickTime / MOV'\nOpenCV: FFMPEG: fallback to use tag 0x6765706a/'jpeg'\n",
      "OpenCV: FFMPEG: tag 0x47504a4d/'MJPG' is not supported with codec id 7 and format 'mov / QuickTime / MOV'\nOpenCV: FFMPEG: fallback to use tag 0x6765706a/'jpeg'\n",
      "OpenCV: FFMPEG: tag 0x47504a4d/'MJPG' is not supported with codec id 7 and format 'mov / QuickTime / MOV'\nOpenCV: FFMPEG: fallback to use tag 0x6765706a/'jpeg'\n",
      "OpenCV: FFMPEG: tag 0x47504a4d/'MJPG' is not supported with codec id 7 and format 'mov / QuickTime / MOV'\nOpenCV: FFMPEG: fallback to use tag 0x6765706a/'jpeg'\n",
      "OpenCV: FFMPEG: tag 0x47504a4d/'MJPG' is not supported with codec id 7 and format 'mov / QuickTime / MOV'\nOpenCV: FFMPEG: fallback to use tag 0x6765706a/'jpeg'\n",
      "OpenCV: FFMPEG: tag 0x47504a4d/'MJPG' is not supported with codec id 7 and format 'mov / QuickTime / MOV'\nOpenCV: FFMPEG: fallback to use tag 0x6765706a/'jpeg'\n",
      "OpenCV: FFMPEG: tag 0x47504a4d/'MJPG' is not supported with codec id 7 and format 'mov / QuickTime / MOV'\nOpenCV: FFMPEG: fallback to use tag 0x6765706a/'jpeg'\n",
      "OpenCV: FFMPEG: tag 0x47504a4d/'MJPG' is not supported with codec id 7 and format 'mov / QuickTime / MOV'\nOpenCV: FFMPEG: fallback to use tag 0x6765706a/'jpeg'\n",
      "OpenCV: FFMPEG: tag 0x47504a4d/'MJPG' is not supported with codec id 7 and format 'mov / QuickTime / MOV'\nOpenCV: FFMPEG: fallback to use tag 0x6765706a/'jpeg'\n",
      "OpenCV: FFMPEG: tag 0x47504a4d/'MJPG' is not supported with codec id 7 and format 'mov / QuickTime / MOV'\nOpenCV: FFMPEG: fallback to use tag 0x6765706a/'jpeg'\n",
      "OpenCV: FFMPEG: tag 0x47504a4d/'MJPG' is not supported with codec id 7 and format 'mov / QuickTime / MOV'\nOpenCV: FFMPEG: fallback to use tag 0x6765706a/'jpeg'\n",
      "OpenCV: FFMPEG: tag 0x47504a4d/'MJPG' is not supported with codec id 7 and format 'mov / QuickTime / MOV'\nOpenCV: FFMPEG: fallback to use tag 0x6765706a/'jpeg'\n",
      "OpenCV: FFMPEG: tag 0x47504a4d/'MJPG' is not supported with codec id 7 and format 'mov / QuickTime / MOV'\nOpenCV: FFMPEG: fallback to use tag 0x6765706a/'jpeg'\n",
      "OpenCV: FFMPEG: tag 0x47504a4d/'MJPG' is not supported with codec id 7 and format 'mov / QuickTime / MOV'\nOpenCV: FFMPEG: fallback to use tag 0x6765706a/'jpeg'\n",
      "OpenCV: FFMPEG: tag 0x47504a4d/'MJPG' is not supported with codec id 7 and format 'mov / QuickTime / MOV'\nOpenCV: FFMPEG: fallback to use tag 0x6765706a/'jpeg'\n",
      "OpenCV: FFMPEG: tag 0x47504a4d/'MJPG' is not supported with codec id 7 and format 'mov / QuickTime / MOV'\nOpenCV: FFMPEG: fallback to use tag 0x6765706a/'jpeg'\n",
      "OpenCV: FFMPEG: tag 0x47504a4d/'MJPG' is not supported with codec id 7 and format 'mov / QuickTime / MOV'\nOpenCV: FFMPEG: fallback to use tag 0x6765706a/'jpeg'\n",
      "OpenCV: FFMPEG: tag 0x47504a4d/'MJPG' is not supported with codec id 7 and format 'mov / QuickTime / MOV'\nOpenCV: FFMPEG: fallback to use tag 0x6765706a/'jpeg'\n",
      "OpenCV: FFMPEG: tag 0x47504a4d/'MJPG' is not supported with codec id 7 and format 'mov / QuickTime / MOV'\nOpenCV: FFMPEG: fallback to use tag 0x6765706a/'jpeg'\n",
      "OpenCV: FFMPEG: tag 0x47504a4d/'MJPG' is not supported with codec id 7 and format 'mov / QuickTime / MOV'\nOpenCV: FFMPEG: fallback to use tag 0x6765706a/'jpeg'\n",
      "OpenCV: FFMPEG: tag 0x47504a4d/'MJPG' is not supported with codec id 7 and format 'mov / QuickTime / MOV'\nOpenCV: FFMPEG: fallback to use tag 0x6765706a/'jpeg'\n",
      "OpenCV: FFMPEG: tag 0x47504a4d/'MJPG' is not supported with codec id 7 and format 'mov / QuickTime / MOV'\nOpenCV: FFMPEG: fallback to use tag 0x6765706a/'jpeg'\n",
      "OpenCV: FFMPEG: tag 0x47504a4d/'MJPG' is not supported with codec id 7 and format 'mov / QuickTime / MOV'\nOpenCV: FFMPEG: fallback to use tag 0x6765706a/'jpeg'\n",
      "OpenCV: FFMPEG: tag 0x47504a4d/'MJPG' is not supported with codec id 7 and format 'mov / QuickTime / MOV'\nOpenCV: FFMPEG: fallback to use tag 0x6765706a/'jpeg'\n",
      "OpenCV: FFMPEG: tag 0x47504a4d/'MJPG' is not supported with codec id 7 and format 'mov / QuickTime / MOV'\nOpenCV: FFMPEG: fallback to use tag 0x6765706a/'jpeg'\n",
      "OpenCV: FFMPEG: tag 0x47504a4d/'MJPG' is not supported with codec id 7 and format 'mov / QuickTime / MOV'\nOpenCV: FFMPEG: fallback to use tag 0x6765706a/'jpeg'\n",
      "OpenCV: FFMPEG: tag 0x47504a4d/'MJPG' is not supported with codec id 7 and format 'mov / QuickTime / MOV'\nOpenCV: FFMPEG: fallback to use tag 0x6765706a/'jpeg'\n",
      "OpenCV: FFMPEG: tag 0x47504a4d/'MJPG' is not supported with codec id 7 and format 'mov / QuickTime / MOV'\nOpenCV: FFMPEG: fallback to use tag 0x6765706a/'jpeg'\n"
     ],
     "output_type": "stream"
    }
   ],
   "source": [
    "#################################### DO NOT RERUN THIS, TAKE A LONG TIME TO PROCESS ####################################\n",
    "# files_mov_lst = [f for f in os.listdir(os.path.join(project_path, dir_train_test)) if f[-4:]=='.mov' and 'Brady' not in f]\n",
    "# # files_mov_lst = ['ASL_2006_10_10_scene2-camera1_AGAIN_v0_9_train.mov', 'ASL_2006_10_10_scene2-camera1_ALL_v0_4_train.mov']\n",
    "# for f in files_mov_lst:\n",
    "#     # !cd D:\\\\UCBerkeley\\\\CourseWork\\\\202001\\\\W251\\\\Homework\\\\Project\\\\openpose && bin\\OpenPoseDemo.exe --video ..\\train_val_videos\\$f --hand --write_json ..\\openpose_output\\json\\ --disable_blending --display 0 --render_pose 0\n",
    "#     !cd D:\\\\UCBerkeley\\\\CourseWork\\\\202001\\\\W251\\\\Homework\\\\Project\\\\openpose && bin\\OpenPoseDemo.exe --video ..\\train_val_videos\\$f --hand --write_json ..\\openpose_output\\json\\ --write_video ..\\openpose_output\\video\\$f --disable_blending --hand_render_threshold 0.00000000000000001"
   ],
   "metadata": {
    "collapsed": false,
    "pycharm": {
     "name": "#%%\n",
     "is_executing": true
    }
   }
  },
  {
   "cell_type": "code",
   "execution_count": 15,
   "outputs": [],
   "source": [
    "dir_train_test = 'train_test_videos_NEW'\n",
    "dir_train_test_NEW = 'train_test_videos_NEW'\n",
    "dir_output_video_old = r'openpose_output\\video'\n",
    "dir_output_json_old = r'openpose_output\\json'\n",
    "dir_output_video_new = r'openpose_output\\video_NEW'\n",
    "dir_output_json_new = r'openpose_output\\json_NEW'"
   ],
   "metadata": {
    "collapsed": false,
    "pycharm": {
     "name": "#%%\n",
     "is_executing": false
    }
   }
  },
  {
   "cell_type": "code",
   "execution_count": 23,
   "outputs": [
    {
     "name": "stdout",
     "text": [
      "        1 file(s) copied.\n",
      "        1 file(s) copied.\n",
      "        1 file(s) copied.\n",
      "        1 file(s) copied.\n",
      "        1 file(s) copied.\n",
      "        1 file(s) copied.\n",
      "        1 file(s) copied.\n",
      "        1 file(s) copied.\n",
      "        1 file(s) copied.\n",
      "        1 file(s) copied.\n",
      "        1 file(s) copied.\n",
      "        1 file(s) copied.\n",
      "        1 file(s) copied.\n",
      "        1 file(s) copied.",
      "\n",
      "        1 file(s) copied.",
      "\n",
      "        1 file(s) copied.",
      "\n",
      "        1 file(s) copied.",
      "\n",
      "        1 file(s) copied.",
      "\n",
      "        1 file(s) copied.\n",
      "        1 file(s) copied.",
      "\n",
      "        1 file(s) copied.",
      "\n",
      "        1 file(s) copied.",
      "\n",
      "        1 file(s) copied.",
      "\n",
      "        1 file(s) copied.\n",
      "        1 file(s) copied.",
      "\n",
      "        1 file(s) copied.",
      "\n",
      "        1 file(s) copied.",
      "\n",
      "        1 file(s) copied.",
      "\n",
      "        1 file(s) copied.",
      "\n",
      "        1 file(s) copied.\n",
      "        1 file(s) copied.\n",
      "        1 file(s) copied.",
      "\n",
      "        1 file(s) copied.",
      "\n",
      "        1 file(s) copied.",
      "\n",
      "        1 file(s) copied.",
      "\n",
      "        1 file(s) copied.\n",
      "        1 file(s) copied.\n",
      "        1 file(s) copied.",
      "\n",
      "        1 file(s) copied.",
      "\n",
      "        1 file(s) copied.\n",
      "        1 file(s) copied.",
      "\n",
      "        1 file(s) copied.\n",
      "        1 file(s) copied.",
      "\n",
      "        1 file(s) copied.\n",
      "        1 file(s) copied.\n",
      "        1 file(s) copied.\n",
      "        1 file(s) copied.",
      "\n",
      "        1 file(s) copied.",
      "\n",
      "        1 file(s) copied.\n",
      "        1 file(s) copied.\n",
      "        1 file(s) copied.\n",
      "        1 file(s) copied.",
      "\n",
      "        1 file(s) copied.\n",
      "        1 file(s) copied.",
      "\n",
      "        1 file(s) copied.",
      "\n",
      "        1 file(s) copied.",
      "\n",
      "        1 file(s) copied.",
      "\n",
      "        1 file(s) copied.\n",
      "        1 file(s) copied.\n",
      "        1 file(s) copied.\n",
      "        1 file(s) copied.",
      "\n",
      "        1 file(s) copied.\n",
      "        1 file(s) copied.\n",
      "        1 file(s) copied.\n",
      "        1 file(s) copied.\n",
      "        1 file(s) copied.",
      "\n",
      "        1 file(s) copied.",
      "\n",
      "        1 file(s) copied.",
      "\n",
      "        1 file(s) copied.\n",
      "        1 file(s) copied.\n",
      "        1 file(s) copied.\n",
      "        1 file(s) copied.\n",
      "        1 file(s) copied.",
      "\n",
      "        1 file(s) copied.",
      "\n",
      "        1 file(s) copied.",
      "\n",
      "        1 file(s) copied.",
      "\n",
      "        1 file(s) copied.",
      "\n",
      "        1 file(s) copied.",
      "\n",
      "        1 file(s) copied.",
      "\n",
      "        1 file(s) copied.",
      "\n",
      "        1 file(s) copied.",
      "\n",
      "        1 file(s) copied.",
      "\n",
      "        1 file(s) copied.",
      "\n",
      "        1 file(s) copied.",
      "\n",
      "        1 file(s) copied.",
      "\n",
      "        1 file(s) copied.",
      "\n",
      "        1 file(s) copied.",
      "\n",
      "        1 file(s) copied.",
      "\n",
      "        1 file(s) copied.",
      "\n",
      "        1 file(s) copied.",
      "\n",
      "        1 file(s) copied.",
      "\n",
      "        1 file(s) copied.",
      "\n",
      "        1 file(s) copied.",
      "\n",
      "        1 file(s) copied.",
      "\n",
      "        1 file(s) copied.",
      "\n",
      "        1 file(s) copied.",
      "\n",
      "        1 file(s) copied.",
      "\n",
      "        1 file(s) copied.\n",
      "        1 file(s) copied.",
      "\n",
      "        1 file(s) copied.",
      "\n",
      "        1 file(s) copied.",
      "\n",
      "        1 file(s) copied.",
      "\n",
      "        1 file(s) copied.",
      "\n",
      "        1 file(s) copied.",
      "\n",
      "        1 file(s) copied.",
      "\n",
      "        1 file(s) copied.",
      "\n",
      "        1 file(s) copied.",
      "\n",
      "        1 file(s) copied.",
      "\n",
      "        1 file(s) copied.",
      "\n",
      "        1 file(s) copied.\n",
      "        1 file(s) copied.\n",
      "        1 file(s) copied.",
      "\n",
      "        1 file(s) copied.",
      "\n"
     ],
     "output_type": "stream"
    }
   ],
   "source": [
    "# Rename openpose output video\n",
    "files_mov_lst_NEW = [f for f in os.listdir(os.path.join(project_path, dir_train_test)) if f[-4:]=='.mov' and 'Brady' not in f]\n",
    "video_output_lst = [f for f in os.listdir(os.path.join(project_path, dir_output_video_old)) if f[-4:]=='.mov']\n",
    "for f in files_mov_lst_NEW:\n",
    "    # extract the base video file name without train/val\n",
    "    f_base = '_'.join(f[:-4].split('_')[:-1])\n",
    "    for ff in video_output_lst:\n",
    "        # ff has the old name\n",
    "        temp_base = ff[:-4].split('_')[:-1]\n",
    "        temp_base[-1] = 'c'+ temp_base[-1]\n",
    "        temp_base = '_'.join(temp_base)\n",
    "        if f_base == temp_base:\n",
    "            !copy D:\\\\UCBerkeley\\\\CourseWork\\\\202001\\\\W251\\\\Homework\\\\Project\\\\openpose_output\\\\video\\\\$ff D:\\\\UCBerkeley\\\\CourseWork\\\\202001\\\\W251\\\\Homework\\\\Project\\\\openpose_output\\\\video_NEW\\\\$f"
   ],
   "metadata": {
    "collapsed": false,
    "pycharm": {
     "name": "#%%\n",
     "is_executing": false
    }
   }
  },
  {
   "cell_type": "code",
   "execution_count": 37,
   "outputs": [],
   "source": [
    "# Rename openpose output json\n",
    "json_output_lst = [f for f in os.listdir(os.path.join(project_path, dir_output_json_new))]\n",
    "# json_output_lst = [f for f in os.listdir(os.path.join(project_path, dir_test))]\n",
    "files_mov_lst_NEW = [f for f in os.listdir(os.path.join(project_path, dir_train_test)) if f[-4:]=='.mov' and 'Brady' not in f]\n",
    "\n",
    "for f in json_output_lst:\n",
    "    f_base = f.split('00000')[0].split('_')[:-2]\n",
    "    f_base[-1] = 'c'+ f_base[-1]\n",
    "    f_base = '_'.join(f_base)\n",
    "    for ff in files_mov_lst_NEW:\n",
    "        if f_base in ff:\n",
    "            ff_base = ff[:-4] + '_' + '_'.join(f.split('_')[-2:])\n",
    "            !rename D:\\\\UCBerkeley\\\\CourseWork\\\\202001\\\\W251\\\\Homework\\\\Project\\\\openpose_output\\\\json_NEW\\\\$f $ff_base"
   ],
   "metadata": {
    "collapsed": false,
    "pycharm": {
     "name": "#%%\n",
     "is_executing": false
    }
   }
  },
  {
   "cell_type": "code",
   "execution_count": 12,
   "outputs": [],
   "source": [
    "# move two files from train to test because after removing Brady's videos, no test video for two words\n",
    "import re\n",
    "\n",
    "dir_output_json_new = r'openpose_output\\json_NEW3'\n",
    "temp_file = 'ASL_2006_10_10_scene5-camera1_COAT_v0_c4'\n",
    "temp_file = 'ASL_2008_01_11_scene71-camera1_CHEAT_v2_c0'\n",
    "json_output_lst = [f for f in os.listdir(os.path.join(project_path, dir_output_json_new)) if temp_file in f]\n",
    "for f in json_output_lst:\n",
    "    new_f = re.sub('_train_', '_test_', f)\n",
    "    !rename D:\\\\UCBerkeley\\\\CourseWork\\\\202001\\\\W251\\\\Homework\\\\Project\\\\openpose_output\\\\json_NEW3\\\\$f $new_f"
   ],
   "metadata": {
    "collapsed": false,
    "pycharm": {
     "name": "#%%\n",
     "is_executing": false
    }
   }
  },
  {
   "cell_type": "code",
   "execution_count": 9,
   "outputs": [
    {
     "name": "stdout",
     "text": [
      "Starting OpenPose demo...\nConfiguring OpenPose...\nStarting thread(s)...\n---------------------------------- WARNING ----------------------------------\nWe have introduced an additional boost in accuracy in the CUDA version of about 0.2% with respect to the CPU/OpenCL versions. We will not port this to CPU given the considerable slow down in speed it would add to it. Nevertheless, this accuracy boost is almost insignificant so the CPU/OpenCL versions can be safely used.\n-------------------------------- END WARNING --------------------------------\nOpenPose demo successfully finished. Total time: 382.576797 seconds.\n",
      "Starting OpenPose demo...\nConfiguring OpenPose...\nStarting thread(s)...\n---------------------------------- WARNING ----------------------------------\nWe have introduced an additional boost in accuracy in the CUDA version of about 0.2% with respect to the CPU/OpenCL versions. We will not port this to CPU given the considerable slow down in speed it would add to it. Nevertheless, this accuracy boost is almost insignificant so the CPU/OpenCL versions can be safely used.\n-------------------------------- END WARNING --------------------------------\nOpenPose demo successfully finished. Total time: 491.773110 seconds.\n",
      "Starting OpenPose demo...\nConfiguring OpenPose...\nStarting thread(s)...\n---------------------------------- WARNING ----------------------------------\nWe have introduced an additional boost in accuracy in the CUDA version of about 0.2% with respect to the CPU/OpenCL versions. We will not port this to CPU given the considerable slow down in speed it would add to it. Nevertheless, this accuracy boost is almost insignificant so the CPU/OpenCL versions can be safely used.\n-------------------------------- END WARNING --------------------------------\nOpenPose demo successfully finished. Total time: 520.693634 seconds.\n",
      "Starting OpenPose demo...\nConfiguring OpenPose...\nStarting thread(s)...\n---------------------------------- WARNING ----------------------------------\nWe have introduced an additional boost in accuracy in the CUDA version of about 0.2% with respect to the CPU/OpenCL versions. We will not port this to CPU given the considerable slow down in speed it would add to it. Nevertheless, this accuracy boost is almost insignificant so the CPU/OpenCL versions can be safely used.\n-------------------------------- END WARNING --------------------------------\nOpenPose demo successfully finished. Total time: 238.881318 seconds.\n",
      "Starting OpenPose demo...\nConfiguring OpenPose...\nStarting thread(s)...\n---------------------------------- WARNING ----------------------------------\nWe have introduced an additional boost in accuracy in the CUDA version of about 0.2% with respect to the CPU/OpenCL versions. We will not port this to CPU given the considerable slow down in speed it would add to it. Nevertheless, this accuracy boost is almost insignificant so the CPU/OpenCL versions can be safely used.\n-------------------------------- END WARNING --------------------------------\nOpenPose demo successfully finished. Total time: 534.492913 seconds.\n",
      "Starting OpenPose demo...\nConfiguring OpenPose...\nStarting thread(s)...\n---------------------------------- WARNING ----------------------------------\nWe have introduced an additional boost in accuracy in the CUDA version of about 0.2% with respect to the CPU/OpenCL versions. We will not port this to CPU given the considerable slow down in speed it would add to it. Nevertheless, this accuracy boost is almost insignificant so the CPU/OpenCL versions can be safely used.\n-------------------------------- END WARNING --------------------------------\nOpenPose demo successfully finished. Total time: 142.687222 seconds.\n",
      "Starting OpenPose demo...\nConfiguring OpenPose...\nStarting thread(s)...\n---------------------------------- WARNING ----------------------------------\nWe have introduced an additional boost in accuracy in the CUDA version of about 0.2% with respect to the CPU/OpenCL versions. We will not port this to CPU given the considerable slow down in speed it would add to it. Nevertheless, this accuracy boost is almost insignificant so the CPU/OpenCL versions can be safely used.\n-------------------------------- END WARNING --------------------------------\nOpenPose demo successfully finished. Total time: 529.911435 seconds.\n",
      "Starting OpenPose demo...\nConfiguring OpenPose...\nStarting thread(s)...\n---------------------------------- WARNING ----------------------------------\nWe have introduced an additional boost in accuracy in the CUDA version of about 0.2% with respect to the CPU/OpenCL versions. We will not port this to CPU given the considerable slow down in speed it would add to it. Nevertheless, this accuracy boost is almost insignificant so the CPU/OpenCL versions can be safely used.\n-------------------------------- END WARNING --------------------------------\nOpenPose demo successfully finished. Total time: 435.797900 seconds.\n",
      "Starting OpenPose demo...\nConfiguring OpenPose...\nStarting thread(s)...\n---------------------------------- WARNING ----------------------------------\nWe have introduced an additional boost in accuracy in the CUDA version of about 0.2% with respect to the CPU/OpenCL versions. We will not port this to CPU given the considerable slow down in speed it would add to it. Nevertheless, this accuracy boost is almost insignificant so the CPU/OpenCL versions can be safely used.\n-------------------------------- END WARNING --------------------------------\nOpenPose demo successfully finished. Total time: 467.389436 seconds.\n",
      "Starting OpenPose demo...\nConfiguring OpenPose...\nStarting thread(s)...\n---------------------------------- WARNING ----------------------------------\nWe have introduced an additional boost in accuracy in the CUDA version of about 0.2% with respect to the CPU/OpenCL versions. We will not port this to CPU given the considerable slow down in speed it would add to it. Nevertheless, this accuracy boost is almost insignificant so the CPU/OpenCL versions can be safely used.\n-------------------------------- END WARNING --------------------------------\nOpenPose demo successfully finished. Total time: 402.729890 seconds.\n",
      "Starting OpenPose demo...\nConfiguring OpenPose...\nStarting thread(s)...\n---------------------------------- WARNING ----------------------------------\nWe have introduced an additional boost in accuracy in the CUDA version of about 0.2% with respect to the CPU/OpenCL versions. We will not port this to CPU given the considerable slow down in speed it would add to it. Nevertheless, this accuracy boost is almost insignificant so the CPU/OpenCL versions can be safely used.\n-------------------------------- END WARNING --------------------------------\nOpenPose demo successfully finished. Total time: 396.885388 seconds.\n",
      "Starting OpenPose demo...\nConfiguring OpenPose...\nStarting thread(s)...\n---------------------------------- WARNING ----------------------------------\nWe have introduced an additional boost in accuracy in the CUDA version of about 0.2% with respect to the CPU/OpenCL versions. We will not port this to CPU given the considerable slow down in speed it would add to it. Nevertheless, this accuracy boost is almost insignificant so the CPU/OpenCL versions can be safely used.\n-------------------------------- END WARNING --------------------------------\nOpenPose demo successfully finished. Total time: 600.651480 seconds.\n",
      "Starting OpenPose demo...\nConfiguring OpenPose...\nStarting thread(s)...\n---------------------------------- WARNING ----------------------------------\nWe have introduced an additional boost in accuracy in the CUDA version of about 0.2% with respect to the CPU/OpenCL versions. We will not port this to CPU given the considerable slow down in speed it would add to it. Nevertheless, this accuracy boost is almost insignificant so the CPU/OpenCL versions can be safely used.\n-------------------------------- END WARNING --------------------------------\nOpenPose demo successfully finished. Total time: 196.174248 seconds.\n",
      "Starting OpenPose demo...\nConfiguring OpenPose...\nStarting thread(s)...\n---------------------------------- WARNING ----------------------------------\nWe have introduced an additional boost in accuracy in the CUDA version of about 0.2% with respect to the CPU/OpenCL versions. We will not port this to CPU given the considerable slow down in speed it would add to it. Nevertheless, this accuracy boost is almost insignificant so the CPU/OpenCL versions can be safely used.\n-------------------------------- END WARNING --------------------------------\nOpenPose demo successfully finished. Total time: 440.139454 seconds.\n",
      "Starting OpenPose demo...\nConfiguring OpenPose...\nStarting thread(s)...\n---------------------------------- WARNING ----------------------------------\nWe have introduced an additional boost in accuracy in the CUDA version of about 0.2% with respect to the CPU/OpenCL versions. We will not port this to CPU given the considerable slow down in speed it would add to it. Nevertheless, this accuracy boost is almost insignificant so the CPU/OpenCL versions can be safely used.\n-------------------------------- END WARNING --------------------------------\nOpenPose demo successfully finished. Total time: 418.117323 seconds.\n",
      "Starting OpenPose demo...\nConfiguring OpenPose...\nStarting thread(s)...\n---------------------------------- WARNING ----------------------------------\nWe have introduced an additional boost in accuracy in the CUDA version of about 0.2% with respect to the CPU/OpenCL versions. We will not port this to CPU given the considerable slow down in speed it would add to it. Nevertheless, this accuracy boost is almost insignificant so the CPU/OpenCL versions can be safely used.\n-------------------------------- END WARNING --------------------------------\nOpenPose demo successfully finished. Total time: 415.067540 seconds.\n",
      "Starting OpenPose demo...\nConfiguring OpenPose...\nStarting thread(s)...\n---------------------------------- WARNING ----------------------------------\nWe have introduced an additional boost in accuracy in the CUDA version of about 0.2% with respect to the CPU/OpenCL versions. We will not port this to CPU given the considerable slow down in speed it would add to it. Nevertheless, this accuracy boost is almost insignificant so the CPU/OpenCL versions can be safely used.\n-------------------------------- END WARNING --------------------------------\nOpenPose demo successfully finished. Total time: 304.186778 seconds.\n",
      "Starting OpenPose demo...\nConfiguring OpenPose...\nStarting thread(s)...\n---------------------------------- WARNING ----------------------------------\nWe have introduced an additional boost in accuracy in the CUDA version of about 0.2% with respect to the CPU/OpenCL versions. We will not port this to CPU given the considerable slow down in speed it would add to it. Nevertheless, this accuracy boost is almost insignificant so the CPU/OpenCL versions can be safely used.\n-------------------------------- END WARNING --------------------------------\nOpenPose demo successfully finished. Total time: 224.086469 seconds.\n",
      "Starting OpenPose demo...\nConfiguring OpenPose...\nStarting thread(s)...\n---------------------------------- WARNING ----------------------------------\nWe have introduced an additional boost in accuracy in the CUDA version of about 0.2% with respect to the CPU/OpenCL versions. We will not port this to CPU given the considerable slow down in speed it would add to it. Nevertheless, this accuracy boost is almost insignificant so the CPU/OpenCL versions can be safely used.\n-------------------------------- END WARNING --------------------------------\nOpenPose demo successfully finished. Total time: 277.369910 seconds.\n",
      "Starting OpenPose demo...\nConfiguring OpenPose...\nStarting thread(s)...\n---------------------------------- WARNING ----------------------------------\nWe have introduced an additional boost in accuracy in the CUDA version of about 0.2% with respect to the CPU/OpenCL versions. We will not port this to CPU given the considerable slow down in speed it would add to it. Nevertheless, this accuracy boost is almost insignificant so the CPU/OpenCL versions can be safely used.\n-------------------------------- END WARNING --------------------------------\nOpenPose demo successfully finished. Total time: 815.275958 seconds.\n",
      "Starting OpenPose demo...\nConfiguring OpenPose...\nStarting thread(s)...\n---------------------------------- WARNING ----------------------------------\nWe have introduced an additional boost in accuracy in the CUDA version of about 0.2% with respect to the CPU/OpenCL versions. We will not port this to CPU given the considerable slow down in speed it would add to it. Nevertheless, this accuracy boost is almost insignificant so the CPU/OpenCL versions can be safely used.\n-------------------------------- END WARNING --------------------------------\nOpenPose demo successfully finished. Total time: 287.368643 seconds.\n",
      "Starting OpenPose demo...\nConfiguring OpenPose...\nStarting thread(s)...\n---------------------------------- WARNING ----------------------------------\nWe have introduced an additional boost in accuracy in the CUDA version of about 0.2% with respect to the CPU/OpenCL versions. We will not port this to CPU given the considerable slow down in speed it would add to it. Nevertheless, this accuracy boost is almost insignificant so the CPU/OpenCL versions can be safely used.\n-------------------------------- END WARNING --------------------------------\nOpenPose demo successfully finished. Total time: 356.375477 seconds.\n",
      "Starting OpenPose demo...\nConfiguring OpenPose...\nStarting thread(s)...\n---------------------------------- WARNING ----------------------------------\nWe have introduced an additional boost in accuracy in the CUDA version of about 0.2% with respect to the CPU/OpenCL versions. We will not port this to CPU given the considerable slow down in speed it would add to it. Nevertheless, this accuracy boost is almost insignificant so the CPU/OpenCL versions can be safely used.\n-------------------------------- END WARNING --------------------------------\nOpenPose demo successfully finished. Total time: 214.075373 seconds.\n",
      "Starting OpenPose demo...\nConfiguring OpenPose...\nStarting thread(s)...\n---------------------------------- WARNING ----------------------------------\nWe have introduced an additional boost in accuracy in the CUDA version of about 0.2% with respect to the CPU/OpenCL versions. We will not port this to CPU given the considerable slow down in speed it would add to it. Nevertheless, this accuracy boost is almost insignificant so the CPU/OpenCL versions can be safely used.\n-------------------------------- END WARNING --------------------------------\nOpenPose demo successfully finished. Total time: 160.833244 seconds.\n",
      "Starting OpenPose demo...\nConfiguring OpenPose...\nStarting thread(s)...\n---------------------------------- WARNING ----------------------------------\nWe have introduced an additional boost in accuracy in the CUDA version of about 0.2% with respect to the CPU/OpenCL versions. We will not port this to CPU given the considerable slow down in speed it would add to it. Nevertheless, this accuracy boost is almost insignificant so the CPU/OpenCL versions can be safely used.\n-------------------------------- END WARNING --------------------------------\nOpenPose demo successfully finished. Total time: 276.594000 seconds.\n",
      "Starting OpenPose demo...\nConfiguring OpenPose...\nStarting thread(s)...\n---------------------------------- WARNING ----------------------------------\nWe have introduced an additional boost in accuracy in the CUDA version of about 0.2% with respect to the CPU/OpenCL versions. We will not port this to CPU given the considerable slow down in speed it would add to it. Nevertheless, this accuracy boost is almost insignificant so the CPU/OpenCL versions can be safely used.\n-------------------------------- END WARNING --------------------------------\nOpenPose demo successfully finished. Total time: 308.695493 seconds.\n",
      "Starting OpenPose demo...\nConfiguring OpenPose...\nStarting thread(s)...\n---------------------------------- WARNING ----------------------------------\nWe have introduced an additional boost in accuracy in the CUDA version of about 0.2% with respect to the CPU/OpenCL versions. We will not port this to CPU given the considerable slow down in speed it would add to it. Nevertheless, this accuracy boost is almost insignificant so the CPU/OpenCL versions can be safely used.\n-------------------------------- END WARNING --------------------------------\nOpenPose demo successfully finished. Total time: 147.956002 seconds.\n",
      "Starting OpenPose demo...\nConfiguring OpenPose...\nStarting thread(s)...\n---------------------------------- WARNING ----------------------------------\nWe have introduced an additional boost in accuracy in the CUDA version of about 0.2% with respect to the CPU/OpenCL versions. We will not port this to CPU given the considerable slow down in speed it would add to it. Nevertheless, this accuracy boost is almost insignificant so the CPU/OpenCL versions can be safely used.\n-------------------------------- END WARNING --------------------------------\nOpenPose demo successfully finished. Total time: 392.764089 seconds.\n",
      "Starting OpenPose demo...\nConfiguring OpenPose...\nStarting thread(s)...\n---------------------------------- WARNING ----------------------------------\nWe have introduced an additional boost in accuracy in the CUDA version of about 0.2% with respect to the CPU/OpenCL versions. We will not port this to CPU given the considerable slow down in speed it would add to it. Nevertheless, this accuracy boost is almost insignificant so the CPU/OpenCL versions can be safely used.\n-------------------------------- END WARNING --------------------------------\nOpenPose demo successfully finished. Total time: 457.490828 seconds.\n"
     ],
     "output_type": "stream"
    },
    {
     "name": "stderr",
     "text": [
      "OpenCV: FFMPEG: tag 0x47504a4d/'MJPG' is not supported with codec id 7 and format 'mov / QuickTime / MOV'\nOpenCV: FFMPEG: fallback to use tag 0x6765706a/'jpeg'\n",
      "OpenCV: FFMPEG: tag 0x47504a4d/'MJPG' is not supported with codec id 7 and format 'mov / QuickTime / MOV'\nOpenCV: FFMPEG: fallback to use tag 0x6765706a/'jpeg'\n",
      "OpenCV: FFMPEG: tag 0x47504a4d/'MJPG' is not supported with codec id 7 and format 'mov / QuickTime / MOV'\nOpenCV: FFMPEG: fallback to use tag 0x6765706a/'jpeg'\n",
      "OpenCV: FFMPEG: tag 0x47504a4d/'MJPG' is not supported with codec id 7 and format 'mov / QuickTime / MOV'\nOpenCV: FFMPEG: fallback to use tag 0x6765706a/'jpeg'\n",
      "OpenCV: FFMPEG: tag 0x47504a4d/'MJPG' is not supported with codec id 7 and format 'mov / QuickTime / MOV'\nOpenCV: FFMPEG: fallback to use tag 0x6765706a/'jpeg'\n",
      "OpenCV: FFMPEG: tag 0x47504a4d/'MJPG' is not supported with codec id 7 and format 'mov / QuickTime / MOV'\nOpenCV: FFMPEG: fallback to use tag 0x6765706a/'jpeg'\n",
      "OpenCV: FFMPEG: tag 0x47504a4d/'MJPG' is not supported with codec id 7 and format 'mov / QuickTime / MOV'\nOpenCV: FFMPEG: fallback to use tag 0x6765706a/'jpeg'\n",
      "OpenCV: FFMPEG: tag 0x47504a4d/'MJPG' is not supported with codec id 7 and format 'mov / QuickTime / MOV'\nOpenCV: FFMPEG: fallback to use tag 0x6765706a/'jpeg'\n",
      "OpenCV: FFMPEG: tag 0x47504a4d/'MJPG' is not supported with codec id 7 and format 'mov / QuickTime / MOV'\nOpenCV: FFMPEG: fallback to use tag 0x6765706a/'jpeg'\n",
      "OpenCV: FFMPEG: tag 0x47504a4d/'MJPG' is not supported with codec id 7 and format 'mov / QuickTime / MOV'\nOpenCV: FFMPEG: fallback to use tag 0x6765706a/'jpeg'\n",
      "OpenCV: FFMPEG: tag 0x47504a4d/'MJPG' is not supported with codec id 7 and format 'mov / QuickTime / MOV'\nOpenCV: FFMPEG: fallback to use tag 0x6765706a/'jpeg'\n",
      "OpenCV: FFMPEG: tag 0x47504a4d/'MJPG' is not supported with codec id 7 and format 'mov / QuickTime / MOV'\nOpenCV: FFMPEG: fallback to use tag 0x6765706a/'jpeg'\n",
      "OpenCV: FFMPEG: tag 0x47504a4d/'MJPG' is not supported with codec id 7 and format 'mov / QuickTime / MOV'\nOpenCV: FFMPEG: fallback to use tag 0x6765706a/'jpeg'\n",
      "OpenCV: FFMPEG: tag 0x47504a4d/'MJPG' is not supported with codec id 7 and format 'mov / QuickTime / MOV'\nOpenCV: FFMPEG: fallback to use tag 0x6765706a/'jpeg'\n",
      "OpenCV: FFMPEG: tag 0x47504a4d/'MJPG' is not supported with codec id 7 and format 'mov / QuickTime / MOV'\nOpenCV: FFMPEG: fallback to use tag 0x6765706a/'jpeg'\n",
      "OpenCV: FFMPEG: tag 0x47504a4d/'MJPG' is not supported with codec id 7 and format 'mov / QuickTime / MOV'\nOpenCV: FFMPEG: fallback to use tag 0x6765706a/'jpeg'\n",
      "OpenCV: FFMPEG: tag 0x47504a4d/'MJPG' is not supported with codec id 7 and format 'mov / QuickTime / MOV'\nOpenCV: FFMPEG: fallback to use tag 0x6765706a/'jpeg'\n",
      "OpenCV: FFMPEG: tag 0x47504a4d/'MJPG' is not supported with codec id 7 and format 'mov / QuickTime / MOV'\nOpenCV: FFMPEG: fallback to use tag 0x6765706a/'jpeg'\n",
      "OpenCV: FFMPEG: tag 0x47504a4d/'MJPG' is not supported with codec id 7 and format 'mov / QuickTime / MOV'\nOpenCV: FFMPEG: fallback to use tag 0x6765706a/'jpeg'\n",
      "OpenCV: FFMPEG: tag 0x47504a4d/'MJPG' is not supported with codec id 7 and format 'mov / QuickTime / MOV'\nOpenCV: FFMPEG: fallback to use tag 0x6765706a/'jpeg'\n",
      "OpenCV: FFMPEG: tag 0x47504a4d/'MJPG' is not supported with codec id 7 and format 'mov / QuickTime / MOV'\nOpenCV: FFMPEG: fallback to use tag 0x6765706a/'jpeg'\n",
      "OpenCV: FFMPEG: tag 0x47504a4d/'MJPG' is not supported with codec id 7 and format 'mov / QuickTime / MOV'\nOpenCV: FFMPEG: fallback to use tag 0x6765706a/'jpeg'\n",
      "OpenCV: FFMPEG: tag 0x47504a4d/'MJPG' is not supported with codec id 7 and format 'mov / QuickTime / MOV'\nOpenCV: FFMPEG: fallback to use tag 0x6765706a/'jpeg'\n",
      "OpenCV: FFMPEG: tag 0x47504a4d/'MJPG' is not supported with codec id 7 and format 'mov / QuickTime / MOV'\nOpenCV: FFMPEG: fallback to use tag 0x6765706a/'jpeg'\n",
      "OpenCV: FFMPEG: tag 0x47504a4d/'MJPG' is not supported with codec id 7 and format 'mov / QuickTime / MOV'\nOpenCV: FFMPEG: fallback to use tag 0x6765706a/'jpeg'\n",
      "OpenCV: FFMPEG: tag 0x47504a4d/'MJPG' is not supported with codec id 7 and format 'mov / QuickTime / MOV'\nOpenCV: FFMPEG: fallback to use tag 0x6765706a/'jpeg'\n",
      "OpenCV: FFMPEG: tag 0x47504a4d/'MJPG' is not supported with codec id 7 and format 'mov / QuickTime / MOV'\nOpenCV: FFMPEG: fallback to use tag 0x6765706a/'jpeg'\n",
      "OpenCV: FFMPEG: tag 0x47504a4d/'MJPG' is not supported with codec id 7 and format 'mov / QuickTime / MOV'\nOpenCV: FFMPEG: fallback to use tag 0x6765706a/'jpeg'\n",
      "OpenCV: FFMPEG: tag 0x47504a4d/'MJPG' is not supported with codec id 7 and format 'mov / QuickTime / MOV'\nOpenCV: FFMPEG: fallback to use tag 0x6765706a/'jpeg'\n"
     ],
     "output_type": "stream"
    }
   ],
   "source": [
    "# Process Brady's videos\n",
    "project_path = r'D:\\UCBerkeley\\CourseWork\\202001\\W251\\Homework\\Project'\n",
    "dir_train_test = 'train_test_videos_NEW'\n",
    "\n",
    "#################################### DO NOT RERUN THIS, TAKE A LONG TIME TO PROCESS ####################################\n",
    "# files_mov_lst = [f for f in os.listdir(os.path.join(project_path, dir_train_test)) if f[-4:]=='.mov' and 'Brady' in f]\n",
    "# for f in files_mov_lst:\n",
    "#     !cd D:\\\\UCBerkeley\\\\CourseWork\\\\202001\\\\W251\\\\Homework\\\\Project\\\\openpose && bin\\OpenPoseDemo.exe --video ..\\train_test_videos_NEW\\$f --hand --write_json ..\\openpose_output\\json_NEW\\ --write_video ..\\openpose_output\\video_NEW\\$f --disable_blending --hand_render_threshold 0.00000000000000001\n"
   ],
   "metadata": {
    "collapsed": false,
    "pycharm": {
     "name": "#%%\n",
     "is_executing": false
    }
   }
  },
  {
   "cell_type": "code",
   "execution_count": 10,
   "outputs": [
    {
     "name": "stdout",
     "text": [
      "Starting OpenPose demo...\nConfiguring OpenPose...\nStarting thread(s)...\n---------------------------------- WARNING ----------------------------------\nWe have introduced an additional boost in accuracy in the CUDA version of about 0.2% with respect to the CPU/OpenCL versions. We will not port this to CPU given the considerable slow down in speed it would add to it. Nevertheless, this accuracy boost is almost insignificant so the CPU/OpenCL versions can be safely used.\n-------------------------------- END WARNING --------------------------------\nOpenPose demo successfully finished. Total time: 132.290194 seconds.\n",
      "Starting OpenPose demo...\nConfiguring OpenPose...\nStarting thread(s)...\n---------------------------------- WARNING ----------------------------------\nWe have introduced an additional boost in accuracy in the CUDA version of about 0.2% with respect to the CPU/OpenCL versions. We will not port this to CPU given the considerable slow down in speed it would add to it. Nevertheless, this accuracy boost is almost insignificant so the CPU/OpenCL versions can be safely used.\n-------------------------------- END WARNING --------------------------------\nOpenPose demo successfully finished. Total time: 341.508662 seconds.\n",
      "Starting OpenPose demo...\nConfiguring OpenPose...\nStarting thread(s)...\n---------------------------------- WARNING ----------------------------------\nWe have introduced an additional boost in accuracy in the CUDA version of about 0.2% with respect to the CPU/OpenCL versions. We will not port this to CPU given the considerable slow down in speed it would add to it. Nevertheless, this accuracy boost is almost insignificant so the CPU/OpenCL versions can be safely used.\n-------------------------------- END WARNING --------------------------------\nOpenPose demo successfully finished. Total time: 108.846036 seconds.\n",
      "Starting OpenPose demo...\nConfiguring OpenPose...\nStarting thread(s)...\n---------------------------------- WARNING ----------------------------------\nWe have introduced an additional boost in accuracy in the CUDA version of about 0.2% with respect to the CPU/OpenCL versions. We will not port this to CPU given the considerable slow down in speed it would add to it. Nevertheless, this accuracy boost is almost insignificant so the CPU/OpenCL versions can be safely used.\n-------------------------------- END WARNING --------------------------------\nOpenPose demo successfully finished. Total time: 121.565324 seconds.\n"
     ],
     "output_type": "stream"
    },
    {
     "name": "stderr",
     "text": [
      "OpenCV: FFMPEG: tag 0x47504a4d/'MJPG' is not supported with codec id 7 and format 'mov / QuickTime / MOV'\nOpenCV: FFMPEG: fallback to use tag 0x6765706a/'jpeg'\n",
      "OpenCV: FFMPEG: tag 0x47504a4d/'MJPG' is not supported with codec id 7 and format 'mov / QuickTime / MOV'\nOpenCV: FFMPEG: fallback to use tag 0x6765706a/'jpeg'\n",
      "OpenCV: FFMPEG: tag 0x47504a4d/'MJPG' is not supported with codec id 7 and format 'mov / QuickTime / MOV'\nOpenCV: FFMPEG: fallback to use tag 0x6765706a/'jpeg'\n",
      "OpenCV: FFMPEG: tag 0x47504a4d/'MJPG' is not supported with codec id 7 and format 'mov / QuickTime / MOV'\nOpenCV: FFMPEG: fallback to use tag 0x6765706a/'jpeg'\n"
     ],
     "output_type": "stream"
    }
   ],
   "source": [
    "# Re-process the following four videos\n",
    "# * ASL_2006_10_10_scene3-camera1_BASEBALL_v1_c1_train.mov\n",
    "# * ASL_2006_10_10_scene3-camera1_AWKWARD_v0_c4_test.mov\n",
    "# * ASL_2007_05_24_scene12-camera1_DRESS_v0_c18_train.mov\n",
    "# * ASL_2007_05_24_scene12-camera1_ENOUGH_v1_c5_train.mov\n",
    "project_path = r'D:\\UCBerkeley\\CourseWork\\202001\\W251\\Homework\\Project'\n",
    "files_mov_lst = ['ASL_2006_10_10_scene3-camera1_BASEBALL_v1_c1_train.mov', \n",
    "                 'ASL_2006_10_10_scene3-camera1_AWKWARD_v0_c4_test.mov', \n",
    "                 'ASL_2007_05_24_scene12-camera1_DRESS_v0_c18_train.mov', \n",
    "                 'ASL_2007_05_24_scene12-camera1_ENOUGH_v1_c5_train.mov']\n",
    "\n",
    "for f in files_mov_lst:\n",
    "    !cd D:\\\\UCBerkeley\\\\CourseWork\\\\202001\\\\W251\\\\Homework\\\\Project\\\\openpose && bin\\OpenPoseDemo.exe --video ..\\train_test_videos_NEW3\\$f --hand --write_json ..\\openpose_output\\json_NEW3\\ --write_video ..\\openpose_output\\video_NEW3\\$f --disable_blending --hand_render_threshold 0.00000000000000001"
   ],
   "metadata": {
    "collapsed": false,
    "pycharm": {
     "name": "#%%\n",
     "is_executing": false
    }
   }
  },
  {
   "cell_type": "code",
   "execution_count": null,
   "outputs": [],
   "source": [
    "\n"
   ],
   "metadata": {
    "collapsed": false,
    "pycharm": {
     "name": "#%%\n"
    }
   }
  }
 ],
 "metadata": {
  "kernelspec": {
   "display_name": "Python 3",
   "language": "python",
   "name": "python3"
  },
  "language_info": {
   "codemirror_mode": {
    "name": "ipython",
    "version": 2
   },
   "file_extension": ".py",
   "mimetype": "text/x-python",
   "name": "python",
   "nbconvert_exporter": "python",
   "pygments_lexer": "ipython2",
   "version": "2.7.6"
  },
  "pycharm": {
   "stem_cell": {
    "cell_type": "raw",
    "source": [],
    "metadata": {
     "collapsed": false
    }
   }
  }
 },
 "nbformat": 4,
 "nbformat_minor": 0
}