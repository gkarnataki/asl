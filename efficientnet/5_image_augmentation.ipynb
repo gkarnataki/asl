{
 "cells": [
  {
   "cell_type": "code",
   "execution_count": 21,
   "metadata": {
    "collapsed": true,
    "pycharm": {
     "is_executing": false
    }
   },
   "outputs": [],
   "source": [
    "import os\n",
    "from PIL import Image\n",
    "from keras.preprocessing.image import ImageDataGenerator\n",
    "import cv2\n",
    "import numpy as np\n",
    "from matplotlib import pyplot as plt"
   ]
  },
  {
   "cell_type": "code",
   "execution_count": 25,
   "outputs": [],
   "source": [
    "project_path = r'D:\\UCBerkeley\\CourseWork\\202001\\W251\\Homework\\Project'\n",
    "dir_train = r'openpose_output\\image_transfer_hand4_less_DRESS_old'\n",
    "test_img = r'CHEAP\\mask_CHEAP_c1_train.png'"
   ],
   "metadata": {
    "collapsed": false,
    "pycharm": {
     "name": "#%%\n",
     "is_executing": false
    }
   }
  },
  {
   "cell_type": "code",
   "execution_count": 26,
   "outputs": [
    {
     "data": {
      "text/plain": "<Figure size 432x288 with 1 Axes>",
      "image/png": "[encoded data removed]"
     },
     "metadata": {
      "needs_background": "light"
     },
     "output_type": "display_data"
    }
   ],
   "source": [
    "test_image = os.path.join(project_path, dir_train, test_img)\n",
    "color_img = cv2.imread(os.path.join(project_path, dir_train, test_image))\n",
    "plt.imshow(color_img)\n",
    "color_img_arr = np.array(color_img)\n"
   ],
   "metadata": {
    "collapsed": false,
    "pycharm": {
     "name": "#%%\n",
     "is_executing": false
    }
   }
  },
  {
   "cell_type": "code",
   "execution_count": 27,
   "outputs": [
    {
     "data": {
      "text/plain": "<matplotlib.image.AxesImage at 0x1808703f2c8>"
     },
     "metadata": {},
     "output_type": "execute_result",
     "execution_count": 27
    },
    {
     "data": {
      "text/plain": "<Figure size 432x288 with 1 Axes>",
      "image/png": "[encoded data removed]"
     },
     "metadata": {
      "needs_background": "light"
     },
     "output_type": "display_data"
    }
   ],
   "source": [
    "# Reference: https://github.com/keras-team/keras-preprocessing/blob/master/keras_preprocessing/image/affine_transformations.py\n",
    "# tx: Width shift.\n",
    "# ty: Heigh shift.\n",
    "# shear: Shear angle in degrees.\n",
    "# zx: Zoom in x direction.\n",
    "# zy: Zoom in y direction\n",
    "test_ig = ImageDataGenerator()\n",
    "new_image = test_ig.apply_transform(color_img_arr, transform_parameters={'zx':1.3, 'zy':1.3})\n",
    "out_image = Image.fromarray(new_image)\n",
    "plt.imshow(out_image)"
   ],
   "metadata": {
    "collapsed": false,
    "pycharm": {
     "name": "#%%\n",
     "is_executing": false
    }
   }
  },
  {
   "cell_type": "code",
   "execution_count": 28,
   "outputs": [
    {
     "data": {
      "text/plain": "<matplotlib.image.AxesImage at 0x180870a7988>"
     },
     "metadata": {},
     "output_type": "execute_result",
     "execution_count": 28
    },
    {
     "data": {
      "text/plain": "<Figure size 432x288 with 1 Axes>",
      "image/png": "[encoded data removed]"
     },
     "metadata": {
      "needs_background": "light"
     },
     "output_type": "display_data"
    }
   ],
   "source": [
    "test_ig = ImageDataGenerator()\n",
    "new_image = test_ig.apply_transform(color_img_arr, transform_parameters={'tx': 100})\n",
    "out_image = Image.fromarray(new_image)\n",
    "plt.imshow(out_image)\n",
    "\n"
   ],
   "metadata": {
    "collapsed": false,
    "pycharm": {
     "name": "#%%\n",
     "is_executing": false
    }
   }
  },
  {
   "cell_type": "code",
   "execution_count": 46,
   "outputs": [],
   "source": [
    "from scipy.stats import multivariate_normal"
   ],
   "metadata": {
    "collapsed": false,
    "pycharm": {
     "name": "#%%\n",
     "is_executing": false
    }
   }
  },
  {
   "cell_type": "code",
   "execution_count": 140,
   "outputs": [],
   "source": [
    "# The selection is var_arr is judgemental\n",
    "#   The goal is to get a good spread of prob_center_lst\n",
    "var_arr = np.concatenate([np.arange(0.01, 0.1, 0.01), np.round(np.exp(np.arange(0.1, 3, 0.2))-1, 1)])\n",
    "prob_center_lst = []\n",
    "for var in var_arr:\n",
    "    prob_corner = multivariate_normal.cdf([0.5,-0.5], mean=[0,0], cov=[[var,0],[0,var]])\n",
    "    prob_center = 1 - prob_corner*4\n",
    "    prob_center_lst.append(prob_center)"
   ],
   "metadata": {
    "collapsed": false,
    "pycharm": {
     "name": "#%%\n",
     "is_executing": false
    }
   }
  },
  {
   "cell_type": "code",
   "execution_count": 141,
   "outputs": [
    {
     "name": "stdout",
     "text": [
      "[0.9999988533940412, 0.9991862615750546, 0.9922303166655003, 0.9753155784707281, 0.9499478492092006, 0.9192459851126827, 0.8858918480547813, 0.8517446467357871, 0.8179742619901802, 0.7852683835565047]\n[0.07635627390340871, 0.0571655931579339, 0.04440796480934184, 0.03472121082183888, 0.027517848850387328, 0.02185106965337713, 0.017521198796272452, 0.014105080087145838, 0.011381637976252468, 0.009208514637121246]\n"
     ],
     "output_type": "stream"
    }
   ],
   "source": [
    "print(prob_center_lst[:10])\n",
    "print(prob_center_lst[-10:])"
   ],
   "metadata": {
    "collapsed": false,
    "pycharm": {
     "name": "#%%\n",
     "is_executing": false
    }
   }
  },
  {
   "cell_type": "code",
   "execution_count": 142,
   "outputs": [
    {
     "data": {
      "text/plain": "0.3"
     },
     "metadata": {},
     "output_type": "execute_result",
     "execution_count": 142
    }
   ],
   "source": [
    "prob_center_arr = np.array(prob_center_lst)\n",
    "est_var = var_arr[np.argmin(abs(prob_center_arr-0.5))]\n",
    "est_var"
   ],
   "metadata": {
    "collapsed": false,
    "pycharm": {
     "name": "#%%\n",
     "is_executing": false
    }
   }
  },
  {
   "cell_type": "code",
   "execution_count": 147,
   "outputs": [
    {
     "data": {
      "text/plain": "0.004252815455031464"
     },
     "metadata": {},
     "output_type": "execute_result",
     "execution_count": 147
    }
   ],
   "source": [
    "move_x = 5\n",
    "move_y = 0\n",
    "est_var = 20\n",
    "\n",
    "move_x_neg = -abs(move_x)\n",
    "move_y_neg = -abs(move_y)\n",
    "\n",
    "est_prob = multivariate_normal.cdf([move_x_neg+0.5,move_y_neg+0.5], mean=[0,0], cov=[[est_var,0],[0,est_var]]) \\\n",
    "           - multivariate_normal.cdf([move_x_neg+0.5,move_y_neg-0.5], mean=[0,0], cov=[[est_var,0],[0,est_var]]) \\\n",
    "           - multivariate_normal.cdf([move_x_neg-0.5,move_y_neg+0.5], mean=[0,0], cov=[[est_var,0],[0,est_var]]) \\\n",
    "           + multivariate_normal.cdf([move_x_neg-0.5,move_y_neg-0.5], mean=[0,0], cov=[[est_var,0],[0,est_var]])\n",
    "est_prob"
   ],
   "metadata": {
    "collapsed": false,
    "pycharm": {
     "name": "#%%\n",
     "is_executing": false
    }
   }
  },
  {
   "cell_type": "code",
   "execution_count": 149,
   "outputs": [
    {
     "name": "stdout",
     "text": [
      "0.5877591838214065\nWe are moving!\n"
     ],
     "output_type": "stream"
    }
   ],
   "source": [
    "est_var = 1\n",
    "move_x_range = np.arange(-5, 6)\n",
    "move_y_range = np.arange(-5, 6)\n",
    "u = np.random.uniform(0, 1)\n",
    "print(u)\n",
    "prob_corner = multivariate_normal.cdf([0.5,-0.5], mean=[0,0], cov=[[est_var,0],[0,est_var]])\n",
    "prob_center = 1 - prob_corner*4\n",
    "if u > prob_center:\n",
    "    print('We are moving!')\n",
    "    while True:\n",
    "        try_move_x = int(np.random.choice(move_x_range, 1))\n",
    "        try_move_y = int(np.random.choice(move_y_range, 1))\n",
    "        try_move_x_neg = -abs(try_move_x)\n",
    "        try_move_y_neg = -abs(try_move_x)\n",
    "        \n",
    "        est_prob = multivariate_normal.cdf([try_move_x_neg+0.5,try_move_y_neg+0.5], mean=[0,0], cov=[[est_var,0],[0,est_var]]) \\\n",
    "                   - multivariate_normal.cdf([try_move_x_neg+0.5,try_move_y_neg-0.5], mean=[0,0], cov=[[est_var,0],[0,est_var]]) \\\n",
    "                   - multivariate_normal.cdf([try_move_x_neg-0.5,try_move_y_neg+0.5], mean=[0,0], cov=[[est_var,0],[0,est_var]]) \\\n",
    "                   + multivariate_normal.cdf([try_move_x_neg-0.5,try_move_y_neg-0.5], mean=[0,0], cov=[[est_var,0],[0,est_var]])\n",
    "        u = np.random.uniform(0, 1)\n",
    "        if u < est_prob:\n",
    "            sim_move_x = try_move_x\n",
    "            sim_move_y = try_move_y\n",
    "            break"
   ],
   "metadata": {
    "collapsed": false,
    "pycharm": {
     "name": "#%%\n",
     "is_executing": false
    }
   }
  },
  {
   "cell_type": "code",
   "execution_count": 150,
   "outputs": [
    {
     "name": "stdout",
     "text": [
      "-1\n4\n"
     ],
     "output_type": "stream"
    }
   ],
   "source": [
    "print(sim_move_x)\n",
    "print(sim_move_y)\n"
   ],
   "metadata": {
    "collapsed": false,
    "pycharm": {
     "name": "#%%\n",
     "is_executing": false
    }
   }
  },
  {
   "cell_type": "code",
   "execution_count": null,
   "outputs": [],
   "source": [
    "\n"
   ],
   "metadata": {
    "collapsed": false,
    "pycharm": {
     "name": "#%%\n"
    }
   }
  }
 ],
 "metadata": {
  "kernelspec": {
   "display_name": "Python 3",
   "language": "python",
   "name": "python3"
  },
  "language_info": {
   "codemirror_mode": {
    "name": "ipython",
    "version": 2
   },
   "file_extension": ".py",
   "mimetype": "text/x-python",
   "name": "python",
   "nbconvert_exporter": "python",
   "pygments_lexer": "ipython2",
   "version": "2.7.6"
  },
  "pycharm": {
   "stem_cell": {
    "cell_type": "raw",
    "source": [],
    "metadata": {
     "collapsed": false
    }
   }
  }
 },
 "nbformat": 4,
 "nbformat_minor": 0
}