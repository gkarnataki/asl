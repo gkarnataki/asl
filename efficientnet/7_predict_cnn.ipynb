{
 "cells": [
  {
   "cell_type": "code",
   "execution_count": 1,
   "metadata": {
    "collapsed": true,
    "pycharm": {
     "is_executing": false
    }
   },
   "outputs": [
    {
     "name": "stderr",
     "text": [
      "Using TensorFlow backend.\n"
     ],
     "output_type": "stream"
    }
   ],
   "source": [
    "from PIL import Image\n",
    "import numpy as np\n",
    "import os\n",
    "from matplotlib import pyplot as plt\n",
    "import re\n",
    "import random\n",
    "import cv2\n",
    "random.seed(251)\n",
    "np.random.seed(251)\n",
    "os.environ['PYTHONHASHSEED']=str(251)\n",
    "\n",
    "from keras.utils import to_categorical\n",
    "from keras.models import Sequential, load_model\n",
    "from keras.layers import Dense, Flatten, Conv2D, MaxPooling2D, Dropout, BatchNormalization\n",
    "\n",
    "import tensorflow as tf\n",
    "tf.compat.v1.set_random_seed(251)"
   ]
  },
  {
   "cell_type": "code",
   "execution_count": 2,
   "outputs": [],
   "source": [
    "image_shape = (300, 300)\n",
    "project_path = r'D:\\UCBerkeley\\CourseWork\\202001\\W251\\Homework\\Project'\n",
    "dir_train = 'train_optical_flow_output_10'\n",
    "dir_test = 'val_optical_flow_output_10'"
   ],
   "metadata": {
    "collapsed": false,
    "pycharm": {
     "name": "#%%\n",
     "is_executing": false
    }
   }
  },
  {
   "cell_type": "code",
   "execution_count": 3,
   "outputs": [
    {
     "name": "stdout",
     "text": [
      "AGAIN\n18\n"
     ],
     "output_type": "stream"
    }
   ],
   "source": [
    "# List all the vocab \n",
    "all_vocab = set([f.split('_')[1] for f in os.listdir(os.path.join(project_path, dir_train))])\n",
    "def conv_index_to_vocab(ind):\n",
    "    temp_dict = dict(enumerate(all_vocab))\n",
    "    return temp_dict[ind]\n",
    "def conv_vocab_to_index(vocab):\n",
    "    temp_dict = dict(zip(all_vocab,range(len(all_vocab))))\n",
    "    return temp_dict[vocab]\n",
    "\n",
    "print(conv_index_to_vocab(0))\n",
    "print(conv_vocab_to_index('NEG'))"
   ],
   "metadata": {
    "collapsed": false,
    "pycharm": {
     "name": "#%%\n",
     "is_executing": false
    }
   }
  },
  {
   "cell_type": "code",
   "execution_count": 4,
   "outputs": [],
   "source": [
    "def file_lst_to_array(proj_path, in_dir, in_f_list):\n",
    "    out_x_arr = []\n",
    "    out_y_arr = []\n",
    "    for f in in_f_list:\n",
    "        in_img = cv2.imread(os.path.join(proj_path, in_dir, f))\n",
    "        in_img_resize = cv2.resize(in_img, image_shape, interpolation=cv2.INTER_AREA)\n",
    "        in_img_resize_arr = np.array(in_img_resize)\n",
    "        # convert to black-white image\n",
    "        out_img_arr = np.mean(in_img_resize_arr, axis=2)\n",
    "        out_x_arr.append(in_img_resize_arr)\n",
    "        \n",
    "        temp_vocab = f.split('_')[1]\n",
    "        temp_ind = conv_vocab_to_index(temp_vocab) \n",
    "        out_y_arr.append(temp_ind)\n",
    "    return np.array(out_x_arr), np.array(out_y_arr)"
   ],
   "metadata": {
    "collapsed": false,
    "pycharm": {
     "name": "#%%\n",
     "is_executing": false
    }
   }
  },
  {
   "cell_type": "code",
   "execution_count": 5,
   "outputs": [],
   "source": [
    "model_saved = load_model(os.path.join(project_path, \"ResNet50_model_weights.h5\"))"
   ],
   "metadata": {
    "collapsed": false,
    "pycharm": {
     "name": "#%%\n",
     "is_executing": false
    }
   }
  },
  {
   "cell_type": "code",
   "execution_count": 6,
   "outputs": [
    {
     "name": "stdout",
     "text": [
      "-----------------\nActual word:  AGAIN\nActual:  0\nPrediction max prob:  6\nPrediction popular vote:  [6 6]\n",
      "-----------------\nActual word:  AGAIN\nActual:  0\nPrediction max prob:  6\nPrediction popular vote:  [6 6]\n",
      "-----------------\nActual word:  AGAIN\nActual:  0\nPrediction max prob:  6\nPrediction popular vote:  [6 6]\n",
      "-----------------\nActual word:  ALL\nActual:  3\nPrediction max prob:  6\nPrediction popular vote:  [6 6]\n",
      "-----------------\nActual word:  AWKWARD\nActual:  9\nPrediction max prob:  6\nPrediction popular vote:  [6 6]\n",
      "-----------------\nActual word:  AWKWARD\nActual:  9\nPrediction max prob:  6\nPrediction popular vote:  [6 6]\n",
      "-----------------\nActual word:  BASEBALL\nActual:  6\nPrediction max prob:  9\nPrediction popular vote:  [9 9]\n",
      "-----------------\nActual word:  BEHAVIOR\nActual:  12\nPrediction max prob:  6\nPrediction popular vote:  [6 6]\n",
      "-----------------\nActual word:  BEHAVIOR\nActual:  12\nPrediction max prob:  6\nPrediction popular vote:  [6 6]\n",
      "-----------------\nActual word:  CAN\nActual:  15\nPrediction max prob:  6\nPrediction popular vote:  [6 6]\n",
      "-----------------\nActual word:  CAN\nActual:  15\nPrediction max prob:  6\nPrediction popular vote:  [6 6]\n",
      "-----------------\nActual word:  CHAT\nActual:  7\nPrediction max prob:  6\nPrediction popular vote:  [6 6]\n",
      "-----------------\nActual word:  CHAT\nActual:  7\nPrediction max prob:  9\nPrediction popular vote:  [6 9]\n",
      "-----------------\nActual word:  CHEAP\nActual:  11\nPrediction max prob:  6\nPrediction popular vote:  [6 6]\n",
      "-----------------\nActual word:  CHEAT\nActual:  2\nPrediction max prob:  9\nPrediction popular vote:  [9 9]\n",
      "-----------------\nActual word:  CHURCH\nActual:  16\nPrediction max prob:  6\nPrediction popular vote:  [6 6]\n",
      "-----------------\nActual word:  CHURCH\nActual:  16\nPrediction max prob:  6\nPrediction popular vote:  [6 6]\n",
      "-----------------\nActual word:  COAT\nActual:  17\nPrediction max prob:  9\nPrediction popular vote:  [9 9]\n",
      "-----------------\nActual word:  CONFLICT\nActual:  10\nPrediction max prob:  9\nPrediction popular vote:  [9 9]\n",
      "-----------------\nActual word:  CONFLICT\nActual:  10\nPrediction max prob:  6\nPrediction popular vote:  [6 6]\n",
      "-----------------\nActual word:  COURT\nActual:  1\nPrediction max prob:  9\nPrediction popular vote:  [9 9]\n",
      "-----------------\nActual word:  COURT\nActual:  1\nPrediction max prob:  6\nPrediction popular vote:  [6 6]\n",
      "-----------------\nActual word:  COURT\nActual:  1\nPrediction max prob:  9\nPrediction popular vote:  [9 9]\n",
      "-----------------\nActual word:  DEPOSIT\nActual:  13\nPrediction max prob:  9\nPrediction popular vote:  [9 9]\n",
      "-----------------\nActual word:  DEPOSIT\nActual:  13\nPrediction max prob:  9\nPrediction popular vote:  [9 9]\n",
      "-----------------\nActual word:  DOCTOR\nActual:  5\nPrediction max prob:  9\nPrediction popular vote:  [9 9]\n",
      "-----------------\nActual word:  DRESS\nActual:  4\nPrediction max prob:  9\nPrediction popular vote:  [9 9]\n",
      "-----------------\nActual word:  DRESS\nActual:  4\nPrediction max prob:  6\nPrediction popular vote:  [6 6]\n",
      "-----------------\nActual word:  DRESS\nActual:  4\nPrediction max prob:  6\nPrediction popular vote:  [6 6]\n",
      "-----------------\nActual word:  DRESS\nActual:  4\nPrediction max prob:  6\nPrediction popular vote:  [6 6]\n",
      "-----------------\nActual word:  DRESS\nActual:  4\nPrediction max prob:  9\nPrediction popular vote:  [9 6]\n",
      "-----------------\nActual word:  ENOUGH\nActual:  14\nPrediction max prob:  9\nPrediction popular vote:  [9 9]\n",
      "-----------------\nActual word:  ENOUGH\nActual:  14\nPrediction max prob:  6\nPrediction popular vote:  [6 6]\n",
      "-----------------\nActual word:  NEG\nActual:  18\nPrediction max prob:  6\nPrediction popular vote:  [6 6]\n",
      "-----------------\nActual word:  NEG\nActual:  18\nPrediction max prob:  6\nPrediction popular vote:  [6 6]\n"
     ],
     "output_type": "stream"
    }
   ],
   "source": [
    "test_file_lst_all = [f for f in os.listdir(os.path.join(project_path, dir_test)) \n",
    "                  if f[-4:]=='.png' and f[:5] == 'mask_']  \n",
    "num_test_video = int(len(test_file_lst_all)/2)\n",
    "\n",
    "for i in range(num_test_video):\n",
    "    test_file_lst = test_file_lst_all[i*2:(i+1)*2]\n",
    "    x_test, y_test = file_lst_to_array(project_path, dir_test, test_file_lst)\n",
    "    \n",
    "    # x_test = x_test.reshape(x_test.shape[0], image_shape[1], image_shape[0], 1)\n",
    "    y_test_one_hot = to_categorical(y_test)\n",
    "    \n",
    "    x_test = x_test / 255\n",
    "    test_output = model_saved.predict(x_test)\n",
    "    print('-----------------')\n",
    "    print('Actual word: ', test_file_lst[0].split('_')[1])\n",
    "    print('Actual: ', conv_vocab_to_index(test_file_lst[0].split('_')[1]))\n",
    "    print('Prediction max prob: ', np.argmax(np.mean(test_output, axis=0)))\n",
    "    print('Prediction popular vote: ', np.argmax(test_output, axis=1))"
   ],
   "metadata": {
    "collapsed": false,
    "pycharm": {
     "name": "#%%\n",
     "is_executing": false
    }
   }
  },
  {
   "cell_type": "code",
   "execution_count": null,
   "outputs": [],
   "source": [
    "test_output = model_saved.predict(x_test)"
   ],
   "metadata": {
    "collapsed": false,
    "pycharm": {
     "name": "#%%\n",
     "is_executing": false
    }
   }
  },
  {
   "cell_type": "code",
   "execution_count": null,
   "outputs": [],
   "source": [
    "test_output"
   ],
   "metadata": {
    "collapsed": false,
    "pycharm": {
     "name": "#%%\n"
    }
   }
  },
  {
   "cell_type": "code",
   "execution_count": null,
   "outputs": [],
   "source": [
    "np.argmax(np.mean(test_output, axis=0))\n"
   ],
   "metadata": {
    "collapsed": false,
    "pycharm": {
     "name": "#%%\n"
    }
   }
  },
  {
   "cell_type": "code",
   "execution_count": null,
   "outputs": [],
   "source": [
    "conv_vocab_to_index(test_file_lst[0].split('_')[1])\n"
   ],
   "metadata": {
    "collapsed": false,
    "pycharm": {
     "name": "#%%\n"
    }
   }
  },
  {
   "cell_type": "code",
   "execution_count": null,
   "outputs": [],
   "source": [
    "np.argmax(test_output, axis=1)\n"
   ],
   "metadata": {
    "collapsed": false,
    "pycharm": {
     "name": "#%%\n"
    }
   }
  },
  {
   "cell_type": "code",
   "execution_count": 7,
   "outputs": [
    {
     "data": {
      "text/plain": "'BASEBALL'"
     },
     "metadata": {},
     "output_type": "execute_result",
     "execution_count": 7
    }
   ],
   "source": [
    "conv_index_to_vocab(6)\n"
   ],
   "metadata": {
    "collapsed": false,
    "pycharm": {
     "name": "#%%\n",
     "is_executing": false
    }
   }
  },
  {
   "cell_type": "code",
   "execution_count": null,
   "outputs": [],
   "source": [
    "\n"
   ],
   "metadata": {
    "collapsed": false,
    "pycharm": {
     "name": "#%%\n"
    }
   }
  }
 ],
 "metadata": {
  "kernelspec": {
   "display_name": "Python 3",
   "language": "python",
   "name": "python3"
  },
  "language_info": {
   "codemirror_mode": {
    "name": "ipython",
    "version": 2
   },
   "file_extension": ".py",
   "mimetype": "text/x-python",
   "name": "python",
   "nbconvert_exporter": "python",
   "pygments_lexer": "ipython2",
   "version": "2.7.6"
  },
  "pycharm": {
   "stem_cell": {
    "cell_type": "raw",
    "source": [],
    "metadata": {
     "collapsed": false
    }
   }
  }
 },
 "nbformat": 4,
 "nbformat_minor": 0
}