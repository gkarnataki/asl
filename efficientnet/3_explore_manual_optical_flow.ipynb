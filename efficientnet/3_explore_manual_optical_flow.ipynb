{
 "cells": [
  {
   "cell_type": "code",
   "execution_count": 6,
   "metadata": {
    "collapsed": true,
    "pycharm": {
     "is_executing": false
    }
   },
   "outputs": [],
   "source": [
    "# RGB: https://www.rapidtables.com/web/color/RGB_Color.html\n",
    "import json\n",
    "import os\n",
    "import cv2\n",
    "import numpy as np\n",
    "from matplotlib import pyplot as plt\n",
    "import glob\n",
    "np.random.seed(251)"
   ]
  },
  {
   "cell_type": "code",
   "execution_count": 7,
   "outputs": [],
   "source": [
    "project_path = r'D:\\UCBerkeley\\CourseWork\\202001\\W251\\Homework\\Project'\n",
    "dir_video = r'openpose_output\\video_NEW3'\n",
    "dir_json = r'openpose_output\\json_NEW3'\n",
    "dir_optical_flow = r'openpose_output\\NEW4_manual_optical_flow_output_hand4_color'\n",
    "dir_transfer = r'openpose_output\\NEW4_image_transfer_hand4_color'\n",
    "\n",
    "exclusion_list = ['ASL_2008_01_11_scene9-camera1_AGAIN_v2_c1_train.mov', \n",
    "                  'ASL_2008_05_12a_scene8-camera1_AGAIN_v1_c3_test.mov', \n",
    "                  'ASL_2008_08_04_scene7-camera1_AGAIN_v2_c5_train.mov', \n",
    "                  'ASL_2011_06_14_Brady_scene2-camera1_AGAIN_v3_c7_train.mov', \n",
    "                  'ASL_2008_08_04_scene45-camera1_CHAT_v1_c4_train.mov', \n",
    "                  'ASL_2008_01_11_scene81-camera1_DRESS_v1_c0_train.mov', \n",
    "                  'ASL_2008_01_18_scene23-camera1_DRESS_v1_c1_train.mov', \n",
    "                  'ASL_2008_01_18_scene24-camera1_DRESS_v1_c3_test.mov', \n",
    "                  'ASL_2008_05_12a_scene48-camera1_DRESS_v2_c6_train.mov', \n",
    "                  'ASL_2008_05_29a_scene4-camera1_DRESS_v2_c9_train.mov', \n",
    "                  'ASL_2008_08_04_scene50-camera1_DRESS_v1_c11_train.mov', \n",
    "                  'ASL_2008_08_06_scene24-camera1_DRESS_v1_c12_train.mov', \n",
    "                  'ASL_2011_06_08_Brady_scene28-camera1_DRESS_v1_c14_train.mov', \n",
    "                  'ASL_2011_06_14_Brady_scene7-camera1_DRESS_v1_c15_train.mov']\n",
    "\n",
    "class_list = ['AGAIN', 'ALL', 'AWKWARD', 'BASEBALL', 'BEHAVIOR', 'CAN', 'CHAT', 'CHEAP', \n",
    "              'CHEAT', 'CHURCH', 'COAT', 'CONFLICT', 'COURT', 'DEPOSIT', 'DEPRESS', \n",
    "              'DOCTOR', 'DRESS', 'ENOUGH', 'NEG']\n",
    "\n",
    "body_feature_set = [3, 4, 6, 7]\n",
    "hand_feature_set = list(range(21))\n",
    "hand_feature_set1 = [0, 17, 13, 9, 5, 1]\n",
    "hand_feature_set2 = [0, 18, 14, 10, 6, 2]\n",
    "hand_feature_set3 = [0, 19, 15, 11, 7, 3]\n",
    "hand_feature_set4 = [0, 20, 16, 12, 8, 4]\n",
    "\n",
    "# Create some random colors\n",
    "color = np.random.randint(0,255,(300,3))"
   ],
   "metadata": {
    "collapsed": false,
    "pycharm": {
     "name": "#%%\n",
     "is_executing": false
    }
   }
  },
  {
   "cell_type": "code",
   "execution_count": 3,
   "outputs": [],
   "source": [
    "# Remove all the files in dir_optical_flow\n",
    "files = glob.glob(os.path.join(project_path, dir_optical_flow, '*'))\n",
    "for f in files:\n",
    "    os.remove(f)\n",
    "# Remove all the files in the dir_transfer folder\n",
    "for i in range(len(class_list)):\n",
    "    files = glob.glob(os.path.join(project_path, dir_transfer, class_list[i], '*'))\n",
    "    for f in files:\n",
    "        os.remove(f)\n"
   ],
   "metadata": {
    "collapsed": false,
    "pycharm": {
     "name": "#%%\n",
     "is_executing": false
    }
   }
  },
  {
   "cell_type": "code",
   "execution_count": 4,
   "outputs": [
    {
     "name": "stdout",
     "text": [
      "ASL_2006_10_10_scene2-camera1_AGAIN_v0_c9_train.mov\nFound the json files\nASL_2006_10_10_scene2-camera1_ALL_v0_c4_train.mov\nFound the json files\nASL_2006_10_10_scene3-camera1_AWKWARD_v0_c4_test.mov\nFound the json files\nASL_2006_10_10_scene3-camera1_BASEBALL_v1_c1_train.mov\nFound the json files\nASL_2006_10_10_scene4-camera1_CAN_v0_c6_test.mov\nFound the json files\nASL_2006_10_10_scene4-camera1_CHAT_v2_c8_train.mov",
      "\nFound the json files\nASL_2006_10_10_scene5-camera1_CHEAP_v0_c4_train.mov\nFound the json files\nASL_2006_10_10_scene5-camera1_CHURCH_v1_c4_train.mov\nFound the json files\nASL_2006_10_10_scene5-camera1_COAT_v0_c4_test.mov\nFound the json files\n",
      "ASL_2006_10_10_scene6-camera1_CONFLICT_v0_c7_train.mov\nFound the json files\nASL_2006_10_10_scene6-camera1_COURT_v0_c7_train.mov\nFound the json files\nASL_2006_10_10_scene7-camera1_DEPOSIT_v0_c5_train.mov\nFound the json files\nASL_2006_10_10_scene7-camera1_DEPRESS_v0_c5_train.mov\nFound the json files\nASL_2006_10_10_scene7-camera1_DOCTOR_v1_c6_train.mov\nFound the json files",
      "\nASL_2006_10_10_scene7-camera1_WANT_NEG_v1_c3_train.mov\nFound the json files\nASL_2006_10_10_scene8-camera1_DRESS_v0_c17_test.mov\nFound the json files\nASL_2006_10_10_scene8-camera1_ENOUGH_v1_c4_train.mov\nFound the json files\nASL_2007_05_24_scene10-camera1_CONFLICT_v0_c8_train.mov",
      "\nFound the json files\nASL_2007_05_24_scene10-camera1_COURT_v0_c8_train.mov\nFound the json files\nASL_2007_05_24_scene11-camera1_DEPOSIT_v0_c6_train.mov\nFound the json files\nASL_2007_05_24_scene11-camera1_DEPRESS_v0_c6_test.mov\nFound the json files\nASL_2007_05_24_scene11-camera1_DOCTOR_v1_c7_train.mov",
      "\nFound the json files\nASL_2007_05_24_scene11-camera1_WANT_NEG_v1_c4_train.mov\nFound the json files\nASL_2007_05_24_scene12-camera1_DRESS_v0_c18_train.mov\nFound the json files\nASL_2007_05_24_scene12-camera1_ENOUGH_v1_c5_train.mov\nFound the json files",
      "\nASL_2007_05_24_scene5-camera1_AGAIN_v0_c10_train.mov\nFound the json files\nASL_2007_05_24_scene5-camera1_ALL_v0_c5_train.mov\nFound the json files\nASL_2007_05_24_scene7-camera1_AWKWARD_v0_c5_train.mov\nFound the json files\nASL_2007_05_24_scene7-camera1_BEHAVIOR_v1_c5_train.mov\nFound the json files",
      "\nASL_2007_05_24_scene8-camera1_CAN_v0_c7_train.mov\nFound the json files\nASL_2007_05_24_scene8-camera1_CHAT_v2_c9_train.mov\nFound the json files\nASL_2007_05_24_scene9-camera1_CHEAP_v0_c5_train.mov\nFound the json files",
      "\nASL_2007_05_24_scene9-camera1_CHURCH_v2_c5_train.mov\nFound the json files\nASL_2007_05_24_scene9-camera1_COAT_v0_c5_train.mov\nFound the json files\nASL_2008_01_11_scene11-camera1_ALL_v0_c0_train.mov\nFound the json files\nASL_2008_01_11_scene27-camera1_AWKWARD_v0_c0_train.mov\nFound the json files",
      "\nASL_2008_01_11_scene38-camera1_BEHAVIOR_v0_c0_train.mov\nFound the json files\nASL_2008_01_11_scene62-camera1_CAN_v0_c0_train.mov\nFound the json files\nASL_2008_01_11_scene71-camera1_CHAT_v2_c0_train.mov\nFound the json files\nASL_2008_01_11_scene71-camera1_CHEAP_v0_c0_test.mov",
      "\nFound the json files\nASL_2008_01_11_scene71-camera1_CHEAT_v2_c0_test.mov\nFound the json files\nASL_2008_01_11_scene77-camera1_CHURCH_v1_c0_train.mov\nFound the json files\nASL_2008_01_11_scene81-camera1_COAT_v0_c0_train.mov\nFound the json files\nASL_2008_01_11_scene9-camera1_AGAIN_v0_c0_train.mov\nFound the json files\n",
      "ASL_2008_01_18_scene1-camera1_CHAT_v1_c1_train.mov\nFound the json files\nASL_2008_01_18_scene15-camera1_DEPOSIT_v0_c0_train.mov\nFound the json files\nASL_2008_01_18_scene15-camera1_DEPRESS_v0_c0_train.mov\nFound the json files\nASL_2008_01_18_scene21-camera1_DOCTOR_v1_c0_train.mov\nFound the json files",
      "\nASL_2008_01_18_scene22-camera1_WANT_NEG_v1_c0_test.mov\nFound the json files\nASL_2008_01_18_scene24-camera1_DRESS_v0_c2_train.mov\nFound the json files\nASL_2008_01_18_scene24-camera1_DRESS_v0_c4_train.mov\nFound the json files\nASL_2008_01_18_scene3-camera1_CONFLICT_v0_c0_train.mov\nFound the json files\nASL_2008_01_18_scene32-camera1_ENOUGH_v1_c0_train.mov",
      "\nFound the json files\nASL_2008_01_18_scene7-camera1_COURT_v0_c0_train.mov\nFound the json files\nASL_2008_02_01_scene38-camera1_COURT_v0_c1_train.mov\nFound the json files\nASL_2008_02_15_scene45-camera1_CAN_v1_c1_train.mov\nFound the json files",
      "\nASL_2008_05_12a_scene18-camera1_AWKWARD_v0_c1_train.mov\nFound the json files\nASL_2008_05_12a_scene24-camera1_BEHAVIOR_v1_c1_test.mov\nFound the json files\nASL_2008_05_12a_scene24-camera1_BEHAVIOR_v1_c2_train.mov\nFound the json files\nASL_2008_05_12a_scene29-camera1_DRESS_v0_c5_train.mov\nFound the json files\n",
      "ASL_2008_05_12a_scene39-camera1_CAN_v0_c2_train.mov\nFound the json files\nASL_2008_05_12a_scene44-camera1_CHAT_v2_c2_test.mov\nFound the json files\nASL_2008_05_12a_scene44-camera1_CHEAP_v0_c1_train.mov\nFound the json files\nASL_2008_05_12a_scene44-camera1_CHEAT_v2_c1_train.mov\nFound the json files\n",
      "ASL_2008_05_12a_scene46-camera1_CHURCH_v1_c1_test.mov\nFound the json files\nASL_2008_05_12a_scene48-camera1_COAT_v0_c1_train.mov\nFound the json files\nASL_2008_05_12a_scene8-camera1_AGAIN_v0_c2_train.mov\nFound the json files\nASL_2008_05_12a_scene9-camera1_ALL_v0_c1_train.mov\nFound the json files\nASL_2008_05_12b_scene1-camera1_CHAT_v2_c3_train.mov\nFound the json files",
      "\nASL_2008_05_12b_scene14-camera1_DEPOSIT_v0_c2_train.mov\nFound the json files\nASL_2008_05_12b_scene15-camera1_DEPRESS_v0_c1_train.mov\nFound the json files\nASL_2008_05_12b_scene2-camera1_CONFLICT_v0_c2_train.mov\nFound the json files\n",
      "ASL_2008_05_12b_scene6-camera1_COURT_v0_c2_test.mov\nFound the json files\nASL_2008_05_29a_scene1-camera1_DOCTOR_v3_c1_train.mov\nFound the json files\nASL_2008_05_29a_scene12-camera1_ENOUGH_v1_c1_test.mov\nFound the json files\nASL_2008_05_29a_scene3-camera1_DRESS_v0_c7_train.mov\nFound the json files\nASL_2008_05_29a_scene3-camera1_DRESS_v0_c8_train.mov\nFound the json files",
      "\nASL_2008_05_29a_scene4-camera1_DRESS_v0_c10_train.mov\nFound the json files\nASL_2008_08_04_scene18-camera1_AWKWARD_v0_c2_train.mov\nFound the json files\nASL_2008_08_04_scene21-camera1_BASEBALL_v0_c0_test.mov\nFound the json files\nASL_2008_08_04_scene25-camera1_BEHAVIOR_v1_c3_train.mov",
      "\nFound the json files\nASL_2008_08_04_scene28-camera1_DOCTOR_v1_c2_train.mov\nFound the json files\nASL_2008_08_04_scene40-camera1_CAN_v0_c3_train.mov\nFound the json files\nASL_2008_08_04_scene45-camera1_CHEAP_v0_c2_train.mov\nFound the json files\nASL_2008_08_04_scene45-camera1_CHEAT_v0_c2_train.mov",
      "\nFound the json files\nASL_2008_08_04_scene45-camera1_CHEAT_v0_c3_train.mov\nFound the json files\nASL_2008_08_04_scene48-camera1_CHURCH_v1_c2_train.mov\nFound the json files\nASL_2008_08_04_scene50-camera1_COAT_v0_c2_train.mov\nFound the json files\nASL_2008_08_04_scene7-camera1_AGAIN_v0_c4_train.mov",
      "\nFound the json files\nASL_2008_08_04_scene8-camera1_ALL_v0_c2_test.mov\nFound the json files\nASL_2008_08_06_scene1-camera1_CHAT_v2_c5_train.mov\nFound the json files\nASL_2008_08_06_scene14-camera1_DEPOSIT_v0_c3_train.mov\nFound the json files\nASL_2008_08_06_scene15-camera1_DEPRESS_v0_c2_train.mov\nFound the json files\n",
      "ASL_2008_08_06_scene2-camera1_CONFLICT_v0_c3_train.mov\nFound the json files\nASL_2008_08_06_scene21-camera1_DOCTOR_v0_c3_test.mov\nFound the json files\nASL_2008_08_06_scene22-camera1_WANT_NEG_v1_c1_train.mov\nFound the json files\nASL_2008_08_06_scene24-camera1_DRESS_v0_c13_train.mov\nFound the json files\nASL_2008_08_06_scene32-camera1_ENOUGH_v1_c2_train.mov\n",
      "Found the json files\nASL_2008_08_06_scene6-camera1_COURT_v0_c3_train.mov\nFound the json files\nASL_2008_08_13_scene32-camera1_COURT_v0_c4_train.mov\nFound the json files\nASL_2010_08_10_Liz_additional_lexicon_signs_scene15-camera1_DEPOSIT_v0_c1_test.mov\nFound the json files\nASL_2010_08_10_Liz_additional_lexicon_signs_scene18-camera1_CONFLICT_v0_c1_test.mov\nFound the json files\nASL_2011_06_08_Brady_scene10-camera1_ALL_v0_c3_train.mov",
      "\nFound the json files\nASL_2011_06_08_Brady_scene14-camera1_AWKWARD_v0_c3_train.mov\nFound the json files\nASL_2011_06_08_Brady_scene18-camera1_BEHAVIOR_v1_c4_train.mov\nFound the json files\nASL_2011_06_08_Brady_scene25-camera1_CAN_v0_c4_train.mov\nFound the json files\n",
      "ASL_2011_06_08_Brady_scene26-camera1_CHAT_v2_c6_test.mov\nFound the json files\nASL_2011_06_08_Brady_scene26-camera1_CHEAP_v0_c3_train.mov\nFound the json files\nASL_2011_06_08_Brady_scene26-camera1_CHEAT_v2_c4_test.mov\nFound the json files\nASL_2011_06_08_Brady_scene27-camera1_CHURCH_v1_c3_train.mov\nFound the json files\nASL_2011_06_08_Brady_scene28-camera1_COAT_v0_c3_test.mov\nFound the json files\nASL_2011_06_08_Brady_scene29-camera1_CONFLICT_v0_c4_train.mov",
      "\nFound the json files\nASL_2011_06_08_Brady_scene30-camera1_COURT_v0_c5_train.mov\nFound the json files\nASL_2011_06_08_Brady_scene33-camera1_DEPOSIT_v0_c4_train.mov\nFound the json files\nASL_2011_06_08_Brady_scene33-camera1_DEPRESS_v0_c3_train.mov\nFound the json files",
      "\nASL_2011_06_08_Brady_scene33-camera1_DEPRESS_v0_c4_train.mov\nFound the json files\nASL_2011_06_08_Brady_scene36-camera1_DOCTOR_v2_c4_train.mov\nFound the json files\nASL_2011_06_08_Brady_scene37-camera1_DOCTOR_v1_c5_train.mov\nFound the json files\nASL_2011_06_08_Brady_scene9-camera1_AGAIN_v0_c6_test.mov\nFound the json files",
      "\nASL_2011_06_14_Brady_scene12-camera1_ENOUGH_v1_c3_train.mov\nFound the json files\nASL_2011_06_14_Brady_scene41-camera1_CONFLICT_v0_c6_train.mov\nFound the json files\nASL_2011_06_14_Brady_scene43-camera1_COURT_v0_c6_train.mov\nFound the json files\nASL_2011_06_14_Brady_scene6-camera1_CONFLICT_v0_c5_train.mov\nFound the json files",
      "\nASL_2011_06_14_Brady_scene6-camera1_WANT_NEG_v1_c2_train.mov\nFound the json files\nASL_2011_06_14_Brady_scene7-camera1_DRESS_v0_c16_test.mov\nFound the json files\nASL_2011_07_19_Brady_scene116-camera1_AGAIN_v0_c8_train.mov\nFound the json files\nASL_2011_07_19_Brady_scene39-camera1_CAN_v2_c5_train.mov\nFound the json files",
      "\nASL_2011_07_22_Brady_scene40-camera1_CHAT_v2_c7_train.mov\nFound the json files\n"
     ],
     "output_type": "stream"
    }
   ],
   "source": [
    "mov_file_lst = [f for f in os.listdir((os.path.join(project_path, dir_video)))]\n",
    "for mov_file in mov_file_lst:\n",
    "    if mov_file in exclusion_list:\n",
    "        continue\n",
    "    print(mov_file)\n",
    "    json_files_lst = [f for f in os.listdir(os.path.join(project_path, dir_json)) if os.path.splitext(mov_file)[0] in f]\n",
    "    if len(json_files_lst) > 0:\n",
    "        print('Found the json files')\n",
    "    feature_body_dict = dict()\n",
    "    feature_hand_left_dict = dict()\n",
    "    feature_hand_right_dict = dict()\n",
    "    \n",
    "    for json_f in json_files_lst:\n",
    "        with open(os.path.join(project_path, dir_json, json_f)) as ff:\n",
    "            json_code = json.load(ff)\n",
    "        \n",
    "        # This assume there is only one person\n",
    "        body_raw_lst = json_code['people'][0]['pose_keypoints_2d']\n",
    "        left_hand_raw_lst = json_code['people'][0]['hand_left_keypoints_2d']\n",
    "        right_hand_raw_lst = json_code['people'][0]['hand_right_keypoints_2d']\n",
    "        \n",
    "        for i in body_feature_set:\n",
    "            temp = feature_body_dict.get(i, [])\n",
    "            temp.append(body_raw_lst[3*i:3*(i+1)])\n",
    "            feature_body_dict[i] = temp\n",
    "            \n",
    "        for i in hand_feature_set4:\n",
    "            temp = feature_hand_left_dict.get(i, [])\n",
    "            temp.append(left_hand_raw_lst[3*i:3*(i+1)])\n",
    "            feature_hand_left_dict[i] = temp\n",
    "            \n",
    "        for i in hand_feature_set4:\n",
    "            temp = feature_hand_right_dict.get(i, [])\n",
    "            temp.append(right_hand_raw_lst[3*i:3*(i+1)])\n",
    "            feature_hand_right_dict[i] = temp\n",
    "    \n",
    "    cap = cv2.VideoCapture(os.path.join(project_path, dir_video, mov_file))\n",
    "    ret, first_frame = cap.read()\n",
    "    mask = np.zeros_like(first_frame)\n",
    "    for (k, v) in feature_body_dict.items():\n",
    "        x_0 = int(v[0][0])\n",
    "        y_0 = int(v[0][1])\n",
    "        for points in v[1:]:\n",
    "            x_1 = int(points[0])\n",
    "            y_1 = int(points[1])\n",
    "            if x_0 == 0 and y_0 == 0:\n",
    "                x_0 = x_1\n",
    "                y_0 = y_1\n",
    "            if x_1 != 0 and y_1 != 0:\n",
    "                mask = cv2.line(mask, (x_0, y_0), (x_1, y_1), color[k].tolist(), 3)\n",
    "                x_0 = x_1\n",
    "                y_0 = y_1\n",
    "                \n",
    "    for (k, v) in feature_hand_left_dict.items():\n",
    "        x_0 = int(v[0][0])\n",
    "        y_0 = int(v[0][1])\n",
    "        for points in v[1:]:\n",
    "            x_1 = int(points[0])\n",
    "            y_1 = int(points[1])\n",
    "            if x_0 == 0 and y_0 == 0:\n",
    "                x_0 = x_1\n",
    "                y_0 = y_1\n",
    "            if x_1 != 0 and y_1 != 0:\n",
    "                mask = cv2.line(mask, (x_0, y_0), (x_1, y_1), color[k+50].tolist(), 1)\n",
    "                x_0 = x_1\n",
    "                y_0 = y_1\n",
    "                \n",
    "    for (k, v) in feature_hand_right_dict.items():\n",
    "        x_0 = int(v[0][0])\n",
    "        y_0 = int(v[0][1])\n",
    "        for points in v[1:]:\n",
    "            x_1 = int(points[0])\n",
    "            y_1 = int(points[1])\n",
    "            if x_0 == 0 and y_0 == 0:\n",
    "                x_0 = x_1\n",
    "                y_0 = y_1\n",
    "            if x_1 != 0 and y_1 != 0:\n",
    "                mask = cv2.line(mask, (x_0, y_0), (x_1, y_1), color[k+100].tolist(), 1)\n",
    "                x_0 = x_1\n",
    "                y_0 = y_1\n",
    "    \n",
    "    temp_segments = len(mov_file.split('_'))\n",
    "    word = mov_file.split('_')[temp_segments-4]\n",
    "    counter = mov_file.split('_')[temp_segments-2]\n",
    "    train_test = mov_file.split('_')[temp_segments-1].split('.')[0]\n",
    "    save_file = 'mask_' + word + '_' + counter + '_' + train_test\n",
    "    # print('Save as', save_file)\n",
    "    plt.imsave(os.path.join(project_path, dir_optical_flow, save_file + '.png'), mask)\n",
    "    if 'train' in save_file:\n",
    "        plt.imsave(os.path.join(project_path, dir_transfer, word, save_file + '.png'), mask)\n",
    "    cap.release()\n",
    "    cv2.destroyAllWindows()\n"
   ],
   "metadata": {
    "collapsed": false,
    "pycharm": {
     "name": "#%%\n",
     "is_executing": false
    }
   }
  },
  {
   "cell_type": "code",
   "execution_count": 5,
   "outputs": [
    {
     "data": {
      "text/plain": "105"
     },
     "metadata": {},
     "output_type": "execute_result",
     "execution_count": 5
    }
   ],
   "source": [
    "\n",
    "len([f for f in os.listdir(os.path.join(project_path,dir_optical_flow)) if 'train' in f])"
   ],
   "metadata": {
    "collapsed": false,
    "pycharm": {
     "name": "#%%\n",
     "is_executing": false
    }
   }
  },
  {
   "cell_type": "code",
   "execution_count": 27,
   "outputs": [
    {
     "name": "stdout",
     "text": [
      "Found the json files\n"
     ],
     "output_type": "stream"
    }
   ],
   "source": [
    "mov_file_lst = [f for f in os.listdir((os.path.join(project_path, dir_video)))]\n",
    "# for mov_file in mov_file_lst:\n",
    "mov_file = mov_file_lst[0]\n",
    "json_files_lst = [f for f in os.listdir(os.path.join(project_path, dir_json)) if os.path.splitext(mov_file)[0] in f]\n",
    "if len(json_files_lst) > 0:\n",
    "    print('Found the json files')\n",
    "    \n",
    "feature_body_lst = []\n",
    "feature_hand_left_lst = []\n",
    "feature_hand_right_lst = []\n",
    "\n",
    "for json_f in json_files_lst:\n",
    "    with open(os.path.join(project_path, dir_json, json_f)) as ff:\n",
    "        json_code = json.load(ff)\n",
    "    \n",
    "    # This assume there is only one person\n",
    "    body_raw_lst = json_code['people'][0]['pose_keypoints_2d']\n",
    "    left_hand_raw_lst = json_code['people'][0]['hand_left_keypoints_2d']\n",
    "    right_hand_raw_lst = json_code['people'][0]['hand_right_keypoints_2d']\n",
    "    \n",
    "    body_raw_lst = [i for i in body_raw_lst]\n",
    "    left_hand_raw_lst = [i for i in left_hand_raw_lst if i < 1 and i != 0]\n",
    "    right_hand_raw_lst = [i for i in right_hand_raw_lst if i < 1 and i != 0]\n",
    "    \n",
    "    feature_body_lst.append(body_raw_lst)\n",
    "    feature_hand_left_lst.append(left_hand_raw_lst)\n",
    "    feature_hand_right_lst.append(right_hand_raw_lst)"
   ],
   "metadata": {
    "collapsed": false,
    "pycharm": {
     "name": "#%%\n",
     "is_executing": false
    }
   }
  },
  {
   "cell_type": "code",
   "execution_count": 28,
   "outputs": [
    {
     "name": "stdout",
     "text": [
      "elements in the list are [310.70, 129.12, 0.93, 310.92, 204.03, 0.83, 248.77, 204.33, 0.72, 218.03, 300.33, 0.77, 220.86, 218.89, 0.69, 376.02, 204.32, 0.72, 396.40, 313.73, 0.75, 359.42, 256.76, 0.74, 311.13, 382.34, 0.56, 266.61, 383.06, 0.53, 230.50, 476.41, 0.11, 0.00, 0.00, 0.00, 355.58, 385.74, 0.49, 0.00, 0.00, 0.00, 0.00, 0.00, 0.00, 297.35, 119.92, 0.97, 325.41, 120.12, 0.92, 278.73, 133.92, 0.89, 344.78, 135.58, 0.87, 0.00, 0.00, 0.00, 0.00, 0.00, 0.00, 0.00, 0.00, 0.00, 0.00, 0.00, 0.00, 0.00, 0.00, 0.00, 0.00, 0.00, 0.00]\n"
     ],
     "output_type": "stream"
    }
   ],
   "source": [
    "x = np.array(feature_body_lst).mean(axis=0)\n",
    "s = (\"elements in the list are [\"+', '.join(['%.2f']*len(x))+\"]\") % tuple(x)\n",
    "print(s)"
   ],
   "metadata": {
    "collapsed": false,
    "pycharm": {
     "name": "#%%  \n",
     "is_executing": false
    }
   }
  },
  {
   "cell_type": "code",
   "execution_count": 24,
   "outputs": [
    {
     "name": "stdout",
     "text": [
      "elements in the list are [0.05, 0.05, 0.10, 0.24, 0.32, 0.23, 0.22, 0.24, 0.30, 0.18, 0.31, 0.39, 0.52, 0.17, 0.30, 0.34, 0.35, 0.20, 0.26, 0.30, 0.35]\n"
     ],
     "output_type": "stream"
    }
   ],
   "source": [
    "x = np.array(feature_hand_left_lst).mean(axis=0)\n",
    "s = (\"elements in the list are [\"+', '.join(['%.2f']*len(x))+\"]\") % tuple(x)\n",
    "print(s)"
   ],
   "metadata": {
    "collapsed": false,
    "pycharm": {
     "name": "#%%\n",
     "is_executing": false
    }
   }
  },
  {
   "cell_type": "code",
   "execution_count": 25,
   "outputs": [
    {
     "name": "stdout",
     "text": [
      "elements in the list are [0.21, 0.23, 0.19, 0.36, 0.49, 0.46, 0.47, 0.45, 0.41, 0.51, 0.48, 0.51, 0.53, 0.52, 0.49, 0.49, 0.56, 0.52, 0.53, 0.54, 0.52]",
      "\n"
     ],
     "output_type": "stream"
    }
   ],
   "source": [
    "x = np.array(feature_hand_right_lst).mean(axis=0)\n",
    "s = (\"elements in the list are [\"+', '.join(['%.2f']*len(x))+\"]\") % tuple(x)\n",
    "print(s)"
   ],
   "metadata": {
    "collapsed": false,
    "pycharm": {
     "name": "#%%\n",
     "is_executing": false
    }
   }
  },
  {
   "cell_type": "code",
   "execution_count": 26,
   "outputs": [
    {
     "data": {
      "text/plain": "'elements in the list are [%.2f, %.2f, %.2f, %.2f, %.2f, %.2f, %.2f, %.2f, %.2f, %.2f, %.2f, %.2f, %.2f, %.2f, %.2f, %.2f, %.2f, %.2f, %.2f, %.2f, %.2f]'"
     },
     "metadata": {},
     "output_type": "execute_result",
     "execution_count": 26
    }
   ],
   "source": [
    "\"elements in the list are [\"+', '.join(['%.2f']*len(x))+\"]\"\n"
   ],
   "metadata": {
    "collapsed": false,
    "pycharm": {
     "name": "#%%\n",
     "is_executing": false
    }
   }
  },
  {
   "cell_type": "code",
   "execution_count": 21,
   "outputs": [
    {
     "data": {
      "text/plain": "[89, 107, 191]"
     },
     "metadata": {},
     "output_type": "execute_result",
     "execution_count": 21
    }
   ],
   "source": [
    "list(color[0])"
   ],
   "metadata": {
    "collapsed": false,
    "pycharm": {
     "name": "#%%\n",
     "is_executing": false
    }
   }
  },
  {
   "cell_type": "code",
   "execution_count": null,
   "outputs": [],
   "source": [
    "\n"
   ],
   "metadata": {
    "collapsed": false,
    "pycharm": {
     "name": "#%%\n"
    }
   }
  }
 ],
 "metadata": {
  "kernelspec": {
   "display_name": "Python 3",
   "language": "python",
   "name": "python3"
  },
  "language_info": {
   "codemirror_mode": {
    "name": "ipython",
    "version": 2
   },
   "file_extension": ".py",
   "mimetype": "text/x-python",
   "name": "python",
   "nbconvert_exporter": "python",
   "pygments_lexer": "ipython2",
   "version": "2.7.6"
  },
  "pycharm": {
   "stem_cell": {
    "cell_type": "raw",
    "source": [],
    "metadata": {
     "collapsed": false
    }
   }
  }
 },
 "nbformat": 4,
 "nbformat_minor": 0
}